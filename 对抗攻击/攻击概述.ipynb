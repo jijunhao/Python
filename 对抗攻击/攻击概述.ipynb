{
 "cells": [
  {
   "cell_type": "markdown",
   "id": "ea99fe0e",
   "metadata": {},
   "source": [
    "# 动机Motivation"
   ]
  },
  {
   "cell_type": "markdown",
   "id": "d18b2f70",
   "metadata": {},
   "source": [
    "+ 你已经训练了许多神经网络。\n",
    "+ 我们寻求在现实世界中部署这些神经网络。\n",
    "+ 网络对于为欺骗它们而构建的输入是否稳健？\n",
    "\n",
    "为欺骗它们而构建的输入称为攻击"
   ]
  },
  {
   "cell_type": "markdown",
   "id": "8c3a0cdf",
   "metadata": {},
   "source": [
    "# 例子\n",
    "+ 有目标的攻击\n",
    "+ 无目标的攻击\n",
    "\n",
    "神经网络softmax出来的分数就是**置信度**\n",
    "\n",
    "猫0.64+噪音==海星0.98"
   ]
  },
  {
   "cell_type": "markdown",
   "id": "62947a70",
   "metadata": {},
   "source": [
    "# 如何攻击\n",
    "\n",
    "$x^* = \\underset{d(x^0,x)\\leqslant\\epsilon}{argmin}  \\quad L(x)$\n",
    "\n",
    "\n",
    "无目标攻击$L(x)=-e(y,\\widehat{y})$\n",
    "\n",
    "\n",
    "有目标攻击$L(x)=-e(y,\\widehat{y})+e(y,y^{target})$\n",
    "\n",
    "\n",
    "例如交叉熵损失"
   ]
  },
  {
   "cell_type": "markdown",
   "id": "a56a487b",
   "metadata": {},
   "source": [
    "# 不可感知性\n",
    "$d(x^0,x)\\leqslant\\epsilon$\n",
    "\n",
    "\n",
    "$d()$可以是范数衡量\n",
    "\n",
    "\n",
    "无穷范数和2范数的应用场景不同，当四宫格每个格子变化一点点2范数等于只改变一个格子一大步"
   ]
  },
  {
   "cell_type": "markdown",
   "id": "f796cf97",
   "metadata": {},
   "source": [
    "# 攻击方法\n",
    "梯度下降法（针对知道参数的模型）\n",
    "+ FGSM:https://arxiv.org/abs/1412.6572\n",
    "+ Iterative FGSM:https://arxiv.org/abs/1607.02533"
   ]
  },
  {
   "cell_type": "markdown",
   "id": "4edab599",
   "metadata": {},
   "source": [
    "# 白盒攻击和黑盒攻击\n",
    "大多数在线网络API无法获取模型参数"
   ]
  },
  {
   "cell_type": "markdown",
   "id": "14c9619c",
   "metadata": {},
   "source": [
    "# 黑盒攻击方法\n",
    "+ 有目标网络的训练数据，可以训练一个代理网络，使用代理网络来生成攻击对象https://arxiv.org/pdf/1611.02770.pdf\n",
    "+ Ensemble Attack"
   ]
  },
  {
   "cell_type": "markdown",
   "id": "ed8f0be5",
   "metadata": {},
   "source": [
    "# 解释攻击成功的原因\n",
    "https://arxiv.org/pdf/1611.02770.pdf\n",
    "\n",
    "\n",
    "https://arxiv.org/abs/1905.02175"
   ]
  },
  {
   "cell_type": "markdown",
   "id": "c0e731d7",
   "metadata": {},
   "source": [
    "# 一个像素点的攻击\n",
    "https://arxiv.org/abs/1710.08864"
   ]
  },
  {
   "cell_type": "markdown",
   "id": "4f70b451",
   "metadata": {},
   "source": [
    "# 通用对抗攻击\n",
    "\n",
    "https://arxiv.org/abs/1610.08401"
   ]
  },
  {
   "cell_type": "markdown",
   "id": "0f5317a2",
   "metadata": {},
   "source": [
    "# NLP 的攻击\n",
    "https://arxiv.org/abs/1908.07125"
   ]
  },
  {
   "cell_type": "markdown",
   "id": "fbf96f51",
   "metadata": {},
   "source": [
    "# 真实物理世界的攻击\n",
    "https://arxiv.org/abs/1707.08945"
   ]
  },
  {
   "cell_type": "markdown",
   "id": "e10ff560",
   "metadata": {},
   "source": [
    "# 对抗重编程\n",
    "https://arxiv.org/abs/1806.11146"
   ]
  },
  {
   "cell_type": "markdown",
   "id": "55d1dffe",
   "metadata": {},
   "source": [
    "# 后门攻击、数据投毒\n",
    "https://arxiv.org/abs/1804.00792"
   ]
  },
  {
   "cell_type": "markdown",
   "id": "2f97bdf5",
   "metadata": {},
   "source": [
    "+ FGSM (https://arxiv.org/abs/1412.6572)\n",
    "+ Basic iterative method (https://arxiv.org/abs/1607.02533)\n",
    "+ L-BFGS (https://arxiv.org/abs/1312.6199)\n",
    "+ Deepfool (https://arxiv.org/abs/1511.04599)\n",
    "+ JSMA (https://arxiv.org/abs/1511.07528)\n",
    "+ C&W (https://arxiv.org/abs/1608.04644)\n",
    "+ Elastic net attack (https://arxiv.org/abs/1709.04114)\n",
    "+ Spatially Transformed (https://arxiv.org/abs/1801.02612)\n",
    "+ One Pixel Attack (https://arxiv.org/abs/1710.08864)"
   ]
  },
  {
   "cell_type": "code",
   "execution_count": null,
   "id": "3876ea04",
   "metadata": {},
   "outputs": [],
   "source": []
  }
 ],
 "metadata": {
  "kernelspec": {
   "display_name": "Python 3 (ipykernel)",
   "language": "python",
   "name": "python3"
  },
  "language_info": {
   "codemirror_mode": {
    "name": "ipython",
    "version": 3
   },
   "file_extension": ".py",
   "mimetype": "text/x-python",
   "name": "python",
   "nbconvert_exporter": "python",
   "pygments_lexer": "ipython3",
   "version": "3.9.7"
  }
 },
 "nbformat": 4,
 "nbformat_minor": 5
}
