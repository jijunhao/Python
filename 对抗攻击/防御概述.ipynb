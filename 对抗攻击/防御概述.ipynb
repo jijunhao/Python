{
 "cells": [
  {
   "cell_type": "markdown",
   "id": "c72f84bf",
   "metadata": {},
   "source": [
    "# 被动防御\n",
    "+ 滤波filter模糊化\n",
    "+ 图像压缩jpeg\n",
    "\n",
    "https://arxiv.org/abs/1704.01155\n",
    "\n",
    "https://arxiv.org/abs/1802.06816\n",
    "+ Generator重现\n",
    "\n",
    "https://arxiv.org/abs/1805.06605\n",
    "\n",
    "+ 随机防御\n",
    "\n",
    "https://arxiv.org/abs/1711.01991"
   ]
  },
  {
   "cell_type": "markdown",
   "id": "4e55332f",
   "metadata": {},
   "source": [
    "# 主动防御\n",
    "+ 对抗训练（数据增强）\n",
    "\n",
    "+ https://arxiv.org/abs/1904.12843"
   ]
  },
  {
   "cell_type": "code",
   "execution_count": null,
   "id": "307376e6",
   "metadata": {},
   "outputs": [],
   "source": []
  }
 ],
 "metadata": {
  "kernelspec": {
   "display_name": "Python 3 (ipykernel)",
   "language": "python",
   "name": "python3"
  },
  "language_info": {
   "codemirror_mode": {
    "name": "ipython",
    "version": 3
   },
   "file_extension": ".py",
   "mimetype": "text/x-python",
   "name": "python",
   "nbconvert_exporter": "python",
   "pygments_lexer": "ipython3",
   "version": "3.9.7"
  }
 },
 "nbformat": 4,
 "nbformat_minor": 5
}
