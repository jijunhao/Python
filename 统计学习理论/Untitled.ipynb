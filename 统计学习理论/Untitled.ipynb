{
 "cells": [
  {
   "cell_type": "code",
   "execution_count": 3,
   "metadata": {},
   "outputs": [],
   "source": [
    "from libsvm.tools.checkdata import *\n",
    "from libsvm.tools.grid import *\n",
    "from libsvm.python.svm import *"
   ]
  },
  {
   "cell_type": "code",
   "execution_count": 2,
   "metadata": {},
   "outputs": [
    {
     "name": "stdout",
     "output_type": "stream",
     "text": [
      "[local] 0.0 0.0 75.5556 (best c=1.0, g=1.0, rate=75.5556)\n",
      "[local] 0.0 -2.0 80.0 (best c=1.0, g=0.25, rate=80.0)\n",
      "[local] -2.0 0.0 66.2963 (best c=1.0, g=0.25, rate=80.0)\n",
      "[local] -2.0 -2.0 82.2222 (best c=0.25, g=0.25, rate=82.2222)\n",
      "[local] 0.0 2.0 67.7778 (best c=0.25, g=0.25, rate=82.2222)\n",
      "[local] -2.0 2.0 55.5556 (best c=0.25, g=0.25, rate=82.2222)\n",
      "[local] 2.0 0.0 76.2963 (best c=0.25, g=0.25, rate=82.2222)\n",
      "[local] 2.0 -2.0 77.7778 (best c=0.25, g=0.25, rate=82.2222)\n",
      "[local] 2.0 2.0 67.4074 (best c=0.25, g=0.25, rate=82.2222)\n",
      "[local] 0.0 -3.0 81.4815 (best c=0.25, g=0.25, rate=82.2222)\n",
      "[local] -2.0 -3.0 82.2222 (best c=0.25, g=0.25, rate=82.2222)\n",
      "[local] 2.0 -3.0 77.7778 (best c=0.25, g=0.25, rate=82.2222)\n",
      "[local] -3.0 0.0 58.1481 (best c=0.25, g=0.25, rate=82.2222)\n",
      "[local] -3.0 -2.0 82.2222 (best c=0.125, g=0.25, rate=82.2222)\n",
      "[local] -3.0 2.0 55.5556 (best c=0.125, g=0.25, rate=82.2222)\n",
      "[local] -3.0 -3.0 81.4815 (best c=0.125, g=0.25, rate=82.2222)\n",
      "[local] 0.0 1.0 73.3333 (best c=0.125, g=0.25, rate=82.2222)\n",
      "[local] -2.0 1.0 57.7778 (best c=0.125, g=0.25, rate=82.2222)\n",
      "[local] 2.0 1.0 72.2222 (best c=0.125, g=0.25, rate=82.2222)\n",
      "[local] -3.0 1.0 55.5556 (best c=0.125, g=0.25, rate=82.2222)\n",
      "[local] 1.0 0.0 77.037 (best c=0.125, g=0.25, rate=82.2222)\n",
      "[local] 1.0 -2.0 78.1481 (best c=0.125, g=0.25, rate=82.2222)\n",
      "[local] 1.0 2.0 67.4074 (best c=0.125, g=0.25, rate=82.2222)\n",
      "[local] 1.0 -3.0 81.1111 (best c=0.125, g=0.25, rate=82.2222)\n",
      "[local] 1.0 1.0 72.2222 (best c=0.125, g=0.25, rate=82.2222)\n",
      "[local] 0.0 -1.0 78.5185 (best c=0.125, g=0.25, rate=82.2222)\n",
      "[local] -2.0 -1.0 79.6296 (best c=0.125, g=0.25, rate=82.2222)\n",
      "[local] 2.0 -1.0 76.6667 (best c=0.125, g=0.25, rate=82.2222)\n",
      "[local] -3.0 -1.0 73.7037 (best c=0.125, g=0.25, rate=82.2222)\n",
      "[local] 1.0 -1.0 78.5185 (best c=0.125, g=0.25, rate=82.2222)\n",
      "[local] -1.0 0.0 74.8148 (best c=0.125, g=0.25, rate=82.2222)\n",
      "[local] -1.0 -2.0 81.8519 (best c=0.125, g=0.25, rate=82.2222)\n",
      "[local] -1.0 2.0 57.037 (best c=0.125, g=0.25, rate=82.2222)\n",
      "[local] -1.0 -3.0 82.5926 (best c=0.5, g=0.125, rate=82.5926)\n",
      "[local] -1.0 1.0 63.7037 (best c=0.5, g=0.125, rate=82.5926)\n",
      "[local] -1.0 -1.0 81.1111 (best c=0.5, g=0.125, rate=82.5926)\n",
      "[local] 0.0 3.0 59.2593 (best c=0.5, g=0.125, rate=82.5926)\n",
      "[local] -2.0 3.0 55.5556 (best c=0.5, g=0.125, rate=82.5926)\n",
      "[local] 2.0 3.0 61.8519 (best c=0.5, g=0.125, rate=82.5926)\n",
      "[local] -3.0 3.0 55.5556 (best c=0.5, g=0.125, rate=82.5926)\n",
      "[local] 1.0 3.0 61.8519 (best c=0.5, g=0.125, rate=82.5926)\n",
      "[local] -1.0 3.0 55.5556 (best c=0.5, g=0.125, rate=82.5926)\n",
      "[local] 3.0 0.0 75.5556 (best c=0.5, g=0.125, rate=82.5926)\n",
      "[local] 3.0 -2.0 77.7778 (best c=0.5, g=0.125, rate=82.5926)\n",
      "[local] 3.0 2.0 67.4074 (best c=0.5, g=0.125, rate=82.5926)\n",
      "[local] 3.0 -3.0 78.8889 (best c=0.5, g=0.125, rate=82.5926)\n",
      "[local] 3.0 1.0 72.2222 (best c=0.5, g=0.125, rate=82.5926)\n",
      "[local] 3.0 -1.0 76.6667 (best c=0.5, g=0.125, rate=82.5926)\n",
      "[local] 3.0 3.0 61.8519 (best c=0.5, g=0.125, rate=82.5926)\n",
      "0.5 0.125 82.5926\n"
     ]
    }
   ],
   "source": []
  },
  {
   "cell_type": "code",
   "execution_count": null,
   "metadata": {},
   "outputs": [],
   "source": []
  }
 ],
 "metadata": {
  "celltoolbar": "Raw Cell Format",
  "kernelspec": {
   "display_name": "Python 3",
   "language": "python",
   "name": "python3"
  },
  "language_info": {
   "codemirror_mode": {
    "name": "ipython",
    "version": 3
   },
   "file_extension": ".py",
   "mimetype": "text/x-python",
   "name": "python",
   "nbconvert_exporter": "python",
   "pygments_lexer": "ipython3",
   "version": "3.8.5"
  },
  "toc": {
   "base_numbering": 1,
   "nav_menu": {},
   "number_sections": true,
   "sideBar": true,
   "skip_h1_title": false,
   "title_cell": "Table of Contents",
   "title_sidebar": "Contents",
   "toc_cell": false,
   "toc_position": {},
   "toc_section_display": true,
   "toc_window_display": false
  },
  "varInspector": {
   "cols": {
    "lenName": 16,
    "lenType": 16,
    "lenVar": 40
   },
   "kernels_config": {
    "python": {
     "delete_cmd_postfix": "",
     "delete_cmd_prefix": "del ",
     "library": "var_list.py",
     "varRefreshCmd": "print(var_dic_list())"
    },
    "r": {
     "delete_cmd_postfix": ") ",
     "delete_cmd_prefix": "rm(",
     "library": "var_list.r",
     "varRefreshCmd": "cat(var_dic_list()) "
    }
   },
   "position": {
    "height": "580.534px",
    "left": "943.364px",
    "right": "20px",
    "top": "108px",
    "width": "350px"
   },
   "types_to_exclude": [
    "module",
    "function",
    "builtin_function_or_method",
    "instance",
    "_Feature"
   ],
   "window_display": false
  }
 },
 "nbformat": 4,
 "nbformat_minor": 4
}
