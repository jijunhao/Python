{
 "cells": [
  {
   "cell_type": "code",
   "execution_count": 9,
   "metadata": {
    "scrolled": true
   },
   "outputs": [
    {
     "data": {
      "image/png": "[encoded data removed]",
      "text/plain": [
       "<Figure size 432x288 with 1 Axes>"
      ]
     },
     "metadata": {
      "needs_background": "light"
     },
     "output_type": "display_data"
    }
   ],
   "source": [
    "\"\"\"\n",
    "四维数据利用PCA降维和不降维在二维空间的对比\n",
    "\"\"\"\n",
    "\n",
    "\n",
    "import numpy as np\n",
    "import pandas as pd\n",
    "%matplotlib inline\n",
    "import matplotlib.pyplot as plt  #2D绘图库\n",
    "\n",
    "\n",
    "\n",
    "#计算均值,要求输入数据为numpy的矩阵格式，行表示样本数，列表示特征\n",
    "def meanX(dataX):\n",
    "    return np.mean(dataX,axis=0)       #axis=0表示按照列来求均值，如果输入list,则axis=1\n",
    "\n",
    "\n",
    "#PCA降维函数\n",
    "def pca(XMat, k):     #k为降维后的维数\n",
    "    average = meanX(XMat)\n",
    "    m, n = np.shape(XMat)     #m个样本，n个特征\n",
    "    data_adjust = []\n",
    "    avgs = np.tile(average, (m, 1))    #将均值数组转换为m行数组，以进行后续减法操作\n",
    "    \n",
    "    data_adjust = XMat - avgs\n",
    "    covX = np.cov(data_adjust.T)   #计算协方差矩阵\n",
    "    \n",
    "    featValue, featVec=  np.linalg.eig(covX)   #np.linalg.eig求解协方差矩阵的特征值和特征向量\n",
    "    index = np.argsort(-featValue)   #按照featValue进行从大到小排序\n",
    "    #np.argsort(a)返回数组a中元素值从小到大排序后的索引值组成的数组\n",
    "    #np.argsort(-a)返回数组a中元素值从大到小排序后的索引值组成的数组\n",
    "    \n",
    "    finalData = []\n",
    "    \n",
    "    if k > n:\n",
    "        print (\"k must lower than feature number\")\n",
    "        return\n",
    "    else:\n",
    "        #注意特征向量是列向量，需要转置\n",
    "        selectVec = np.matrix(featVec.T[index[:k]]) \n",
    "        finalData = data_adjust * selectVec.T       #降维后的所有训练样本\n",
    "        reconData = (finalData * selectVec) + average   #降维前的所有训练样本\n",
    "    return finalData, reconData\n",
    "\n",
    "\n",
    "\n",
    "\n",
    "\n",
    "#加载训练样本函数\n",
    "def loaddata(datafile):\n",
    "    f=open(datafile)\n",
    "    return pd.read_csv(f,sep=\"\\t\",header=None)\n",
    "\n",
    "\n",
    "\n",
    "\n",
    "#可视化函数\n",
    "def plotBestFit(data1, data2):\n",
    "    dataArr1 = np.array(data1)\n",
    "    dataArr2 = np.array(data2)\n",
    "\n",
    "    m = np.shape(dataArr1)[0]\n",
    "    \n",
    "    axis_x1 = []\n",
    "    axis_y1 = []\n",
    "    axis_x2 = []\n",
    "    axis_y2 = []\n",
    "    \n",
    "    for i in range(m):\n",
    "        axis_x1.append(dataArr1[i,0])\n",
    "        axis_y1.append(dataArr1[i,1])\n",
    "        axis_x2.append(dataArr2[i,0])\n",
    "        axis_y2.append(dataArr2[i,1])\n",
    "    \n",
    "    fig = plt.figure()\n",
    "    ax = fig.add_subplot(111)\n",
    "    ax.scatter(axis_x1, axis_y1, s=30, c='red', marker='s')\n",
    "    ax.scatter(axis_x2, axis_y2, s=30, c='blue')\n",
    "    plt.xlabel('x1'); plt.ylabel('x2');\n",
    "    \n",
    "    plt.savefig(\"outfile.png\")    #保存图片\n",
    "    plt.show()\n",
    "\n",
    "    \n",
    "    \n",
    "    \n",
    "    \n",
    "#主函数\n",
    "def main():\n",
    "    datafile = \"seed.txt\"\n",
    "    XMat = np.array(loaddata(datafile).iloc[:,0:7])\n",
    "    k = 2\n",
    "    return pca(XMat, k)\n",
    "\n",
    "\n",
    "\n",
    "\n",
    "\n",
    "if __name__ == \"__main__\":\n",
    "    finalData, reconMat = main()\n",
    "    #print(finalData)\n",
    "    #print(reconMat)\n",
    "    #print(reconMat[2,0])\n",
    "    plotBestFit(finalData, reconMat)"
   ]
  },
  {
   "cell_type": "code",
   "execution_count": null,
   "metadata": {},
   "outputs": [],
   "source": []
  }
 ],
 "metadata": {
  "kernelspec": {
   "display_name": "Python 3",
   "language": "python",
   "name": "python3"
  },
  "language_info": {
   "codemirror_mode": {
    "name": "ipython",
    "version": 3
   },
   "file_extension": ".py",
   "mimetype": "text/x-python",
   "name": "python",
   "nbconvert_exporter": "python",
   "pygments_lexer": "ipython3",
   "version": "3.8.5"
  },
  "varInspector": {
   "cols": {
    "lenName": 16,
    "lenType": 16,
    "lenVar": 40
   },
   "kernels_config": {
    "python": {
     "delete_cmd_postfix": "",
     "delete_cmd_prefix": "del ",
     "library": "var_list.py",
     "varRefreshCmd": "print(var_dic_list())"
    },
    "r": {
     "delete_cmd_postfix": ") ",
     "delete_cmd_prefix": "rm(",
     "library": "var_list.r",
     "varRefreshCmd": "cat(var_dic_list()) "
    }
   },
   "types_to_exclude": [
    "module",
    "function",
    "builtin_function_or_method",
    "instance",
    "_Feature"
   ],
   "window_display": false
  }
 },
 "nbformat": 4,
 "nbformat_minor": 2
}
