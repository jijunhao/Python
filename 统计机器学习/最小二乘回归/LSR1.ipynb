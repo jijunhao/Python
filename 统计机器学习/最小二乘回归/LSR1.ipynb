{
 "cells": [
  {
   "cell_type": "code",
   "execution_count": 1,
   "metadata": {},
   "outputs": [
    {
     "name": "stdout",
     "output_type": "stream",
     "text": [
      "Coeff: 1.4 Intercept: 3.5\n"
     ]
    }
   ],
   "source": [
    "\"根据偏导为0估计参数\"\n",
    "\n",
    "\n",
    "#样本数据\n",
    "X=[1,2,3,4]\n",
    "Y=[6,5,7,10]\n",
    "\n",
    "\n",
    "#初始化赋值\n",
    "s1 = 0\n",
    "s2 = 0\n",
    "s3 = 0\n",
    "s4 = 0\n",
    "n = 4 \n",
    "\n",
    "\n",
    "#循环累加\n",
    "for i in range(n):\n",
    "    s1 = s1 + X[i]*Y[i]\n",
    "    s2 = s2 + X[i]\n",
    "    s3 = s3 + Y[i]\n",
    "    s4 = s4 + X[i]*X[i]\n",
    "    \n",
    "\n",
    "#计算斜率和截距\n",
    "b = (s2*s3-n*s1)/(s2*s2-s4*n)\n",
    "a = (s3 - b*s2)/n\n",
    "print(\"Coeff: {} Intercept: {}\".format(b, a))"
   ]
  },
  {
   "cell_type": "code",
   "execution_count": 7,
   "metadata": {},
   "outputs": [
    {
     "name": "stdout",
     "output_type": "stream",
     "text": [
      "[[5.]]\n"
     ]
    }
   ],
   "source": [
    "\"直接根据最小二乘通解估计参数\"\n",
    "\n",
    "\n",
    "from numpy.linalg import inv     # 矩阵求逆\n",
    "from numpy import dot     # 矩阵点乘\n",
    "from numpy import mat     # 二维矩阵\n",
    " \n",
    "X = mat([1, 2, 3]).reshape(3, 1)       # x为1,2,3\n",
    "Y = mat([5, 10, 15]).reshape(3, 1)     # y为5,10,15\n",
    "\n",
    "a = dot(dot(inv(dot(X.T, X)), X.T), Y)  # 最小二乘法公式\n",
    "print(a)"
   ]
  },
  {
   "cell_type": "code",
   "execution_count": null,
   "metadata": {},
   "outputs": [],
   "source": []
  }
 ],
 "metadata": {
  "kernelspec": {
   "display_name": "Python 3.6.5 64-bit (conda)",
   "language": "python",
   "name": "python36564bitcondabd881634ef594d9bb40eec9df73ed667"
  },
  "language_info": {
   "codemirror_mode": {
    "name": "ipython",
    "version": 3
   },
   "file_extension": ".py",
   "mimetype": "text/x-python",
   "name": "python",
   "nbconvert_exporter": "python",
   "pygments_lexer": "ipython3",
   "version": "3.6.5"
  }
 },
 "nbformat": 4,
 "nbformat_minor": 2
}
