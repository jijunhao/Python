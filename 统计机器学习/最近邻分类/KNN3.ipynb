{
 "cells": [
  {
   "cell_type": "code",
   "execution_count": 13,
   "metadata": {},
   "outputs": [
    {
     "name": "stdout",
     "output_type": "stream",
     "text": [
      "B\n"
     ]
    }
   ],
   "source": [
    "import numpy as np\n",
    "import operator    \n",
    "#operator模块封装了很多操作相关的函数，比如加减乘除、比较运算、逻辑运算、矩阵相乘等，还有一些封装好的类，用起来比较高效\n",
    "\n",
    "\n",
    "class KNN:\n",
    "    def createDataset(self):\n",
    "        group = np.array([[1.0,1.1],[1.0,1.0],[0,0],[0,0.1]])\n",
    "        labels = ['A','A','B','B']\n",
    "        return group,labels\n",
    "\n",
    "    def KnnClassify(self,testX,trainX,labels,K):\n",
    "        [N,M]=trainX.shape\n",
    "\n",
    "        #calculate the distance between testX and other training samples\n",
    "        difference = np.tile(testX,(N,1)) - trainX      #np.tile()将testX复制N份\n",
    "        difference = difference ** 2  \n",
    "        distance = difference.sum(1)   \n",
    "        distance = distance ** 0.5\n",
    "        sortdiffidx = distance.argsort()     \n",
    "        #x.argsort()先对x中的元素从小到大排序，然后返回排序后元素的初始索引组成的数组\n",
    "\n",
    "       \n",
    "        # find the k nearest neighbours\n",
    "        vote = {}         #create the dictionary\n",
    "        for i in range(K):\n",
    "            ith_label = labels[sortdiffidx[i]];\n",
    "            vote[ith_label] = vote.get(ith_label,0)+1     \n",
    "        sortedvote = sorted(vote.items(),key = lambda x:x[1], reverse = True)\n",
    "        # x[1]表示按照各个类别的个数A排序\n",
    "        # reverse=True表示降序\n",
    "        \n",
    "        return sortedvote[0][0]\n",
    "\n",
    "\n",
    "\n",
    "k = KNN()        #创建KNN实例对象\n",
    "group,labels = k.createDataset()\n",
    "cls = k.KnnClassify([0,0],group,labels,3)\n",
    "print(cls)"
   ]
  },
  {
   "cell_type": "code",
   "execution_count": null,
   "metadata": {},
   "outputs": [],
   "source": []
  }
 ],
 "metadata": {
  "kernelspec": {
   "display_name": "Python 3.6.5 64-bit (conda)",
   "language": "python",
   "name": "python36564bitcondabd881634ef594d9bb40eec9df73ed667"
  },
  "language_info": {
   "codemirror_mode": {
    "name": "ipython",
    "version": 3
   },
   "file_extension": ".py",
   "mimetype": "text/x-python",
   "name": "python",
   "nbconvert_exporter": "python",
   "pygments_lexer": "ipython3",
   "version": "3.6.5"
  }
 },
 "nbformat": 4,
 "nbformat_minor": 2
}
