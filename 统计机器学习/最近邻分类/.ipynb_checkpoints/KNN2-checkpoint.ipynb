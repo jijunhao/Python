{
 "cells": [
  {
   "cell_type": "code",
   "execution_count": 1,
   "metadata": {},
   "outputs": [
    {
     "name": "stdout",
     "output_type": "stream",
     "text": [
      "测试数据集得分：0.78\n",
      "[2]\n",
      "预测新酒的分类为：['class_2']\n"
     ]
    }
   ],
   "source": [
    "from sklearn.datasets import load_wine     #导入红酒数据集\n",
    "from sklearn.model_selection import train_test_split     #导入数据集拆分工具\n",
    "from sklearn.neighbors import KNeighborsClassifier     #导入KNN分类模型\n",
    "import numpy as np\n",
    "\n",
    "\n",
    "wineDataSet=load_wine()\n",
    "#print(wineDataSet)\n",
    "#print(\"红酒数据集中的键：\\n{}\".format(wineDataSet.keys()))\n",
    "#print(\"数据概况：\\n{}\".format(wineDataSet['data'].shape))\n",
    "#print(wineDataSet['feature_names'])\n",
    "#print(wineDataSet['target_names'])\n",
    " \n",
    "    \n",
    "# 将数据集拆分为训练数据集和测试数据集\n",
    "X_train,X_test,y_train,y_test=train_test_split(wineDataSet['data'],wineDataSet['target'],test_size=45,random_state=0)\n",
    "#print(\"X_train shape:{}\".format(X_train.shape))\n",
    "#print(\"X_test shape:{}\".format(X_test.shape))\n",
    "#print(\"y_train shape:{}\".format(y_train.shape))\n",
    "#print(\"y_test shape:{}\".format(y_test.shape))\n",
    " \n",
    "    \n",
    "knn = KNeighborsClassifier(n_neighbors=4)    #创建模型对象\n",
    "knn.fit(X_train,y_train)\n",
    "#print(knn)\n",
    " \n",
    "    \n",
    "    \n",
    "#评估模型的准确率\n",
    "print('测试数据集得分：{:.2f}'.format(knn.score(X_test,y_test)))       #knn.score对测试集进行预测并评分\n",
    "\n",
    "\n",
    "      \n",
    "# 使用建好的模型对新酒进行分类预测\n",
    "X_new = np.array([[13.2,2.77,2.51,18.5,96.6,1.04,2.55,0.57,1.47,6.2,1.05,3.33,820]])\n",
    "prediction = knn.predict(X_new)\n",
    "print(prediction)\n",
    "print(\"预测新酒的分类为：{}\".format(wineDataSet['target_names'][prediction]))"
   ]
  },
  {
   "cell_type": "code",
   "execution_count": 3,
   "metadata": {},
   "outputs": [
    {
     "data": {
      "text/plain": [
       "array([1.364e+01, 3.100e+00, 2.560e+00, 1.520e+01, 1.160e+02, 2.700e+00,\n",
       "       3.030e+00, 1.700e-01, 1.660e+00, 5.100e+00, 9.600e-01, 3.360e+00,\n",
       "       8.450e+02])"
      ]
     },
     "execution_count": 3,
     "metadata": {},
     "output_type": "execute_result"
    }
   ],
   "source": [
    "X_train[0,:]"
   ]
  },
  {
   "cell_type": "code",
   "execution_count": null,
   "metadata": {},
   "outputs": [],
   "source": []
  }
 ],
 "metadata": {
  "kernelspec": {
   "display_name": "Python 3",
   "language": "python",
   "name": "python3"
  },
  "language_info": {
   "codemirror_mode": {
    "name": "ipython",
    "version": 3
   },
   "file_extension": ".py",
   "mimetype": "text/x-python",
   "name": "python",
   "nbconvert_exporter": "python",
   "pygments_lexer": "ipython3",
   "version": "3.8.3"
  },
  "varInspector": {
   "cols": {
    "lenName": 16,
    "lenType": 16,
    "lenVar": 40
   },
   "kernels_config": {
    "python": {
     "delete_cmd_postfix": "",
     "delete_cmd_prefix": "del ",
     "library": "var_list.py",
     "varRefreshCmd": "print(var_dic_list())"
    },
    "r": {
     "delete_cmd_postfix": ") ",
     "delete_cmd_prefix": "rm(",
     "library": "var_list.r",
     "varRefreshCmd": "cat(var_dic_list()) "
    }
   },
   "types_to_exclude": [
    "module",
    "function",
    "builtin_function_or_method",
    "instance",
    "_Feature"
   ],
   "window_display": false
  }
 },
 "nbformat": 4,
 "nbformat_minor": 2
}
