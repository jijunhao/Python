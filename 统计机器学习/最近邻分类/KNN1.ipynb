{
 "cells": [
  {
   "cell_type": "code",
   "execution_count": 1,
   "metadata": {},
   "outputs": [
    {
     "name": "stdout",
     "output_type": "stream",
     "text": [
      "[['宝贝当家', 23.43], ['美人鱼', 18.55], ['澳门风云3', 32.14], ['功夫熊猫3', 21.47], ['谍影重重', 43.87], ['叶问3', 52.01], ['伦敦陷落', 43.42], ['我的特工爷爷', 17.49], ['奔爱', 47.69], ['夜孔雀', 39.66], ['代理情人', 40.57], ['新步步惊心', 34.44]]\n",
      "[['我的特工爷爷', 17.49], ['美人鱼', 18.55], ['功夫熊猫3', 21.47], ['宝贝当家', 23.43], ['澳门风云3', 32.14]]\n",
      "[('喜剧片', 4), ('动作片', 1), ('爱情片', 0)]\n",
      "喜剧片\n"
     ]
    }
   ],
   "source": [
    "import math\n",
    "\n",
    "movie_data = {\"宝贝当家\": [45, 2, 9, \"喜剧片\"],\n",
    "              \"美人鱼\": [21, 17, 5, \"喜剧片\"],\n",
    "              \"澳门风云3\": [54, 9, 11, \"喜剧片\"],\n",
    "              \"功夫熊猫3\": [39, 0, 31, \"喜剧片\"],\n",
    "              \"谍影重重\": [5, 2, 57, \"动作片\"],\n",
    "              \"叶问3\": [3, 2, 65, \"动作片\"],\n",
    "              \"伦敦陷落\": [2, 3, 55, \"动作片\"],\n",
    "              \"我的特工爷爷\": [6, 4, 21, \"动作片\"],\n",
    "              \"奔爱\": [7, 46, 4, \"爱情片\"],\n",
    "              \"夜孔雀\": [9, 39, 8, \"爱情片\"],\n",
    "              \"代理情人\": [9, 38, 2, \"爱情片\"],\n",
    "              \"新步步惊心\": [8, 34, 17, \"爱情片\"]}\n",
    "\n",
    "# 测试样本  唐人街探案\": [23, 3, 17, \"？片\"]\n",
    "#下面为求与数据集中所有数据的距离代码：\n",
    "x = [23, 3, 17]\n",
    "KNN = []\n",
    "\n",
    "for key, v in movie_data.items():\n",
    "    d = math.sqrt((x[0] - v[0]) ** 2 + (x[1] - v[1]) ** 2 + (x[2] - v[2]) ** 2)\n",
    "    KNN.append([key, round(d, 2)])\n",
    "\n",
    "# 输出所用电影到唐人街探案的距离\n",
    "print(KNN)\n",
    "\n",
    "#按照距离大小进行递增排序\n",
    "KNN.sort(key=lambda dis: dis[1])\n",
    "\n",
    "#选取距离最小的k个样本，这里取k=5；\n",
    "KNN=KNN[:5]\n",
    "print(KNN)\n",
    "\n",
    "#确定前k个样本所在类别出现的频率，并输出出现频率最高的类别\n",
    "labels = {\"喜剧片\":0,\"动作片\":0,\"爱情片\":0}\n",
    "\n",
    "for s in KNN:\n",
    "    label = movie_data[s[0]]\n",
    "    labels[label[3]] += 1\n",
    "labels =sorted(labels.items(),key=lambda l: l[1],reverse=True)\n",
    "\n",
    "print(labels,labels[0][0],sep='\\n')\n"
   ]
  },
  {
   "cell_type": "code",
   "execution_count": null,
   "metadata": {},
   "outputs": [],
   "source": []
  }
 ],
 "metadata": {
  "kernelspec": {
   "display_name": "Python 3.6.5 64-bit (conda)",
   "language": "python",
   "name": "python36564bitcondabd881634ef594d9bb40eec9df73ed667"
  },
  "language_info": {
   "codemirror_mode": {
    "name": "ipython",
    "version": 3
   },
   "file_extension": ".py",
   "mimetype": "text/x-python",
   "name": "python",
   "nbconvert_exporter": "python",
   "pygments_lexer": "ipython3",
   "version": "3.6.5"
  }
 },
 "nbformat": 4,
 "nbformat_minor": 2
}
