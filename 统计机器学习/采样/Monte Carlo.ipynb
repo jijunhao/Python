{
 "cells": [
  {
   "cell_type": "code",
   "execution_count": 1,
   "metadata": {},
   "outputs": [
    {
     "name": "stdout",
     "output_type": "stream",
     "text": [
      "3.142308\n"
     ]
    }
   ],
   "source": [
    "import random   #random模块用于生成随机数\n",
    "\n",
    "\n",
    "def calpai():\n",
    "    n = 1000000\n",
    "    r = 1.0\n",
    "    a, b = (0.0, 0.0)\n",
    "    x_neg, x_pos = a - r, a + r\n",
    "    y_neg, y_pos = b - r, b + r\n",
    "\n",
    "    count = 0\n",
    "    for i in range(0, n):\n",
    "        x = random.uniform(x_neg, x_pos)\n",
    "        y = random.uniform(y_neg, y_pos)\n",
    "        if x*x + y*y <= 1.0:\n",
    "            count += 1\n",
    "\n",
    "    return (count / float(n)) * 4\n",
    "\n",
    "pai=calpai()\n",
    "print(pai)"
   ]
  },
  {
   "cell_type": "code",
   "execution_count": 2,
   "metadata": {},
   "outputs": [
    {
     "name": "stdout",
     "output_type": "stream",
     "text": [
      "0.333724\n"
     ]
    }
   ],
   "source": [
    "def integral():\n",
    "    n = 1000000\n",
    "    x_min, x_max = 0.0, 1.0\n",
    "    y_min, y_max = 0.0, 1.0\n",
    "\n",
    "    count = 0\n",
    "    for i in range(0, n):\n",
    "        x = random.uniform(x_min, x_max)\n",
    "        y = random.uniform(y_min, y_max)\n",
    "        # x*x > y，表示该点位于曲线的下面。所求的积分值即为曲线下方的面积与正方形面积的比。\n",
    "        if x*x > y:\n",
    "            count += 1\n",
    "    return count / float(n)\n",
    "\n",
    "integral_value = integral()\n",
    "print(integral_value)"
   ]
  }
 ],
 "metadata": {
  "kernelspec": {
   "display_name": "Python 3",
   "language": "python",
   "name": "python3"
  },
  "language_info": {
   "codemirror_mode": {
    "name": "ipython",
    "version": 3
   },
   "file_extension": ".py",
   "mimetype": "text/x-python",
   "name": "python",
   "nbconvert_exporter": "python",
   "pygments_lexer": "ipython3",
   "version": "3.8.3"
  },
  "varInspector": {
   "cols": {
    "lenName": 16,
    "lenType": 16,
    "lenVar": 40
   },
   "kernels_config": {
    "python": {
     "delete_cmd_postfix": "",
     "delete_cmd_prefix": "del ",
     "library": "var_list.py",
     "varRefreshCmd": "print(var_dic_list())"
    },
    "r": {
     "delete_cmd_postfix": ") ",
     "delete_cmd_prefix": "rm(",
     "library": "var_list.r",
     "varRefreshCmd": "cat(var_dic_list()) "
    }
   },
   "types_to_exclude": [
    "module",
    "function",
    "builtin_function_or_method",
    "instance",
    "_Feature"
   ],
   "window_display": false
  }
 },
 "nbformat": 4,
 "nbformat_minor": 2
}
