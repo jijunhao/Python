{
 "cells": [
  {
   "cell_type": "code",
   "execution_count": 17,
   "metadata": {},
   "outputs": [
    {
     "name": "stderr",
     "output_type": "stream",
     "text": [
      "E:\\Anaconda3-5.2.0\\lib\\site-packages\\matplotlib\\axes\\_axes.py:6462: UserWarning: The 'normed' kwarg is deprecated, and has been replaced by the 'density' kwarg.\n",
      "  warnings.warn(\"The 'normed' kwarg is deprecated, and has been \"\n"
     ]
    },
    {
     "data": {
      "image/png": "[encoded data removed]",
      "text/plain": [
       "<Figure size 432x288 with 1 Axes>"
      ]
     },
     "metadata": {},
     "output_type": "display_data"
    }
   ],
   "source": [
    "import random\n",
    "import math\n",
    "import matplotlib.pyplot as plt\n",
    "%matplotlib inline\n",
    " \n",
    "def xrange(x):\n",
    "    return iter(range(x))\n",
    "\n",
    "#X给定时Y的边缘分布\n",
    "def p_ygivenx(x, m1, m2, s1, s2):\n",
    "    return (random.normalvariate(m2 + rho * s2 / s1 * (x - m1), math.sqrt(1 - rho ** 2) * s2))\n",
    "\n",
    "#Y给定时X的边缘分布\n",
    "def p_xgiveny(y, m1, m2, s1, s2):\n",
    "    return (random.normalvariate(m1 + rho * s1 / s2 * (y - m2), math.sqrt(1 - rho ** 2) * s1))\n",
    " \n",
    "N = 5000\n",
    "K = 20\n",
    "x_res = []\n",
    "y_res = []\n",
    "m1 = 10\n",
    "m2 = -5\n",
    "s1 = 5\n",
    "s2 = 2\n",
    " \n",
    "rho = 0.5\n",
    "y = m2\n",
    " \n",
    "for i in xrange(N):\n",
    "    for j in xrange(K):\n",
    "        x = p_xgiveny(y, m1, m2, s1, s2)\n",
    "        y = p_ygivenx(x, m1, m2, s1, s2)\n",
    "        x_res.append(x)\n",
    "        y_res.append(y)\n",
    " \n",
    "num_bins= 50\n",
    "plt.hist(x_res, num_bins, normed=1, facecolor='green', alpha=0.5)\n",
    "plt.hist(y_res, num_bins, normed=1, facecolor='red', alpha=0.5)\n",
    "plt.title('Histogram')\n",
    "plt.show()"
   ]
  },
  {
   "cell_type": "code",
   "execution_count": null,
   "metadata": {},
   "outputs": [],
   "source": []
  }
 ],
 "metadata": {
  "kernelspec": {
   "display_name": "Python 3.6.5 64-bit (conda)",
   "language": "python",
   "name": "python36564bitcondabd881634ef594d9bb40eec9df73ed667"
  },
  "language_info": {
   "codemirror_mode": {
    "name": "ipython",
    "version": 3
   },
   "file_extension": ".py",
   "mimetype": "text/x-python",
   "name": "python",
   "nbconvert_exporter": "python",
   "pygments_lexer": "ipython3",
   "version": "3.6.5"
  }
 },
 "nbformat": 4,
 "nbformat_minor": 2
}
