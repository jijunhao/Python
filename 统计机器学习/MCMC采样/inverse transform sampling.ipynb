{
 "cells": [
  {
   "cell_type": "code",
   "execution_count": 1,
   "metadata": {},
   "outputs": [
    {
     "data": {
      "image/png": "[encoded data removed]",
      "text/plain": [
       "<Figure size 432x288 with 1 Axes>"
      ]
     },
     "metadata": {
      "needs_background": "light"
     },
     "output_type": "display_data"
    }
   ],
   "source": [
    "import numpy as np\n",
    "import matplotlib.pyplot as plt\n",
    "%matplotlib inline\n",
    "\n",
    "def sampleExp(Lambda = 2,maxCnt = 50000):\n",
    "    ys = []      #采样值列表\n",
    "    standardXaxis = []    #x轴坐标列表\n",
    "    standardExp = []    #指数分布概率密度函数值列表\n",
    "     \n",
    "    #产生采样值y\n",
    "    for i in range(maxCnt):\n",
    "        #在[0,1]均匀分布上随机采样u\n",
    "        u = np.random.random()     #返回随机的浮点数，在半开区间[0.0, 1.0)\n",
    "        \n",
    "        y = -np.sign(u-1/2)*np.log(1-2*np.abs(u-1/2))   #逆累积分布函数\n",
    "        ys.append(y)\n",
    "    \n",
    "    for i in range(-500,500):\n",
    "        t = 1/2*np.exp(-np.abs(i/100))\n",
    "        standardXaxis.append(i/100)\n",
    "        standardExp.append(t)\n",
    "    \n",
    "    plt.plot(standardXaxis,standardExp,'r')\n",
    "    plt.hist(ys,1000,density=True)    #1000指分为1000段\n",
    "    plt.show()\n",
    "\n",
    "sampleExp()"
   ]
  }
 ],
 "metadata": {
  "kernelspec": {
   "display_name": "Python 3",
   "language": "python",
   "name": "python3"
  },
  "language_info": {
   "codemirror_mode": {
    "name": "ipython",
    "version": 3
   },
   "file_extension": ".py",
   "mimetype": "text/x-python",
   "name": "python",
   "nbconvert_exporter": "python",
   "pygments_lexer": "ipython3",
   "version": "3.8.3"
  },
  "varInspector": {
   "cols": {
    "lenName": 16,
    "lenType": 16,
    "lenVar": 40
   },
   "kernels_config": {
    "python": {
     "delete_cmd_postfix": "",
     "delete_cmd_prefix": "del ",
     "library": "var_list.py",
     "varRefreshCmd": "print(var_dic_list())"
    },
    "r": {
     "delete_cmd_postfix": ") ",
     "delete_cmd_prefix": "rm(",
     "library": "var_list.r",
     "varRefreshCmd": "cat(var_dic_list()) "
    }
   },
   "types_to_exclude": [
    "module",
    "function",
    "builtin_function_or_method",
    "instance",
    "_Feature"
   ],
   "window_display": false
  }
 },
 "nbformat": 4,
 "nbformat_minor": 2
}
