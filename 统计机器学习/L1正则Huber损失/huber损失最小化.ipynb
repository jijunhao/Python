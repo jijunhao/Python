{
 "cells": [
  {
   "cell_type": "markdown",
   "metadata": {},
   "source": [
    "# \\begin{equation}\\ell_{1} \\text { 约束 Huber 损失最小化 }\\end{equation}"
   ]
  },
  {
   "cell_type": "markdown",
   "metadata": {},
   "source": [
    "1. 初始化参数 $\\boldsymbol{\\theta},$ 比如随机地或通过普通最小二乘\n",
    "$$\n",
    "\\boldsymbol{\\theta\\leftarrow\\Phi^{\\dagger}}y\n",
    "$$\n",
    "2. 从当前解 $\\boldsymbol{\\theta}$ 中计算权重矩阵 $W$ 和正则化矩阵 $\\boldsymbol{\\Theta}$ :\n",
    "$$\n",
    "W=\\operatorname{diag}\\left(w_{1}, \\cdots, w_{n}\\right) \\quad \\text { 且 } \\quad \\boldsymbol{\\Theta}=\\operatorname{diag}\\left(\\left|\\theta_{1}\\right|, \\cdots,\\left|\\theta_{b}\\right|\\right)\n",
    "$$\n",
    "这里的权重 $w_{i}$ 使用残差 $r_{i}=y_{i}-f_{\\theta}\\left(x_{i}\\right)$ 定义\n",
    "$$\n",
    "w_{i}=\\left\\{\\begin{array}{ll}\n",
    "1 & \\left|r_{i}\\right| \\leqslant \\eta \\\\\n",
    "\\eta /\\left|r_{i}\\right| & \\left|r_{i}\\right|>\\eta\n",
    "\\end{array}\\right.\n",
    "$$\n",
    "3. 基于权重矩阵 $W$ 和正则化矩阵 $\\boldsymbol{\\Theta}$ 计算解 $\\boldsymbol{\\theta}$ :\n",
    "$$\n",
    "\\boldsymbol{\\theta}\\leftarrow\\left(\\boldsymbol{\\Phi}^{\\mathrm{T}} W \\boldsymbol{\\Phi}+\\lambda \\boldsymbol{\\Theta}^{\\dagger}\\right)^{-1} \\boldsymbol{\\Phi}^{\\dagger} W \\boldsymbol{y}\n",
    "$$\n",
    "4. 重复迭代 $2-3$ 步，直到收敘。"
   ]
  },
  {
   "cell_type": "code",
   "execution_count": 4,
   "metadata": {},
   "outputs": [
    {
     "data": {
      "text/plain": [
       "[<matplotlib.lines.Line2D at 0x1fcfa2d32b0>]"
      ]
     },
     "execution_count": 4,
     "metadata": {},
     "output_type": "execute_result"
    },
    {
     "data": {
      "image/png": "[encoded data removed]",
      "text/plain": [
       "<Figure size 576x432 with 1 Axes>"
      ]
     },
     "metadata": {
      "needs_background": "light"
     },
     "output_type": "display_data"
    }
   ],
   "source": [
    "import numpy as np\n",
    "import matplotlib.pyplot as plt\n",
    "n = 50\n",
    "x = np.linspace(-3,3,n)\n",
    "pix = np.pi * x\n",
    "y = np.sin(pix) / pix + 0.1 * x + 0.2 * np.random.randn(n)\n",
    "y[24] = -0.5\n",
    "hh=2 * 0.3**2\n",
    "l=0.1  # 正则化系数lambda\n",
    "e=0.1  # 分界线eta\n",
    "t=np.random.randn(n) # 初始化theta\n",
    "x2=x**2\n",
    "k=np.exp(-(np.tile(x2,(n,1)).T+np.tile(x2,(n,1))-2*np.dot(x.reshape(n,1),x.reshape(1,n)))/hh) # 高斯核函数\n",
    "for i in range(5000):\n",
    "    r = np.abs(np.dot(k,t)-y)\n",
    "    w = np.ones(n)\n",
    "    w[r>e] = e/r[r>e]\n",
    "    Z=np.dot(k,np.tile(w,(n,1)).T*k)+l*np.linalg.pinv(np.diag(np.abs(t)))\n",
    "    t0=np.dot(np.linalg.pinv(Z),np.dot(k,w*y))\n",
    "    if np.linalg.norm(t-t0)<0.001:\n",
    "        break\n",
    "    t = t0\n",
    "    \n",
    "N=1000\n",
    "X=np.linspace(-3,3,N)\n",
    "K=np.exp(-(np.tile(X**2,(n,1)).T+np.tile(x2,(N,1))-2*np.dot(X.reshape(N,1),x.reshape(1,n)))/hh)\n",
    "F=np.dot(K,t)\n",
    "plt.figure(figsize=(8,6))\n",
    "plt.axis([-2.8,2.8,-1,1.5])\n",
    "plt.plot(X,F,'g-')\n",
    "plt.plot(x,y,'bo')"
   ]
  },
  {
   "cell_type": "code",
   "execution_count": 5,
   "metadata": {},
   "outputs": [],
   "source": [
    "t[t<1e-10]=0"
   ]
  },
  {
   "cell_type": "code",
   "execution_count": 6,
   "metadata": {},
   "outputs": [
    {
     "data": {
      "text/plain": [
       "array([0.00000000e+00, 0.00000000e+00, 0.00000000e+00, 0.00000000e+00,\n",
       "       0.00000000e+00, 0.00000000e+00, 0.00000000e+00, 0.00000000e+00,\n",
       "       0.00000000e+00, 0.00000000e+00, 0.00000000e+00, 0.00000000e+00,\n",
       "       0.00000000e+00, 0.00000000e+00, 0.00000000e+00, 0.00000000e+00,\n",
       "       0.00000000e+00, 0.00000000e+00, 1.57161424e-09, 3.14551411e-08,\n",
       "       7.85104851e-06, 2.96704737e-01, 2.22870601e-01, 2.19044748e-02,\n",
       "       8.36131996e-03, 1.05645274e-01, 2.96861895e-01, 4.40968018e-01,\n",
       "       2.18017398e-02, 4.63334981e-04, 2.17612930e-07, 0.00000000e+00,\n",
       "       0.00000000e+00, 0.00000000e+00, 1.17580304e-04, 0.00000000e+00,\n",
       "       0.00000000e+00, 0.00000000e+00, 0.00000000e+00, 7.17925544e-06,\n",
       "       0.00000000e+00, 8.28453119e-02, 9.68672271e-04, 4.27132196e-09,\n",
       "       0.00000000e+00, 0.00000000e+00, 1.06507927e-06, 3.61882596e-01,\n",
       "       1.78610721e-01, 9.18948945e-10])"
      ]
     },
     "execution_count": 6,
     "metadata": {},
     "output_type": "execute_result"
    }
   ],
   "source": []
  },
  {
   "cell_type": "code",
   "execution_count": 7,
   "metadata": {},
   "outputs": [
    {
     "data": {
      "text/plain": [
       "array([ True,  True,  True,  True,  True,  True,  True,  True,  True,\n",
       "        True,  True,  True,  True,  True,  True,  True,  True,  True,\n",
       "       False, False, False, False, False, False, False, False, False,\n",
       "       False, False, False, False,  True,  True,  True, False,  True,\n",
       "        True,  True,  True, False,  True, False, False, False,  True,\n",
       "        True, False, False, False, False])"
      ]
     },
     "execution_count": 7,
     "metadata": {},
     "output_type": "execute_result"
    }
   ],
   "source": [
    "t == 0"
   ]
  },
  {
   "cell_type": "code",
   "execution_count": 8,
   "metadata": {},
   "outputs": [
    {
     "data": {
      "text/plain": [
       "28"
      ]
     },
     "execution_count": 8,
     "metadata": {},
     "output_type": "execute_result"
    }
   ],
   "source": [
    "sum(t==0)"
   ]
  },
  {
   "cell_type": "code",
   "execution_count": null,
   "metadata": {},
   "outputs": [],
   "source": []
  }
 ],
 "metadata": {
  "kernelspec": {
   "display_name": "Python 3",
   "language": "python",
   "name": "python3"
  },
  "language_info": {
   "codemirror_mode": {
    "name": "ipython",
    "version": 3
   },
   "file_extension": ".py",
   "mimetype": "text/x-python",
   "name": "python",
   "nbconvert_exporter": "python",
   "pygments_lexer": "ipython3",
   "version": "3.8.3"
  },
  "varInspector": {
   "cols": {
    "lenName": 16,
    "lenType": 16,
    "lenVar": 40
   },
   "kernels_config": {
    "python": {
     "delete_cmd_postfix": "",
     "delete_cmd_prefix": "del ",
     "library": "var_list.py",
     "varRefreshCmd": "print(var_dic_list())"
    },
    "r": {
     "delete_cmd_postfix": ") ",
     "delete_cmd_prefix": "rm(",
     "library": "var_list.r",
     "varRefreshCmd": "cat(var_dic_list()) "
    }
   },
   "oldHeight": 122.22200000000001,
   "position": {
    "height": "40px",
    "left": "1438.67px",
    "right": "20px",
    "top": "118px",
    "width": "250px"
   },
   "types_to_exclude": [
    "module",
    "function",
    "builtin_function_or_method",
    "instance",
    "_Feature"
   ],
   "varInspector_section_display": "none",
   "window_display": false
  }
 },
 "nbformat": 4,
 "nbformat_minor": 4
}
