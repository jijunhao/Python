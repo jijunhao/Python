{
 "cells": [
  {
   "cell_type": "code",
   "execution_count": 1,
   "metadata": {},
   "outputs": [],
   "source": [
    "import numpy as np\n",
    "n = 10\n",
    "N = 1000\n",
    "x = np.linspace(-3,3,n).reshape(n,1)\n",
    "X = np.linspace(-4,4,N).reshape(N,1)\n",
    "y = x+0.2*np.random.randn(n,1)#添加了误差项的线性模型\n",
    "y[n-1]=-4\n",
    "#设计矩阵\n",
    "p = np.zeros((n,2))\n",
    "p[:,0] = 1\n",
    "for i in range(n):\n",
    "    p[i,1] = x[i]\n",
    "t = np.dot(np.linalg.pinv(p),y)#模型的参数"
   ]
  },
  {
   "cell_type": "code",
   "execution_count": 2,
   "metadata": {},
   "outputs": [],
   "source": [
    "e=1#阈值\n",
    "for o in range(1000):#更新参数\n",
    "    r = abs(np.dot(p,t)-y)#残差的绝对值\n",
    "    w = np.ones((n,1))#权重矩阵\n",
    "    w[r>e] = e/r[r>e]\n",
    "    t0 = np.dot(np.linalg.pinv((np.dot(p.T,np.multiply(np.tile(w,2),p)))),np.dot(p.T,np.multiply(w,y)))\n",
    "    if np.linalg.norm(t-t0)<0.001:\n",
    "        break\n",
    "    t = t0\n",
    "\n",
    "#设计矩阵，根据得到参数求得迭代加权最小二乘\n",
    "P = np.zeros((N,2))\n",
    "P[:,0] = 1\n",
    "for i in range(N):\n",
    "    P[i,1] = X[i]\n",
    "F = np.dot(P,t)"
   ]
  },
  {
   "cell_type": "code",
   "execution_count": 3,
   "metadata": {},
   "outputs": [
    {
     "data": {
      "text/plain": [
       "[<matplotlib.lines.Line2D at 0x1ef11209b50>,\n",
       " <matplotlib.lines.Line2D at 0x1ef11209c40>]"
      ]
     },
     "execution_count": 3,
     "metadata": {},
     "output_type": "execute_result"
    },
    {
     "data": {
      "image/png": "[encoded data removed]",
      "text/plain": [
       "<Figure size 600x400 with 1 Axes>"
      ]
     },
     "metadata": {
      "needs_background": "light"
     },
     "output_type": "display_data"
    }
   ],
   "source": [
    "import matplotlib.pyplot as plt\n",
    "%matplotlib inline\n",
    "plt.figure(figsize=(6,4),dpi=100)\n",
    "plt.axis([-4,4,-4.5,3.5])\n",
    "plt.plot(X,F,'r-',x,y,'bo')"
   ]
  },
  {
   "cell_type": "code",
   "execution_count": 4,
   "metadata": {},
   "outputs": [
    {
     "name": "stdout",
     "output_type": "stream",
     "text": [
      "迭代次数： 5\n",
      "模型的最终参数 [[-0.00342869]\n",
      " [ 0.85865519]]\n",
      "拟合的线性模型为:y=-0.0034+0.8587x\n"
     ]
    }
   ],
   "source": [
    "print('迭代次数：',o+1)\n",
    "print('模型的最终参数',t)\n",
    "print('拟合的线性模型为:y={}+{}x'.format(round(t[0][0],4),round(t[1][0],4)))"
   ]
  },
  {
   "cell_type": "code",
   "execution_count": null,
   "metadata": {},
   "outputs": [],
   "source": []
  }
 ],
 "metadata": {
  "kernelspec": {
   "display_name": "Python 3",
   "language": "python",
   "name": "python3"
  },
  "language_info": {
   "codemirror_mode": {
    "name": "ipython",
    "version": 3
   },
   "file_extension": ".py",
   "mimetype": "text/x-python",
   "name": "python",
   "nbconvert_exporter": "python",
   "pygments_lexer": "ipython3",
   "version": "3.8.3"
  },
  "varInspector": {
   "cols": {
    "lenName": 16,
    "lenType": 16,
    "lenVar": 40
   },
   "kernels_config": {
    "python": {
     "delete_cmd_postfix": "",
     "delete_cmd_prefix": "del ",
     "library": "var_list.py",
     "varRefreshCmd": "print(var_dic_list())"
    },
    "r": {
     "delete_cmd_postfix": ") ",
     "delete_cmd_prefix": "rm(",
     "library": "var_list.r",
     "varRefreshCmd": "cat(var_dic_list()) "
    }
   },
   "types_to_exclude": [
    "module",
    "function",
    "builtin_function_or_method",
    "instance",
    "_Feature"
   ],
   "window_display": false
  }
 },
 "nbformat": 4,
 "nbformat_minor": 2
}
