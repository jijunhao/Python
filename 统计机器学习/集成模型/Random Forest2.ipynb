{
 "cells": [
  {
   "cell_type": "code",
   "execution_count": 3,
   "metadata": {},
   "outputs": [
    {
     "name": "stdout",
     "output_type": "stream",
     "text": [
      "['sepal length (cm)', 'sepal width (cm)', 'petal length (cm)', 'petal width (cm)']\n",
      "[(0.824, 'petal width (cm)'), (0.769, 'petal length (cm)'), (-0.057, 'sepal length (cm)'), (-0.588, 'sepal width (cm)')]\n"
     ]
    }
   ],
   "source": [
    "\"实现随机森林的特征选择\"\n",
    "\n",
    "\n",
    "  \n",
    "from sklearn.ensemble import RandomForestRegressor  \n",
    "import numpy as np  \n",
    "from sklearn.datasets import load_iris  \n",
    "from sklearn.model_selection import cross_val_score, ShuffleSplit \n",
    "#cross_val_score为交叉验证函数\n",
    "#cross_validation.cross_val_score(estimator, X, y=None, scoring=None,\n",
    "#cv=None, n_jobs=1, verbose=0, fit_params=None, pre_dispatch=‘2*n_jobs’)\n",
    "\n",
    "#ShuffleSplit用于将数据集打乱后重新划分训练集和测试集\n",
    "#ShuffleSplit(n,n_iter,test_size,train_size,random_state)\n",
    "\n",
    "\n",
    "#加载数据集\n",
    "iris=load_iris()  \n",
    "X = iris[\"data\"]  \n",
    "Y = iris[\"target\"]  \n",
    "names = iris[\"feature_names\"]  \n",
    "print(names)\n",
    "\n",
    "\n",
    "#调用模型\n",
    "rf = RandomForestRegressor()  \n",
    "scores = []  \n",
    "\n",
    "#计算每个特征下随机森林的分类准确率，从而做出特征选择\n",
    "for i in range(X.shape[1]):  \n",
    "     score = cross_val_score(rf, X[:, i:i+1], Y, scoring=\"r2\",  \n",
    "                              cv=ShuffleSplit(len(X), 3, .3))    \n",
    "    #scoring表示采用的交叉验证的方法\n",
    "    #cv表示几折交叉验证\n",
    "     scores.append((round(np.mean(score), 3), names[i]))  \n",
    "     \n",
    "\n",
    "print(sorted(scores, reverse=True))    #按分类准备率进行降序排列"
   ]
  },
  {
   "cell_type": "code",
   "execution_count": 2,
   "metadata": {},
   "outputs": [
    {
     "name": "stdout",
     "output_type": "stream",
     "text": [
      "[0.96666667 1.         0.96666667 0.96666667 1.        ]\n"
     ]
    }
   ],
   "source": [
    "from sklearn import datasets, svm\n",
    "from sklearn.model_selection import cross_val_score\n",
    "iris = datasets.load_iris()\n",
    "X = iris.data\n",
    "y = iris.target\n",
    "SVC = svm.SVC()\n",
    "print(cross_val_score(SVC, X, y, cv=5, scoring='accuracy'))      #输出每次验证的分类准确率"
   ]
  },
  {
   "cell_type": "code",
   "execution_count": 1,
   "metadata": {},
   "outputs": [
    {
     "name": "stdout",
     "output_type": "stream",
     "text": [
      "ShuffleSplit(n_splits=150, random_state=None, test_size=3, train_size=0.3)\n"
     ]
    }
   ],
   "source": [
    "from sklearn import datasets\n",
    "from sklearn.model_selection import ShuffleSplit\n",
    "\n",
    "iris=datasets.load_iris()  \n",
    "X = iris[\"data\"]\n",
    "print(ShuffleSplit(len(X), 3, .3))"
   ]
  }
 ],
 "metadata": {
  "kernelspec": {
   "display_name": "Python 3",
   "language": "python",
   "name": "python3"
  },
  "language_info": {
   "codemirror_mode": {
    "name": "ipython",
    "version": 3
   },
   "file_extension": ".py",
   "mimetype": "text/x-python",
   "name": "python",
   "nbconvert_exporter": "python",
   "pygments_lexer": "ipython3",
   "version": "3.8.5"
  },
  "varInspector": {
   "cols": {
    "lenName": 16,
    "lenType": 16,
    "lenVar": 40
   },
   "kernels_config": {
    "python": {
     "delete_cmd_postfix": "",
     "delete_cmd_prefix": "del ",
     "library": "var_list.py",
     "varRefreshCmd": "print(var_dic_list())"
    },
    "r": {
     "delete_cmd_postfix": ") ",
     "delete_cmd_prefix": "rm(",
     "library": "var_list.r",
     "varRefreshCmd": "cat(var_dic_list()) "
    }
   },
   "types_to_exclude": [
    "module",
    "function",
    "builtin_function_or_method",
    "instance",
    "_Feature"
   ],
   "window_display": false
  }
 },
 "nbformat": 4,
 "nbformat_minor": 2
}
