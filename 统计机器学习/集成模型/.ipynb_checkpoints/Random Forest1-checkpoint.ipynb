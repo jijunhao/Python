{
 "cells": [
  {
   "cell_type": "code",
   "execution_count": 1,
   "metadata": {},
   "outputs": [
    {
     "name": "stdout",
     "output_type": "stream",
     "text": [
      "[1. 1.]\n",
      "0.9719728571428572\n"
     ]
    }
   ],
   "source": [
    "\"随机森林在以决策树为基学习器构建Bagging集成\"\n",
    "\"随机森林用于分类时，即采用n个决策树分类，将分类结果用简单投票法得到最终分类，提高分类准确率\"\n",
    "\n",
    "\n",
    "\"实现随机森林基本功能\"\n",
    "\n",
    " \n",
    "from sklearn.ensemble import RandomForestRegressor  \n",
    "import numpy as np  \n",
    "from sklearn.datasets import load_iris  \n",
    "import pandas as pd\n",
    "\n",
    "\n",
    "seeddata = pd.read_csv('seed.txt','\\t',header=None)\n",
    "X=seeddata.iloc[:,0:7]\n",
    "y=seeddata.iloc[:,7]\n",
    "\n",
    "#调用模型\n",
    "rf=RandomForestRegressor()    #这里使用了默认的参数设置  \n",
    "rf.fit(X,y)   #进行模型的训练  \n",
    "\n",
    "print(rf.predict(X[0:2]))\n",
    "\n",
    "#clf.predict_proba(X[0:2])\n",
    "\n",
    "print(rf.score(X, y))"
   ]
  },
  {
   "cell_type": "code",
   "execution_count": null,
   "metadata": {},
   "outputs": [],
   "source": []
  }
 ],
 "metadata": {
  "kernelspec": {
   "display_name": "Python 3",
   "language": "python",
   "name": "python3"
  },
  "language_info": {
   "codemirror_mode": {
    "name": "ipython",
    "version": 3
   },
   "file_extension": ".py",
   "mimetype": "text/x-python",
   "name": "python",
   "nbconvert_exporter": "python",
   "pygments_lexer": "ipython3",
   "version": "3.8.5"
  },
  "varInspector": {
   "cols": {
    "lenName": 16,
    "lenType": 16,
    "lenVar": 40
   },
   "kernels_config": {
    "python": {
     "delete_cmd_postfix": "",
     "delete_cmd_prefix": "del ",
     "library": "var_list.py",
     "varRefreshCmd": "print(var_dic_list())"
    },
    "r": {
     "delete_cmd_postfix": ") ",
     "delete_cmd_prefix": "rm(",
     "library": "var_list.r",
     "varRefreshCmd": "cat(var_dic_list()) "
    }
   },
   "types_to_exclude": [
    "module",
    "function",
    "builtin_function_or_method",
    "instance",
    "_Feature"
   ],
   "window_display": false
  }
 },
 "nbformat": 4,
 "nbformat_minor": 2
}
