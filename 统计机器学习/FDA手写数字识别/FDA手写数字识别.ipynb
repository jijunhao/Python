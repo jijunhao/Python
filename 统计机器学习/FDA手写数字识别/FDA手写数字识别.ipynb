{
 "cells": [
  {
   "cell_type": "code",
   "execution_count": 1,
   "metadata": {},
   "outputs": [],
   "source": [
    "import matplotlib.pyplot as plt\n",
    "import numpy as np\n",
    "import scipy.io as scio"
   ]
  },
  {
   "cell_type": "code",
   "execution_count": 2,
   "metadata": {},
   "outputs": [],
   "source": [
    "data = scio.loadmat('digit.mat')\n",
    "X = data['X']\n",
    "T = data['T']\n",
    "[d,m,c] = T.shape"
   ]
  },
  {
   "cell_type": "markdown",
   "metadata": {},
   "source": [
    "\\begin{equation}\n",
    "\\hat{\\mu}_{\\mathrm{ML}}=\\frac{1}{n} \\sum_{i=1}^{n} x_{i}, \\quad \\hat{\\Sigma}_{\\mathrm{ML}}=\\frac{1}{n} \\sum_{i=1}^{n}\\left(x_{i}-\\hat{\\mu}_{\\mathrm{ML}}\\right)\\left(x_{i}-\\hat{\\mu}_{\\mathrm{ML}}\\right)^{\\top}\n",
    "\\end{equation}"
   ]
  },
  {
   "cell_type": "code",
   "execution_count": 3,
   "metadata": {},
   "outputs": [],
   "source": [
    "# 极大似然估计均值和方差\n",
    "mu = np.zeros((d,c))\n",
    "S = np.zeros((d,d))\n",
    "for i in range(c):\n",
    "    mu[:,i] = np.mean(X[:,:,i],1)\n",
    "    S+=np.cov(X[:,:,i])/c\n",
    "h = np.dot(np.linalg.inv(S),mu)"
   ]
  },
  {
   "cell_type": "markdown",
   "metadata": {},
   "source": [
    "\\begin{aligned}\n",
    "\\log \\hat{p}(y \\mid x)=& \\boldsymbol{x}^{\\mathrm{T}} \\hat{\\mathbf{\\Sigma}}^{-1} \\hat{\\boldsymbol{\\mu}}_{\\mathrm{y}}-\\frac{1}{2} \\hat{\\boldsymbol{\\mu}}_{\\mathrm{y}}^{\\mathrm{T}} \\hat{\\mathbf{\\Sigma}}^{-1} \\hat{\\mu}_{\\mathrm{y}}+\\log \\frac{n_{y}}{n}+C^{\\prime}\n",
    "\\end{aligned}"
   ]
  },
  {
   "cell_type": "code",
   "execution_count": 4,
   "metadata": {},
   "outputs": [],
   "source": [
    "# 计算类后验概率\n",
    "p = np.zeros((c,m,c))\n",
    "for k in range(c):\n",
    "    p[:,:,k]=np.dot(h.T,T[:,:,k])-np.tile(sum(np.multiply(mu,h)).reshape(c,1),(1,m))/2"
   ]
  },
  {
   "cell_type": "markdown",
   "metadata": {},
   "source": [
    "\\begin{equation}\n",
    "\\operatorname{sign}(x)=\\left\\{\\begin{array}{ll}\n",
    "1, & x>0 \\\\\n",
    "0, & x=0 \\\\\n",
    "-1, & x<0\n",
    "\\end{array}\\right.\n",
    "\\end{equation}\n",
    "\n",
    "\\begin{equation}\n",
    "\\hat{y}=\\underset{y}{\\arg \\max } p(y \\mid x)\n",
    "\\end{equation}"
   ]
  },
  {
   "cell_type": "code",
   "execution_count": 5,
   "metadata": {},
   "outputs": [],
   "source": [
    "# 最大后验概率规则\n",
    "P = p.argmax(axis=0)"
   ]
  },
  {
   "cell_type": "code",
   "execution_count": 6,
   "metadata": {},
   "outputs": [],
   "source": [
    "# 计算混淆矩阵\n",
    "C = np.zeros((c,c))\n",
    "for i in range(c):\n",
    "    for j in range(c):\n",
    "        C[i,j] = np.sum(P[:,i]==j)"
   ]
  },
  {
   "cell_type": "code",
   "execution_count": 7,
   "metadata": {},
   "outputs": [
    {
     "data": {
      "text/plain": "array([[199.,   0.,   0.,   0.,   1.,   0.,   0.,   0.,   0.,   0.],\n       [  0., 169.,   8.,   8.,   1.,   2.,   4.,   8.,   0.,   0.],\n       [  0.,   0., 182.,   1.,   5.,   0.,   2.,   8.,   1.,   1.],\n       [  2.,   2.,   0., 182.,   0.,   1.,   0.,   3.,  10.,   0.],\n       [  0.,   0.,  21.,   4., 162.,   1.,   0.,   4.,   4.,   4.],\n       [  1.,   2.,   0.,   1.,   5., 185.,   0.,   3.,   0.,   3.],\n       [  2.,   0.,   1.,   5.,   1.,   0., 181.,   0.,   9.,   1.],\n       [  0.,   1.,  16.,   6.,   6.,   0.,   1., 164.,   3.,   3.],\n       [  1.,   0.,   0.,   8.,   0.,   0.,   7.,   2., 182.,   0.],\n       [  0.,   0.,   3.,   0.,   0.,   4.,   0.,   1.,   0., 192.]])"
     },
     "execution_count": 7,
     "metadata": {},
     "output_type": "execute_result"
    }
   ],
   "source": [
    "C"
   ]
  }
 ],
 "metadata": {
  "kernelspec": {
   "name": "pycharm-7390d139",
   "language": "python",
   "display_name": "PyCharm (Python)"
  },
  "language_info": {
   "codemirror_mode": {
    "name": "ipython",
    "version": 3
   },
   "file_extension": ".py",
   "mimetype": "text/x-python",
   "name": "python",
   "nbconvert_exporter": "python",
   "pygments_lexer": "ipython3",
   "version": "3.8.6"
  }
 },
 "nbformat": 4,
 "nbformat_minor": 4
}