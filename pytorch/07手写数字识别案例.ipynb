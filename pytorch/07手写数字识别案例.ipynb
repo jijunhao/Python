{
 "cells": [
  {
   "cell_type": "code",
   "execution_count": 1,
   "id": "a57919bb",
   "metadata": {},
   "outputs": [],
   "source": [
    "from torchvision.datasets import MNIST\n",
    "from torchvision.transforms import Compose,ToTensor,Normalize\n",
    "from torch.utils.data import Dataset,DataLoader\n",
    "import torch\n",
    "import torch.nn as nn\n",
    "import torch.nn.functional as F\n",
    "\n",
    "from torch.optim import Adam\n",
    "\n",
    "import numpy as np\n",
    "#from tqdm import tqdm\n",
    "from qqdm.notebook import qqdm\n",
    "\n",
    "import os"
   ]
  },
  {
   "cell_type": "code",
   "execution_count": 2,
   "id": "13ee6c2b",
   "metadata": {},
   "outputs": [
    {
     "name": "stdout",
     "output_type": "stream",
     "text": [
      "Using cuda device\n"
     ]
    }
   ],
   "source": [
    "device = torch.device(\"cuda\" if torch.cuda.is_available() else \"cpu\")\n",
    "print(f\"Using {device} device\")"
   ]
  },
  {
   "cell_type": "code",
   "execution_count": 3,
   "id": "de1126ef",
   "metadata": {},
   "outputs": [],
   "source": [
    "def get_dataloader(train,batch_size=128):\n",
    "    transform_fu = Compose([\n",
    "        ToTensor(),\n",
    "        Normalize(\n",
    "            (0.1307,), (0.3081,))\n",
    "    ])\n",
    "    dataset = MNIST(root='./data', train=train, download=True, transform=transform_fu)\n",
    "    data_loader = DataLoader(dataset,batch_size=batch_size,shuffle=True)\n",
    "    return data_loader\n",
    "\n",
    "train_batch_size = 128\n",
    "test_batch_size = 1000\n",
    "train_dataloader = get_dataloader(train=True,batch_size=train_batch_size)\n",
    "test_dataloader = get_dataloader(train=False, batch_size=test_batch_size)"
   ]
  },
  {
   "cell_type": "code",
   "execution_count": null,
   "id": "04fef517",
   "metadata": {},
   "outputs": [
    {
     "data": {
      "text/plain": [
       "\u001b[K\u001b[F  \u001b[1mIters\u001b[0m     \u001b[1mElapsed Time\u001b[0m       \u001b[1mSpeed\u001b[0m     \u001b[1mLoss\u001b[0m   \u001b[1mAccuracy\u001b[0m  \u001b[1mEpoch\u001b[0m                 \n",
       " \u001b[99m469/\u001b[93m469\u001b[0m\u001b[0m  \u001b[99m00:00:12<\u001b[93m00:00:00\u001b[0m\u001b[0m  \u001b[99m38.90it/s\u001b[0m  \u001b[99m0.0974\u001b[0m   \u001b[99m0.5336\u001b[0m     \u001b[99m1\u001b[0m                   "
      ]
     },
     "metadata": {},
     "output_type": "display_data"
    },
    {
     "data": {
      "application/vnd.jupyter.widget-view+json": {
       "model_id": "0ae36af70fca43859fcea0e43b254735",
       "version_major": 2,
       "version_minor": 0
      },
      "text/plain": [
       "IpythonBar(children=(HTML(value='  0.0%'), FloatProgress(value=0.0)))"
      ]
     },
     "metadata": {},
     "output_type": "display_data"
    },
    {
     "data": {
      "text/plain": [
       "\u001b[K\u001b[F \u001b[1mIters\u001b[0m    \u001b[1mElapsed Time\u001b[0m      \u001b[1mSpeed\u001b[0m    \u001b[1mTest-Loss\u001b[0m  \u001b[1mTest-Accuracy\u001b[0m                   \n",
       " \u001b[99m10/\u001b[93m10\u001b[0m\u001b[0m  \u001b[99m00:00:01<\u001b[93m00:00:00\u001b[0m\u001b[0m  \u001b[99m5.38it/s\u001b[0m    \u001b[99m0.171\u001b[0m       \u001b[99m0.9498\u001b[0m                       "
      ]
     },
     "metadata": {},
     "output_type": "display_data"
    },
    {
     "data": {
      "application/vnd.jupyter.widget-view+json": {
       "model_id": "9a010a07d27c4ef1bf731ec36b5c6e99",
       "version_major": 2,
       "version_minor": 0
      },
      "text/plain": [
       "IpythonBar(children=(HTML(value='  0.0%'), FloatProgress(value=0.0)))"
      ]
     },
     "metadata": {},
     "output_type": "display_data"
    },
    {
     "data": {
      "text/plain": [
       "\u001b[K\u001b[F  \u001b[1mIters\u001b[0m     \u001b[1mElapsed Time\u001b[0m       \u001b[1mSpeed\u001b[0m     \u001b[1mLoss\u001b[0m   \u001b[1mAccuracy\u001b[0m  \u001b[1mEpoch\u001b[0m                 \n",
       " \u001b[99m469/\u001b[93m469\u001b[0m\u001b[0m  \u001b[99m00:00:12<\u001b[93m00:00:00\u001b[0m\u001b[0m  \u001b[99m38.39it/s\u001b[0m  \u001b[99m0.3596\u001b[0m   \u001b[99m0.759\u001b[0m      \u001b[99m2\u001b[0m                   "
      ]
     },
     "metadata": {},
     "output_type": "display_data"
    },
    {
     "data": {
      "application/vnd.jupyter.widget-view+json": {
       "model_id": "de2a43ed9ad5498cbc8f1b8172ec5e80",
       "version_major": 2,
       "version_minor": 0
      },
      "text/plain": [
       "IpythonBar(children=(HTML(value='  0.0%'), FloatProgress(value=0.0)))"
      ]
     },
     "metadata": {},
     "output_type": "display_data"
    },
    {
     "data": {
      "text/plain": [
       "\u001b[K\u001b[F \u001b[1mIters\u001b[0m    \u001b[1mElapsed Time\u001b[0m      \u001b[1mSpeed\u001b[0m    \u001b[1mTest-Loss\u001b[0m  \u001b[1mTest-Accuracy\u001b[0m                   \n",
       " \u001b[99m10/\u001b[93m10\u001b[0m\u001b[0m  \u001b[99m00:00:01<\u001b[93m00:00:00\u001b[0m\u001b[0m  \u001b[99m5.39it/s\u001b[0m   \u001b[99m0.1246\u001b[0m       \u001b[99m0.9608\u001b[0m                       "
      ]
     },
     "metadata": {},
     "output_type": "display_data"
    },
    {
     "data": {
      "application/vnd.jupyter.widget-view+json": {
       "model_id": "12ad48426d5042899bffbe51376daf38",
       "version_major": 2,
       "version_minor": 0
      },
      "text/plain": [
       "IpythonBar(children=(HTML(value='  0.0%'), FloatProgress(value=0.0)))"
      ]
     },
     "metadata": {},
     "output_type": "display_data"
    },
    {
     "data": {
      "text/plain": [
       "\u001b[K\u001b[F  \u001b[1mIters\u001b[0m     \u001b[1mElapsed Time\u001b[0m       \u001b[1mSpeed\u001b[0m     \u001b[1mLoss\u001b[0m   \u001b[1mAccuracy\u001b[0m  \u001b[1mEpoch\u001b[0m                 \n",
       " \u001b[99m469/\u001b[93m469\u001b[0m\u001b[0m  \u001b[99m00:00:12<\u001b[93m00:00:00\u001b[0m\u001b[0m  \u001b[99m37.89it/s\u001b[0m  \u001b[99m0.6343\u001b[0m   \u001b[99m0.7843\u001b[0m     \u001b[99m3\u001b[0m                   "
      ]
     },
     "metadata": {},
     "output_type": "display_data"
    },
    {
     "data": {
      "application/vnd.jupyter.widget-view+json": {
       "model_id": "bbace1e4c5054ee2957b3b80eee75338",
       "version_major": 2,
       "version_minor": 0
      },
      "text/plain": [
       "IpythonBar(children=(HTML(value='  0.0%'), FloatProgress(value=0.0)))"
      ]
     },
     "metadata": {},
     "output_type": "display_data"
    },
    {
     "data": {
      "text/plain": [
       "\u001b[K\u001b[F \u001b[1mIters\u001b[0m    \u001b[1mElapsed Time\u001b[0m      \u001b[1mSpeed\u001b[0m    \u001b[1mTest-Loss\u001b[0m  \u001b[1mTest-Accuracy\u001b[0m                   \n",
       " \u001b[99m10/\u001b[93m10\u001b[0m\u001b[0m  \u001b[99m00:00:02<\u001b[93m00:00:00\u001b[0m\u001b[0m  \u001b[99m4.94it/s\u001b[0m   \u001b[99m0.0965\u001b[0m       \u001b[99m0.9711\u001b[0m                       "
      ]
     },
     "metadata": {},
     "output_type": "display_data"
    },
    {
     "data": {
      "application/vnd.jupyter.widget-view+json": {
       "model_id": "fe0a2d88377b4e6e80fcd918c3e1d98d",
       "version_major": 2,
       "version_minor": 0
      },
      "text/plain": [
       "IpythonBar(children=(HTML(value='  0.0%'), FloatProgress(value=0.0)))"
      ]
     },
     "metadata": {},
     "output_type": "display_data"
    },
    {
     "data": {
      "text/plain": [
       "\u001b[K\u001b[F  \u001b[1mIters\u001b[0m     \u001b[1mElapsed Time\u001b[0m       \u001b[1mSpeed\u001b[0m     \u001b[1mLoss\u001b[0m   \u001b[1mAccuracy\u001b[0m  \u001b[1mEpoch\u001b[0m                 \n",
       " \u001b[99m469/\u001b[93m469\u001b[0m\u001b[0m  \u001b[99m00:00:12<\u001b[93m00:00:00\u001b[0m\u001b[0m  \u001b[99m37.79it/s\u001b[0m  \u001b[99m0.3695\u001b[0m   \u001b[99m0.8226\u001b[0m     \u001b[99m4\u001b[0m                   "
      ]
     },
     "metadata": {},
     "output_type": "display_data"
    },
    {
     "data": {
      "application/vnd.jupyter.widget-view+json": {
       "model_id": "803cffa4087b4ff7af75c2bad1a56e09",
       "version_major": 2,
       "version_minor": 0
      },
      "text/plain": [
       "IpythonBar(children=(HTML(value='  0.0%'), FloatProgress(value=0.0)))"
      ]
     },
     "metadata": {},
     "output_type": "display_data"
    },
    {
     "data": {
      "text/plain": [
       "\u001b[K\u001b[F \u001b[1mIters\u001b[0m    \u001b[1mElapsed Time\u001b[0m      \u001b[1mSpeed\u001b[0m    \u001b[1mTest-Loss\u001b[0m  \u001b[1mTest-Accuracy\u001b[0m                   \n",
       " \u001b[99m10/\u001b[93m10\u001b[0m\u001b[0m  \u001b[99m00:00:02<\u001b[93m00:00:00\u001b[0m\u001b[0m  \u001b[99m4.79it/s\u001b[0m   \u001b[99m0.0894\u001b[0m       \u001b[99m0.9731\u001b[0m                       "
      ]
     },
     "metadata": {},
     "output_type": "display_data"
    },
    {
     "data": {
      "application/vnd.jupyter.widget-view+json": {
       "model_id": "5a6b08bb20ab4bf79b0c372c1e179e84",
       "version_major": 2,
       "version_minor": 0
      },
      "text/plain": [
       "IpythonBar(children=(HTML(value='  0.0%'), FloatProgress(value=0.0)))"
      ]
     },
     "metadata": {},
     "output_type": "display_data"
    },
    {
     "data": {
      "text/plain": [
       "\u001b[K\u001b[F  \u001b[1mIters\u001b[0m     \u001b[1mElapsed Time\u001b[0m       \u001b[1mSpeed\u001b[0m     \u001b[1mLoss\u001b[0m   \u001b[1mAccuracy\u001b[0m  \u001b[1mEpoch\u001b[0m                 \n",
       " \u001b[99m469/\u001b[93m469\u001b[0m\u001b[0m  \u001b[99m00:00:11<\u001b[93m00:00:00\u001b[0m\u001b[0m  \u001b[99m39.31it/s\u001b[0m  \u001b[99m0.4872\u001b[0m   \u001b[99m0.6008\u001b[0m     \u001b[99m5\u001b[0m                   "
      ]
     },
     "metadata": {},
     "output_type": "display_data"
    },
    {
     "data": {
      "application/vnd.jupyter.widget-view+json": {
       "model_id": "2707fd09a4514462a56dc80e468e9eb2",
       "version_major": 2,
       "version_minor": 0
      },
      "text/plain": [
       "IpythonBar(children=(HTML(value='  0.0%'), FloatProgress(value=0.0)))"
      ]
     },
     "metadata": {},
     "output_type": "display_data"
    },
    {
     "data": {
      "text/plain": [
       "\u001b[K\u001b[F \u001b[1mIters\u001b[0m    \u001b[1mElapsed Time\u001b[0m      \u001b[1mSpeed\u001b[0m    \u001b[1mTest-Loss\u001b[0m  \u001b[1mTest-Accuracy\u001b[0m                   \n",
       " \u001b[99m10/\u001b[93m10\u001b[0m\u001b[0m  \u001b[99m00:00:01<\u001b[93m00:00:00\u001b[0m\u001b[0m  \u001b[99m5.31it/s\u001b[0m    \u001b[99m0.085\u001b[0m       \u001b[99m0.9729\u001b[0m                       "
      ]
     },
     "metadata": {},
     "output_type": "display_data"
    },
    {
     "data": {
      "application/vnd.jupyter.widget-view+json": {
       "model_id": "e0f4933356534e49b745426817b53007",
       "version_major": 2,
       "version_minor": 0
      },
      "text/plain": [
       "IpythonBar(children=(HTML(value='  0.0%'), FloatProgress(value=0.0)))"
      ]
     },
     "metadata": {},
     "output_type": "display_data"
    },
    {
     "data": {
      "text/plain": [
       "\u001b[K\u001b[F  \u001b[1mIters\u001b[0m     \u001b[1mElapsed Time\u001b[0m       \u001b[1mSpeed\u001b[0m     \u001b[1mLoss\u001b[0m   \u001b[1mAccuracy\u001b[0m  \u001b[1mEpoch\u001b[0m                 \n",
       " \u001b[99m469/\u001b[93m469\u001b[0m\u001b[0m  \u001b[99m00:00:11<\u001b[93m00:00:00\u001b[0m\u001b[0m  \u001b[99m39.23it/s\u001b[0m  \u001b[99m0.8408\u001b[0m   \u001b[99m0.686\u001b[0m      \u001b[99m6\u001b[0m                   "
      ]
     },
     "metadata": {},
     "output_type": "display_data"
    },
    {
     "data": {
      "application/vnd.jupyter.widget-view+json": {
       "model_id": "9655b9d8551f4946a2c67e2886a89bdc",
       "version_major": 2,
       "version_minor": 0
      },
      "text/plain": [
       "IpythonBar(children=(HTML(value='  0.0%'), FloatProgress(value=0.0)))"
      ]
     },
     "metadata": {},
     "output_type": "display_data"
    },
    {
     "data": {
      "text/plain": [
       "\u001b[K\u001b[F \u001b[1mIters\u001b[0m    \u001b[1mElapsed Time\u001b[0m      \u001b[1mSpeed\u001b[0m    \u001b[1mTest-Loss\u001b[0m  \u001b[1mTest-Accuracy\u001b[0m                   \n",
       " \u001b[99m10/\u001b[93m10\u001b[0m\u001b[0m  \u001b[99m00:00:01<\u001b[93m00:00:00\u001b[0m\u001b[0m  \u001b[99m5.84it/s\u001b[0m   \u001b[99m0.0781\u001b[0m       \u001b[99m0.9765\u001b[0m                       "
      ]
     },
     "metadata": {},
     "output_type": "display_data"
    },
    {
     "data": {
      "application/vnd.jupyter.widget-view+json": {
       "model_id": "182182a214c14824b51e3667f03f7d15",
       "version_major": 2,
       "version_minor": 0
      },
      "text/plain": [
       "IpythonBar(children=(HTML(value='  0.0%'), FloatProgress(value=0.0)))"
      ]
     },
     "metadata": {},
     "output_type": "display_data"
    },
    {
     "data": {
      "text/plain": [
       "\u001b[K\u001b[F  \u001b[1mIters\u001b[0m     \u001b[1mElapsed Time\u001b[0m       \u001b[1mSpeed\u001b[0m     \u001b[1mLoss\u001b[0m   \u001b[1mAccuracy\u001b[0m  \u001b[1mEpoch\u001b[0m                 \n",
       " \u001b[99m469/\u001b[93m469\u001b[0m\u001b[0m  \u001b[99m00:00:12<\u001b[93m00:00:00\u001b[0m\u001b[0m  \u001b[99m38.91it/s\u001b[0m  \u001b[99m0.9579\u001b[0m   \u001b[99m0.7185\u001b[0m     \u001b[99m7\u001b[0m                   "
      ]
     },
     "metadata": {},
     "output_type": "display_data"
    },
    {
     "data": {
      "application/vnd.jupyter.widget-view+json": {
       "model_id": "f5f012e041ed4645b75cd70fc4d90f0f",
       "version_major": 2,
       "version_minor": 0
      },
      "text/plain": [
       "IpythonBar(children=(HTML(value='  0.0%'), FloatProgress(value=0.0)))"
      ]
     },
     "metadata": {},
     "output_type": "display_data"
    },
    {
     "data": {
      "text/plain": [
       "\u001b[K\u001b[F \u001b[1mIters\u001b[0m    \u001b[1mElapsed Time\u001b[0m      \u001b[1mSpeed\u001b[0m    \u001b[1mTest-Loss\u001b[0m  \u001b[1mTest-Accuracy\u001b[0m                   \n",
       " \u001b[99m10/\u001b[93m10\u001b[0m\u001b[0m  \u001b[99m00:00:01<\u001b[93m00:00:00\u001b[0m\u001b[0m  \u001b[99m5.66it/s\u001b[0m   \u001b[99m0.0843\u001b[0m       \u001b[99m0.9727\u001b[0m                       "
      ]
     },
     "metadata": {},
     "output_type": "display_data"
    },
    {
     "data": {
      "application/vnd.jupyter.widget-view+json": {
       "model_id": "97052f95c85e48ae844d10824c9b1374",
       "version_major": 2,
       "version_minor": 0
      },
      "text/plain": [
       "IpythonBar(children=(HTML(value='  0.0%'), FloatProgress(value=0.0)))"
      ]
     },
     "metadata": {},
     "output_type": "display_data"
    },
    {
     "data": {
      "text/plain": [
       "\u001b[K\u001b[F  \u001b[1mIters\u001b[0m     \u001b[1mElapsed Time\u001b[0m       \u001b[1mSpeed\u001b[0m     \u001b[1mLoss\u001b[0m   \u001b[1mAccuracy\u001b[0m  \u001b[1mEpoch\u001b[0m                 \n",
       " \u001b[99m274/\u001b[93m469\u001b[0m\u001b[0m  \u001b[99m00:00:07<\u001b[93m00:00:05\u001b[0m\u001b[0m  \u001b[99m38.06it/s\u001b[0m  \u001b[99m0.8204\u001b[0m   \u001b[99m0.1125\u001b[0m     \u001b[99m8\u001b[0m                   "
      ]
     },
     "metadata": {},
     "output_type": "display_data"
    },
    {
     "data": {
      "application/vnd.jupyter.widget-view+json": {
       "model_id": "797277b520194c7692efaadcb0469c5b",
       "version_major": 2,
       "version_minor": 0
      },
      "text/plain": [
       "IpythonBar(children=(HTML(value='  0.0%'), FloatProgress(value=0.0)))"
      ]
     },
     "metadata": {},
     "output_type": "display_data"
    },
    {
     "data": {
      "text/plain": [
       "\u001b[K\u001b[F \u001b[1mIters\u001b[0m    \u001b[1mElapsed Time\u001b[0m      \u001b[1mSpeed\u001b[0m    \u001b[1mTest-Loss\u001b[0m  \u001b[1mTest-Accuracy\u001b[0m                   \n",
       " \u001b[99m10/\u001b[93m10\u001b[0m\u001b[0m  \u001b[99m00:00:01<\u001b[93m00:00:00\u001b[0m\u001b[0m  \u001b[99m5.59it/s\u001b[0m   \u001b[99m0.0803\u001b[0m        \u001b[99m0.976\u001b[0m                       "
      ]
     },
     "metadata": {},
     "output_type": "display_data"
    },
    {
     "data": {
      "application/vnd.jupyter.widget-view+json": {
       "model_id": "3f39c01b97f94e4482d66b0215fb99b0",
       "version_major": 2,
       "version_minor": 0
      },
      "text/plain": [
       "IpythonBar(children=(HTML(value='  0.0%'), FloatProgress(value=0.0)))"
      ]
     },
     "metadata": {},
     "output_type": "display_data"
    },
    {
     "data": {
      "text/plain": [
       "\u001b[K\u001b[F  \u001b[1mIters\u001b[0m     \u001b[1mElapsed Time\u001b[0m       \u001b[1mSpeed\u001b[0m     \u001b[1mLoss\u001b[0m   \u001b[1mAccuracy\u001b[0m  \u001b[1mEpoch\u001b[0m                 \n",
       " \u001b[99m469/\u001b[93m469\u001b[0m\u001b[0m  \u001b[99m00:00:12<\u001b[93m00:00:00\u001b[0m\u001b[0m  \u001b[99m38.09it/s\u001b[0m  \u001b[99m0.6094\u001b[0m   \u001b[99m0.9392\u001b[0m     \u001b[99m9\u001b[0m                   "
      ]
     },
     "metadata": {},
     "output_type": "display_data"
    },
    {
     "data": {
      "application/vnd.jupyter.widget-view+json": {
       "model_id": "9fc3b84182684cf383787a68acf5e62f",
       "version_major": 2,
       "version_minor": 0
      },
      "text/plain": [
       "IpythonBar(children=(HTML(value='  0.0%'), FloatProgress(value=0.0)))"
      ]
     },
     "metadata": {},
     "output_type": "display_data"
    },
    {
     "data": {
      "text/plain": [
       "\u001b[K\u001b[F \u001b[1mIters\u001b[0m    \u001b[1mElapsed Time\u001b[0m      \u001b[1mSpeed\u001b[0m    \u001b[1mTest-Loss\u001b[0m  \u001b[1mTest-Accuracy\u001b[0m                   \n",
       " \u001b[99m10/\u001b[93m10\u001b[0m\u001b[0m  \u001b[99m00:00:01<\u001b[93m00:00:00\u001b[0m\u001b[0m  \u001b[99m5.08it/s\u001b[0m   \u001b[99m0.0747\u001b[0m       \u001b[99m0.9771\u001b[0m                       "
      ]
     },
     "metadata": {},
     "output_type": "display_data"
    },
    {
     "data": {
      "application/vnd.jupyter.widget-view+json": {
       "model_id": "ff298fe830d14cf885bc9c5cef54cfd2",
       "version_major": 2,
       "version_minor": 0
      },
      "text/plain": [
       "IpythonBar(children=(HTML(value='  0.0%'), FloatProgress(value=0.0)))"
      ]
     },
     "metadata": {},
     "output_type": "display_data"
    },
    {
     "data": {
      "text/plain": [
       "\u001b[K\u001b[F \u001b[1mIters\u001b[0m     \u001b[1mElapsed Time\u001b[0m       \u001b[1mSpeed\u001b[0m    \u001b[1mLoss\u001b[0m   \u001b[1mAccuracy\u001b[0m  \u001b[1mEpoch\u001b[0m                   \n",
       " \u001b[99m15/\u001b[93m469\u001b[0m\u001b[0m  \u001b[99m00:00:00<\u001b[93m00:00:12\u001b[0m\u001b[0m  \u001b[99m35.64it/s\u001b[0m  \u001b[99m0.768\u001b[0m   \u001b[99m0.4947\u001b[0m    \u001b[99m10\u001b[0m                     "
      ]
     },
     "metadata": {},
     "output_type": "display_data"
    },
    {
     "data": {
      "application/vnd.jupyter.widget-view+json": {
       "model_id": "19290a853dba485081d231d311d6e3ed",
       "version_major": 2,
       "version_minor": 0
      },
      "text/plain": [
       "IpythonBar(children=(HTML(value='  0.0%'), FloatProgress(value=0.0)))"
      ]
     },
     "metadata": {},
     "output_type": "display_data"
    }
   ],
   "source": [
    "class MnistModel(nn.Module):\n",
    "    def __init__(self):\n",
    "        super(MnistModel,self).__init__()\n",
    "        self.fc1 = nn.Linear(1*28*28,100)\n",
    "        self.fc2 = nn.Linear(100,10)\n",
    "\n",
    "    def forward(self, image):\n",
    "        image_viwed = image.view(-1,1*28*28)\n",
    "        fc1_out = self.fc1(image_viwed)\n",
    "        fc1_out_relu = F.relu(fc1_out)\n",
    "        out = self.fc2(fc1_out_relu)\n",
    "        return F.log_softmax(out,dim=-1)\n",
    "\n",
    "#1. 实例化模型，优化器，损失函数\n",
    "model = MnistModel()\n",
    "optimizer = Adam(model.parameters(),lr=0.001)\n",
    "# criterion = nn.NLLLoss()\n",
    "criterion = nn.CrossEntropyLoss()\n",
    "\n",
    "# if os.path.exists(\"./models/model.pkl\"):\n",
    "#     model.load_state_dict(torch.load(\"./models/model.pkl\"))\n",
    "#     optimizer.load_state_dict(torch.load(\"./models/optimizer.pkl\"))\n",
    "\n",
    "\n",
    "def train(epoch):\n",
    "    total_loss = []\n",
    "    loop = qqdm(train_dataloader)\n",
    "    for index,(input,target) in enumerate(loop):\n",
    "        optimizer.zero_grad()\n",
    "        output = model(input)\n",
    "        loss = criterion(output,target)\n",
    "        loss.backward()\n",
    "        total_loss.append(loss.item())\n",
    "        optimizer.step()\n",
    "        loop.set_infos({\n",
    "            'Loss': round(torch.rand(1).item(),4),\n",
    "            'Accuracy':round(torch.rand(1).item(),4),\n",
    "            'Epoch': epoch+1,\n",
    "        })\n",
    "\n",
    "def test():\n",
    "    total_loss = []\n",
    "    total_acc = []\n",
    "    with torch.no_grad():\n",
    "        loop2 = qqdm(test_dataloader)\n",
    "        for index, (input, target) in enumerate(loop2):\n",
    "            output = model(input)\n",
    "            loss = criterion(output,target)\n",
    "            total_loss.append(loss.item())\n",
    "            pred = output.max(dim=-1)[-1]\n",
    "            total_acc.append(pred.eq(target).float().mean().item())\n",
    "            loop2.set_infos({\n",
    "                'Test-Loss': round(np.mean(total_loss),4),\n",
    "                'Test-Accuracy':round(np.mean(total_acc),4),\n",
    "            })\n",
    "\n",
    "if __name__ == '__main__':\n",
    "    epochs=20\n",
    "    for epoch in range(epochs):\n",
    "        train(epoch)\n",
    "        test()"
   ]
  },
  {
   "cell_type": "code",
   "execution_count": null,
   "id": "e4fdfff3",
   "metadata": {},
   "outputs": [],
   "source": []
  }
 ],
 "metadata": {
  "kernelspec": {
   "display_name": "Python 3",
   "language": "python",
   "name": "python3"
  },
  "language_info": {
   "codemirror_mode": {
    "name": "ipython",
    "version": 3
   },
   "file_extension": ".py",
   "mimetype": "text/x-python",
   "name": "python",
   "nbconvert_exporter": "python",
   "pygments_lexer": "ipython3",
   "version": "3.8.10"
  }
 },
 "nbformat": 4,
 "nbformat_minor": 5
}
