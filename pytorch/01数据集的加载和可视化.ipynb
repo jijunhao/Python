{
 "cells": [
  {
   "cell_type": "markdown",
   "id": "4b6768c2",
   "metadata": {},
   "source": [
    "# 数据集载入\n",
    "https://pytorch.org/vision/stable/datasets.html"
   ]
  },
  {
   "cell_type": "code",
   "execution_count": 1,
   "id": "42612db6",
   "metadata": {},
   "outputs": [],
   "source": [
    "import torch\n",
    "from torch.utils.data import Dataset,DataLoader\n",
    "from torchvision import datasets                                # 内置数据集\n",
    "from torchvision.transforms import Compose,ToTensor,Normalize   # 常用的转换工具\n",
    "import matplotlib.pyplot as plt"
   ]
  },
  {
   "cell_type": "raw",
   "id": "ccf87bd3",
   "metadata": {},
   "source": [
    "所有数据集都是torch.utils.data.Dataset的子类，它们具有__getitem__和__len__实现的方法。\n",
    "因此，它们都可以传递给torch.utils.data.DataLoader。"
   ]
  },
  {
   "cell_type": "code",
   "execution_count": 2,
   "id": "96e4ff75",
   "metadata": {},
   "outputs": [],
   "source": [
    "transform_fu = Compose([\n",
    "    ToTensor(),\n",
    "    Normalize((0.1307,), (0.3081,))\n",
    "])\n",
    "# 准备数据集，其中0.1307，0.3081为MNIST数据的均值和标准差，这样操作能够对其进行标准化\n",
    "# 因为MNIST只有一个通道（黑白图片）,所以元组中只有一个值\n",
    "\n",
    "training_data = datasets.MNIST(\n",
    "    root=\"./data\",\n",
    "    train=True,\n",
    "    download=True,\n",
    "    transform=transform_fu\n",
    ")\n",
    "\n",
    "test_data = datasets.MNIST(\n",
    "    root=\"./data\",\n",
    "    train=False,\n",
    "    download=True,\n",
    "    transform=transform_fu\n",
    ")"
   ]
  },
  {
   "cell_type": "markdown",
   "id": "a17788d6",
   "metadata": {},
   "source": [
    "### 图像分类\n",
    "\n",
    "| [`Caltech101`](https://pytorch.org/vision/stable/generated/torchvision.datasets.Caltech101.html#torchvision.datasets.Caltech101)(root, target_type, str] =, ...) | [加州理工学院 101](http://www.vision.caltech.edu/Image_Datasets/Caltech101/)数据集。 |\n",
    "| :----------------------------------------------------------- | ------------------------------------------------------------ |\n",
    "| [`Caltech256`](https://pytorch.org/vision/stable/generated/torchvision.datasets.Caltech256.html#torchvision.datasets.Caltech256)（根，变换，...） | [加州理工学院 256](http://www.vision.caltech.edu/Image_Datasets/Caltech256/)数据集。 |\n",
    "| [`CelebA`](https://pytorch.org/vision/stable/generated/torchvision.datasets.CelebA.html#torchvision.datasets.CelebA)(root, split, target_type, str] =, ...) | [大规模 CelebFaces 属性 (CelebA) 数据](http://mmlab.ie.cuhk.edu.hk/projects/CelebA.html)集数据集。 |\n",
    "| [`CIFAR10`](https://pytorch.org/vision/stable/generated/torchvision.datasets.CIFAR10.html#torchvision.datasets.CIFAR10)（根，训练，变换，...） | [CIFAR10](https://www.cs.toronto.edu/~kriz/cifar.html)数据集。 |\n",
    "| [`CIFAR100`](https://pytorch.org/vision/stable/generated/torchvision.datasets.CIFAR100.html#torchvision.datasets.CIFAR100)（根，训练，变换，...） | [CIFAR100](https://www.cs.toronto.edu/~kriz/cifar.html)数据集。 |\n",
    "| [`Country211`](https://pytorch.org/vision/stable/generated/torchvision.datasets.Country211.html#torchvision.datasets.Country211)（根、拆分、转换……） | [OpenAI 的 Country211数据集](https://github.com/openai/CLIP/blob/main/data/country211.md)。 |\n",
    "| [`DTD`](https://pytorch.org/vision/stable/generated/torchvision.datasets.DTD.html#torchvision.datasets.DTD)（根、拆分、分区、转换……） | [可描述纹理数据集（DTD）](https://www.robots.ox.ac.uk/~vgg/data/dtd/)。 |\n",
    "| [`EMNIST`](https://pytorch.org/vision/stable/generated/torchvision.datasets.EMNIST.html#torchvision.datasets.EMNIST)（根，分裂，**kwargs） | [EMNIST](https://www.westernsydney.edu.au/bens/home/reproducible_research/emnist)数据集。 |\n",
    "| [`EuroSAT`](https://pytorch.org/vision/stable/generated/torchvision.datasets.EuroSAT.html#torchvision.datasets.EuroSAT)（根，变换，target_transform，...） | [EuroSAT](https://github.com/phelber/eurosat)数据集的 RGB 版本。 |\n",
    "| [`FakeData`](https://pytorch.org/vision/stable/generated/torchvision.datasets.FakeData.html#torchvision.datasets.FakeData)（大小，image_size，int，int] =，...） | 返回随机生成的图像并将它们作为 PIL 图像返回的假数据集        |\n",
    "| [`FashionMNIST`](https://pytorch.org/vision/stable/generated/torchvision.datasets.FashionMNIST.html#torchvision.datasets.FashionMNIST)（根，训练，变换，...） | [时尚-MNIST](https://github.com/zalandoresearch/fashion-mnist)数据集。 |\n",
    "| [`FER2013`](https://pytorch.org/vision/stable/generated/torchvision.datasets.FER2013.html#torchvision.datasets.FER2013)（根、拆分、变换、target_transform） | [FER2013](https://www.kaggle.com/c/challenges-in-representation-learning-facial-expression-recognition-challenge)数据集。 |\n",
    "| [`FGVCAircraft`](https://pytorch.org/vision/stable/generated/torchvision.datasets.FGVCAircraft.html#torchvision.datasets.FGVCAircraft)(root, split, annotation_level, ...) | [FGVC 飞机](https://www.robots.ox.ac.uk/~vgg/data/fgvc-aircraft/)数据集。 |\n",
    "| [`Flickr8k`](https://pytorch.org/vision/stable/generated/torchvision.datasets.Flickr8k.html#torchvision.datasets.Flickr8k)（根，ann_file，变换，...） | [Flickr8k 实体](http://hockenmaier.cs.illinois.edu/8k-pictures.html)数据集。 |\n",
    "| [`Flickr30k`](https://pytorch.org/vision/stable/generated/torchvision.datasets.Flickr30k.html#torchvision.datasets.Flickr30k)（根，ann_file，变换，...） | [Flickr30k 实体](https://bryanplummer.com/Flickr30kEntities/)数据集。 |\n",
    "| [`Flowers102`](https://pytorch.org/vision/stable/generated/torchvision.datasets.Flowers102.html#torchvision.datasets.Flowers102)（根、拆分、转换……） | [牛津 102 花](https://www.robots.ox.ac.uk/~vgg/data/flowers/102/)数据集。 |\n",
    "| [`Food101`](https://pytorch.org/vision/stable/generated/torchvision.datasets.Food101.html#torchvision.datasets.Food101)（根、拆分、转换……） | [Food-101 数据集](https://data.vision.ee.ethz.ch/cvl/datasets_extra/food-101/)。 |\n",
    "| [`GTSRB`](https://pytorch.org/vision/stable/generated/torchvision.datasets.GTSRB.html#torchvision.datasets.GTSRB)（根、拆分、转换……） | [德国交通标志识别基准 (GTSRB)](https://benchmark.ini.rub.de/)数据集。 |\n",
    "| [`INaturalist`](https://pytorch.org/vision/stable/generated/torchvision.datasets.INaturalist.html#torchvision.datasets.INaturalist)（根，版本，target_type，...） | [iNaturalist](https://github.com/visipedia/inat_comp)数据集。 |\n",
    "| [`ImageNet`](https://pytorch.org/vision/stable/generated/torchvision.datasets.ImageNet.html#torchvision.datasets.ImageNet)（根，分裂，**kwargs） | [ImageNet](http://image-net.org/) 2012 分类数据集。          |\n",
    "| [`KMNIST`](https://pytorch.org/vision/stable/generated/torchvision.datasets.KMNIST.html#torchvision.datasets.KMNIST)（根，训练，变换，...） | [小说-MNIST](https://github.com/rois-codh/kmnist)数据集。    |\n",
    "| [`LFWPeople`](https://pytorch.org/vision/stable/generated/torchvision.datasets.LFWPeople.html#torchvision.datasets.LFWPeople)（根，拆分，image_set，变换，...） | [LFW](http://vis-www.cs.umass.edu/lfw/)数据集。              |\n",
    "| [`LSUN`](https://pytorch.org/vision/stable/generated/torchvision.datasets.LSUN.html#torchvision.datasets.LSUN)（根，类，List[str]] =，变换，...） | [LSUN](https://www.yf.io/p/lsun)数据集。                     |\n",
    "| [`MNIST`](https://pytorch.org/vision/stable/generated/torchvision.datasets.MNIST.html#torchvision.datasets.MNIST)（根，训练，变换，...） | [MNIST](http://yann.lecun.com/exdb/mnist/)数据集。           |\n",
    "| [`Omniglot`](https://pytorch.org/vision/stable/generated/torchvision.datasets.Omniglot.html#torchvision.datasets.Omniglot)（根，背景，变换，...） | [Omniglot](https://github.com/brendenlake/omniglot)数据集。  |\n",
    "| [`OxfordIIITPet`](https://pytorch.org/vision/stable/generated/torchvision.datasets.OxfordIIITPet.html#torchvision.datasets.OxfordIIITPet)（根，拆分，target_types，...） | [Oxford-IIIT 宠物数据集](https://www.robots.ox.ac.uk/~vgg/data/pets/)。 |\n",
    "| [`Places365`](https://pytorch.org/vision/stable/generated/torchvision.datasets.Places365.html#torchvision.datasets.Places365)（根，拆分，小，下载，...） | [Places365](http://places2.csail.mit.edu/index.html)分类数据集。 |\n",
    "| [`PCAM`](https://pytorch.org/vision/stable/generated/torchvision.datasets.PCAM.html#torchvision.datasets.PCAM)（根、拆分、转换……） | [PCAM 数据集](https://github.com/basveeling/pcam)。          |\n",
    "| [`QMNIST`](https://pytorch.org/vision/stable/generated/torchvision.datasets.QMNIST.html#torchvision.datasets.QMNIST)（root、what、compat、train、**kwargs） | [QMNIST](https://github.com/facebookresearch/qmnist)数据集。 |\n",
    "| [`RenderedSST2`](https://pytorch.org/vision/stable/generated/torchvision.datasets.RenderedSST2.html#torchvision.datasets.RenderedSST2)（根、拆分、转换……） | [渲染的 SST2 数据集](https://github.com/openai/CLIP/blob/main/data/rendered-sst2.md)。 |\n",
    "| [`SEMEION`](https://pytorch.org/vision/stable/generated/torchvision.datasets.SEMEION.html#torchvision.datasets.SEMEION)（根，变换，target_transform，...） | [SEMEION](http://archive.ics.uci.edu/ml/datasets/semeion+handwritten+digit)数据集。 |\n",
    "| [`SBU`](https://pytorch.org/vision/stable/generated/torchvision.datasets.SBU.html#torchvision.datasets.SBU)（根、变换、target_transform、下载） | [SBU 字幕照片](http://www.cs.virginia.edu/~vicente/sbucaptions/)数据集。 |\n",
    "| [`StanfordCars`](https://pytorch.org/vision/stable/generated/torchvision.datasets.StanfordCars.html#torchvision.datasets.StanfordCars)（根、拆分、转换……） | [斯坦福汽车](https://ai.stanford.edu/~jkrause/cars/car_dataset.html)数据集 |\n",
    "| [`STL10`](https://pytorch.org/vision/stable/generated/torchvision.datasets.STL10.html#torchvision.datasets.STL10)（根、拆分、折叠、变换……） | [STL10](https://cs.stanford.edu/~acoates/stl10/)数据集。     |\n",
    "| [`SUN397`](https://pytorch.org/vision/stable/generated/torchvision.datasets.SUN397.html#torchvision.datasets.SUN397)（根，变换，target_transform，...） | [SUN397 数据集](https://vision.princeton.edu/projects/2010/SUN/)。 |\n",
    "| [`SVHN`](https://pytorch.org/vision/stable/generated/torchvision.datasets.SVHN.html#torchvision.datasets.SVHN)（根、拆分、转换……） | [SVHN](http://ufldl.stanford.edu/housenumbers/)数据集。      |\n",
    "| [`USPS`](https://pytorch.org/vision/stable/generated/torchvision.datasets.USPS.html#torchvision.datasets.USPS)（根，训练，变换，...） | [USPS](https://www.csie.ntu.edu.tw/~cjlin/libsvmtools/datasets/multiclass.html#usps)数据集。 |\n",
    "\n",
    "### 图像检测或分割\n",
    "\n",
    "| [`CocoDetection`](https://pytorch.org/vision/stable/generated/torchvision.datasets.CocoDetection.html#torchvision.datasets.CocoDetection)（根，annFile，转换，...） | [MS Coco 检测](https://cocodataset.org/#detection-2016)数据集。 |\n",
    "| :----------------------------------------------------------- | ------------------------------------------------------------ |\n",
    "| [`CelebA`](https://pytorch.org/vision/stable/generated/torchvision.datasets.CelebA.html#torchvision.datasets.CelebA)(root, split, target_type, str] =, ...) | [大规模 CelebFaces 属性 (CelebA) 数据](http://mmlab.ie.cuhk.edu.hk/projects/CelebA.html)集数据集。 |\n",
    "| [`Cityscapes`](https://pytorch.org/vision/stable/generated/torchvision.datasets.Cityscapes.html#torchvision.datasets.Cityscapes)(root, split, mode, target_type, ...) | [城市景观](http://www.cityscapes-dataset.com/)数据集。       |\n",
    "| [`GTSRB`](https://pytorch.org/vision/stable/generated/torchvision.datasets.GTSRB.html#torchvision.datasets.GTSRB)（根、拆分、转换……） | [德国交通标志识别基准 (GTSRB)](https://benchmark.ini.rub.de/)数据集。 |\n",
    "| [`Kitti`](https://pytorch.org/vision/stable/generated/torchvision.datasets.Kitti.html#torchvision.datasets.Kitti)（根，训练，变换，...） | [KITTI](http://www.cvlibs.net/datasets/kitti/eval_object.php?obj_benchmark)数据集。 |\n",
    "| [`OxfordIIITPet`](https://pytorch.org/vision/stable/generated/torchvision.datasets.OxfordIIITPet.html#torchvision.datasets.OxfordIIITPet)（根，拆分，target_types，...） | [Oxford-IIIT 宠物数据集](https://www.robots.ox.ac.uk/~vgg/data/pets/)。 |\n",
    "| [`SBDataset`](https://pytorch.org/vision/stable/generated/torchvision.datasets.SBDataset.html#torchvision.datasets.SBDataset)（根、image_set、模式、下载……） | [语义边界数据集](http://home.bharathh.info/pubs/codes/SBD/download.html) |\n",
    "| [`VOCSegmentation`](https://pytorch.org/vision/stable/generated/torchvision.datasets.VOCSegmentation.html#torchvision.datasets.VOCSegmentation)（根，年份，image_set，...） | [Pascal VOC](http://host.robots.ox.ac.uk/pascal/VOC/)分割数据集。 |\n",
    "| [`VOCDetection`](https://pytorch.org/vision/stable/generated/torchvision.datasets.VOCDetection.html#torchvision.datasets.VOCDetection)（根，年份，image_set，...） | [帕斯卡 VOC](http://host.robots.ox.ac.uk/pascal/VOC/)检测数据集。 |\n",
    "| [`WIDERFace`](https://pytorch.org/vision/stable/generated/torchvision.datasets.WIDERFace.html#torchvision.datasets.WIDERFace)（根、拆分、转换……） | [更宽的人脸](http://shuoyang1213.me/WIDERFACE/)数据集。      |\n",
    "\n",
    "### 光流\n",
    "\n",
    "| [`FlyingChairs`](https://pytorch.org/vision/stable/generated/torchvision.datasets.FlyingChairs.html#torchvision.datasets.FlyingChairs)（根[，拆分，变换]） | 用于光流的[FlyingChairs数据集。](https://lmb.informatik.uni-freiburg.de/resources/datasets/FlyingChairs.en.html#flyingchairs) |\n",
    "| :----------------------------------------------------------- | ------------------------------------------------------------ |\n",
    "| [`FlyingThings3D`](https://pytorch.org/vision/stable/generated/torchvision.datasets.FlyingThings3D.html#torchvision.datasets.FlyingThings3D)(root[, split, pass_name, ...]) | [FlyingThings3D](https://lmb.informatik.uni-freiburg.de/resources/datasets/SceneFlowDatasets.en.html)光流数据集。 |\n",
    "| [`HD1K`](https://pytorch.org/vision/stable/generated/torchvision.datasets.HD1K.html#torchvision.datasets.HD1K)（根[，拆分，变换]） | 用于光流的[HD1K数据集。](http://hci-benchmark.iwr.uni-heidelberg.de/) |\n",
    "| [`KittiFlow`](https://pytorch.org/vision/stable/generated/torchvision.datasets.KittiFlow.html#torchvision.datasets.KittiFlow)（根[，拆分，变换]） | [KITTI](http://www.cvlibs.net/datasets/kitti/eval_scene_flow.php?benchmark=flow)光流数据集 (2015)。 |\n",
    "| [`Sintel`](https://pytorch.org/vision/stable/generated/torchvision.datasets.Sintel.html#torchvision.datasets.Sintel)(root[, split, pass_name, transforms]) | 用于光流的[Sintel数据集。](http://sintel.is.tue.mpg.de/)     |\n",
    "\n",
    "### 图像对\n",
    "\n",
    "| [`LFWPairs`](https://pytorch.org/vision/stable/generated/torchvision.datasets.LFWPairs.html#torchvision.datasets.LFWPairs)（根，拆分，image_set，变换，...） | [LFW](http://vis-www.cs.umass.edu/lfw/)数据集。              |\n",
    "| :----------------------------------------------------------- | ------------------------------------------------------------ |\n",
    "| [`PhotoTour`](https://pytorch.org/vision/stable/generated/torchvision.datasets.PhotoTour.html#torchvision.datasets.PhotoTour)（根、名称、训练、转换、下载） | [多视图立体对应](http://matthewalunbrown.com/patchdata/patchdata.html)数据集。 |\n",
    "\n",
    "### 图片说明\n",
    "\n",
    "| [`CocoCaptions`](https://pytorch.org/vision/stable/generated/torchvision.datasets.CocoCaptions.html#torchvision.datasets.CocoCaptions)（根，annFile，转换，...） | [MS Coco 字幕](https://cocodataset.org/#captions-2015)数据集。 |\n",
    "| :----------------------------------------------------------- | ------------------------------------------------------------ |\n",
    "|                                                              |                                                              |\n",
    "\n",
    "### 视频分类\n",
    "\n",
    "| [`HMDB51`](https://pytorch.org/vision/stable/generated/torchvision.datasets.HMDB51.html#torchvision.datasets.HMDB51)（根，annotation_path，...） | [HMDB51](https://serre-lab.clps.brown.edu/resource/hmdb-a-large-human-motion-database/)数据集。 |\n",
    "| ------------------------------------------------------------ | :----------------------------------------------------------- |\n",
    "| [`Kinetics`](https://pytorch.org/vision/stable/generated/torchvision.datasets.Kinetics.html#torchvision.datasets.Kinetics)（根，frames_per_clip，num_classes，...） | [通用动力学](https://deepmind.com/research/open-source/open-source-datasets/kinetics/)数据集。 |\n",
    "| [`Kinetics400`](https://pytorch.org/vision/stable/generated/torchvision.datasets.Kinetics400.html#torchvision.datasets.Kinetics400)（根，frames_per_clip，...） | [Kinetics-400](https://deepmind.com/research/open-source/open-source-datasets/kinetics/)数据集。 |\n",
    "| [`UCF101`](https://pytorch.org/vision/stable/generated/torchvision.datasets.UCF101.html#torchvision.datasets.UCF101)（根，annotation_path，...） | [UCF101](https://www.crcv.ucf.edu/data/UCF101.php)数据集。   |"
   ]
  },
  {
   "cell_type": "markdown",
   "id": "2cdabaaf",
   "metadata": {},
   "source": [
    "# 自建数据集"
   ]
  },
  {
   "cell_type": "raw",
   "id": "492173c4",
   "metadata": {},
   "source": [
    "自定义 Dataset 类必须实现三个函数：__init__、__len__和__getitem__。"
   ]
  },
  {
   "cell_type": "raw",
   "id": "80256773",
   "metadata": {},
   "source": [
    "label.csv\n",
    "\n",
    "tshirt1.jpg, 0\n",
    "tshirt2.jpg, 0\n",
    "......\n",
    "ankleboot999.jpg, 9"
   ]
  },
  {
   "cell_type": "raw",
   "id": "d786a2a2",
   "metadata": {},
   "source": [
    "class MYDataset(Dataset):\n",
    "    def __init__(self):\n",
    "        self.lines = open(data_path).readlines()\n",
    "\n",
    "    def __getitem__(self, index):\n",
    "        return self.lines[index].strip(\",\")\n",
    "\n",
    "    def __len__(self):\n",
    "        return len(self.lines)\n",
    "\n",
    "my_dataset = MYDataset()\n",
    "data_loader = DataLoader(dataset=my_dataset, batch_size=2, shuffle=True)"
   ]
  },
  {
   "cell_type": "code",
   "execution_count": 3,
   "id": "7e2e463c",
   "metadata": {},
   "outputs": [],
   "source": [
    "import os\n",
    "import pandas as pd\n",
    "from torchvision.io import read_image\n",
    "\n",
    "class CustomImageDataset(Dataset):\n",
    "    def __init__(self, annotations_file, img_dir, transform=None, target_transform=None):\n",
    "        self.img_labels = pd.read_csv(annotations_file)\n",
    "        self.img_dir = img_dir\n",
    "        self.transform = transform\n",
    "        self.target_transform = target_transform\n",
    "\n",
    "    def __len__(self):\n",
    "        return len(self.img_labels)\n",
    "\n",
    "    def __getitem__(self, idx):\n",
    "        img_path = os.path.join(self.img_dir, self.img_labels.iloc[idx, 0])\n",
    "        image = read_image(img_path)\n",
    "        label = self.img_labels.iloc[idx, 1]\n",
    "        if self.transform:\n",
    "            image = self.transform(image)\n",
    "        if self.target_transform:\n",
    "            label = self.target_transform(label)\n",
    "        return image, label"
   ]
  },
  {
   "cell_type": "markdown",
   "id": "ea0994a4",
   "metadata": {},
   "source": [
    "# 数据集展示"
   ]
  },
  {
   "cell_type": "code",
   "execution_count": 4,
   "id": "286c9871",
   "metadata": {},
   "outputs": [
    {
     "data": {
      "image/png": "[encoded data removed]",
      "text/plain": [
       "<Figure size 576x576 with 9 Axes>"
      ]
     },
     "metadata": {
      "needs_background": "light"
     },
     "output_type": "display_data"
    }
   ],
   "source": [
    "figure = plt.figure(figsize=(8, 8))\n",
    "cols, rows = 3, 3\n",
    "for i in range(1, cols * rows + 1):\n",
    "    sample_idx = torch.randint(len(training_data), size=(1,)).item()\n",
    "    img, label = training_data[sample_idx]\n",
    "    figure.add_subplot(rows, cols, i)\n",
    "    plt.title(label)\n",
    "    plt.axis(\"off\")\n",
    "    plt.imshow(img.squeeze())\n",
    "    #plt.imshow(img.squeeze(), cmap=\"gray\")\n",
    "plt.show()"
   ]
  },
  {
   "cell_type": "markdown",
   "id": "0fa8f8ac",
   "metadata": {},
   "source": [
    "# DataLoader：\n",
    "+ dataset: Dataset类， 决定数据从哪读取以及如何读取\n",
    "+ bathsize: 批大小\n",
    "+ num_works: 是否多进程读取机制\n",
    "+ shuffle: 每个epoch是否乱序\n",
    "+ drop_last: 当样本数不能被batchsize整除时， 是否舍弃最后一批数据"
   ]
  },
  {
   "cell_type": "code",
   "execution_count": 5,
   "id": "70bfce80",
   "metadata": {},
   "outputs": [],
   "source": [
    "train_dataloader = DataLoader(training_data, batch_size=64, shuffle=True)  #shuffle一次迭代完是否重新分配\n",
    "test_dataloader = DataLoader(test_data, batch_size=64, shuffle=True)"
   ]
  },
  {
   "cell_type": "code",
   "execution_count": 6,
   "id": "f4c2a28f",
   "metadata": {},
   "outputs": [
    {
     "name": "stdout",
     "output_type": "stream",
     "text": [
      "Feature batch shape: torch.Size([64, 1, 28, 28])\n",
      "Labels batch shape: torch.Size([64])\n"
     ]
    },
    {
     "data": {
      "image/png": "[encoded data removed]",
      "text/plain": [
       "<Figure size 432x288 with 1 Axes>"
      ]
     },
     "metadata": {
      "needs_background": "light"
     },
     "output_type": "display_data"
    },
    {
     "name": "stdout",
     "output_type": "stream",
     "text": [
      "Label: 3\n"
     ]
    }
   ],
   "source": [
    "train_features, train_labels = next(iter(train_dataloader))   # next()运行一次完成一次迭代\n",
    "print(f\"Feature batch shape: {train_features.size()}\")\n",
    "print(f\"Labels batch shape: {train_labels.size()}\")\n",
    "img = train_features[63]\n",
    "label = train_labels[63]\n",
    "plt.imshow(img.squeeze(), cmap=\"gray\")\n",
    "plt.show()\n",
    "print(f\"Label: {label}\")"
   ]
  },
  {
   "cell_type": "code",
   "execution_count": 7,
   "id": "bfa49f4d",
   "metadata": {},
   "outputs": [],
   "source": [
    "# 输出每一个batch的数据\n",
    "# for batch_features, batch_labels in iter(train_dataloader):\n",
    "#    print(\"imgs:\\t\", batch_features)\n",
    "#    print(\"labels:\\t\", batch_labels)"
   ]
  }
 ],
 "metadata": {
  "kernelspec": {
   "display_name": "Python 3",
   "language": "python",
   "name": "python3"
  },
  "language_info": {
   "codemirror_mode": {
    "name": "ipython",
    "version": 3
   },
   "file_extension": ".py",
   "mimetype": "text/x-python",
   "name": "python",
   "nbconvert_exporter": "python",
   "pygments_lexer": "ipython3",
   "version": "3.8.10"
  }
 },
 "nbformat": 4,
 "nbformat_minor": 5
}
