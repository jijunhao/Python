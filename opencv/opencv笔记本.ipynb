{
 "cells": [
  {
   "cell_type": "markdown",
   "id": "initial-shock",
   "metadata": {},
   "source": [
    "# 0.图片属性"
   ]
  },
  {
   "cell_type": "markdown",
   "id": "worthy-government",
   "metadata": {},
   "source": [
    "+ 通道数目BGR\n",
    "+ 高和宽\n",
    "+ 像素数据\n",
    "+ 位图深度"
   ]
  },
  {
   "cell_type": "markdown",
   "id": "therapeutic-adventure",
   "metadata": {},
   "source": [
    "# 1.show基本代码"
   ]
  },
  {
   "cell_type": "code",
   "execution_count": 10,
   "id": "diverse-species",
   "metadata": {},
   "outputs": [],
   "source": [
    "import cv2 as cv\n",
    "\n",
    "src = cv.imread(\"./image/lena.png\")\n",
    "cv.namedWindow(\"input image\", cv.WINDOW_AUTOSIZE)\n",
    "cv.imshow(\"input image\", src)\n",
    "cv.waitKey(0)           # 输入0\n",
    "\n",
    "cv.destroyAllWindows()  #释放所有内存"
   ]
  },
  {
   "cell_type": "markdown",
   "id": "concerned-poland",
   "metadata": {},
   "source": [
    "# 2.load"
   ]
  },
  {
   "cell_type": "markdown",
   "id": "competent-value",
   "metadata": {},
   "source": [
    "+ 图片"
   ]
  },
  {
   "cell_type": "code",
   "execution_count": 1,
   "id": "minus-balance",
   "metadata": {},
   "outputs": [
    {
     "name": "stdout",
     "output_type": "stream",
     "text": [
      "<class 'numpy.ndarray'>\n",
      "(512, 512, 3)\n",
      "786432\n",
      "uint8\n"
     ]
    }
   ],
   "source": [
    "import cv2 as cv\n",
    "import numpy as np\n",
    "\n",
    "def get_image_info(image):\n",
    "    print(type(image))\n",
    "    print(image.shape)\n",
    "    print(image.size)\n",
    "    print(image.dtype)\n",
    "    #pixel_data = np.array(image)\n",
    "    #print(pixel_data)\n",
    "\n",
    "\n",
    "src = cv.imread(\"./image/lena.png\")\n",
    "cv.namedWindow(\"input image\", cv.WINDOW_AUTOSIZE)\n",
    "cv.imshow(\"input image\", src)\n",
    "get_image_info(src)\n",
    "cv.waitKey(0)\n",
    "\n",
    "cv.destroyAllWindows()"
   ]
  },
  {
   "cell_type": "markdown",
   "id": "liberal-combination",
   "metadata": {},
   "source": [
    "+ 视频"
   ]
  },
  {
   "cell_type": "code",
   "execution_count": 12,
   "id": "referenced-salad",
   "metadata": {},
   "outputs": [],
   "source": [
    "import cv2 as cv\n",
    "import numpy as np\n",
    "\n",
    "\n",
    "capture = cv.VideoCapture(0)  # 多个摄像头0，1，2\n",
    "while(True):\n",
    "    ret, frame = capture.read()   #read里面可以放视频录音\n",
    "    frame = cv.flip(frame, 1)    #转换成正信号\n",
    "    cv.imshow(\"video\", frame)\n",
    "    c = cv.waitKey(1)\n",
    "    if c == 27:\n",
    "        break\n",
    "    \n",
    "capture.release()         \n",
    "cv.destroyAllWindows()"
   ]
  },
  {
   "cell_type": "markdown",
   "id": "collected-adobe",
   "metadata": {},
   "source": [
    "# 3. save图片"
   ]
  },
  {
   "cell_type": "code",
   "execution_count": 14,
   "id": "verified-custody",
   "metadata": {},
   "outputs": [],
   "source": [
    "import cv2 as cv\n",
    "\n",
    "src = cv.imread(\"./image/lena.png\")\n",
    "cv.namedWindow(\"input image\", cv.WINDOW_AUTOSIZE)\n",
    "cv.imshow(\"input image\", src)\n",
    "gray = cv.cvtColor(src, cv.COLOR_BGR2GRAY)\n",
    "cv.imwrite(\"result.png\", gray)\n",
    "cv.waitKey(0)\n",
    "\n",
    "cv.destroyAllWindows()"
   ]
  },
  {
   "cell_type": "markdown",
   "id": "focused-clerk",
   "metadata": {},
   "source": [
    "# 4.numpy操作"
   ]
  },
  {
   "cell_type": "code",
   "execution_count": 2,
   "id": "thrown-registration",
   "metadata": {},
   "outputs": [
    {
     "name": "stdout",
     "output_type": "stream",
     "text": [
      "time : 11.7728 ms\n"
     ]
    }
   ],
   "source": [
    "import cv2 as cv\n",
    "import numpy as np\n",
    "\n",
    "def access_pixels(image):\n",
    "    \"\"\"\n",
    "    展示shape，修改shape\n",
    "    \"\"\"\n",
    "    print(image.shape)\n",
    "    height = image.shape[0]\n",
    "    width = image.shape[1]\n",
    "    channels = image.shape[2]\n",
    "    print(\"width : %s/nheight : %s/nchannels : %s\"%(width, height, channels))\n",
    "    for row in range(height):\n",
    "        for col in range(width):\n",
    "            for c in range(channels):\n",
    "                pv = image[row, col, c]\n",
    "                image[row, col, c] = 255 - pv   # 自己灰度也行，速度慢\n",
    "    cv.imshow(\"pixels_demo\", image)\n",
    "    \n",
    "\n",
    "def create_image():\n",
    "    \"\"\"\n",
    "    创造shape\n",
    "    \"\"\"\n",
    "    img = np.zeros([400, 400, 3], np.uint8)\n",
    "    img[: , : , 0] = np.ones([400, 400])*255\n",
    "    cv.imshow(\"new image\", img)\n",
    "    \n",
    "\n",
    "t1 = cv.getTickCount()\n",
    "#access_pixels(src)\n",
    "create_image()\n",
    "t2 = cv.getTickCount()\n",
    "time = (t2-t1)/cv.getTickFrequency()\n",
    "print(\"time : %s ms\"%(time*1000))\n",
    "\n",
    "cv.waitKey(0)           # 任何输入\n",
    "\n",
    "cv.destroyAllWindows()  #释放所有内存"
   ]
  },
  {
   "cell_type": "markdown",
   "id": "featured-allocation",
   "metadata": {},
   "source": [
    "# 5.各种色彩空间转换"
   ]
  },
  {
   "cell_type": "code",
   "execution_count": null,
   "id": "blank-equivalent",
   "metadata": {},
   "outputs": [],
   "source": [
    "def color_space_demo(image):\n",
    "    gray = cv.cvtColor(image, cv.COLOR_BGR2GRAY)\n",
    "    cv.imshow(\"gray\", gray)\n",
    "    hsv = cv.cvtColor(image, cv.COLOR_BGR2HSV)        #H0-180 S0-255 V0-255\n",
    "    cv.imshow(\"hsv\", hsv)\n",
    "    yuv = cv.cvtColor(image, cv.COLOR_BGR2YUV)\n",
    "    cv.imshow(\"yuv\", yuv)\n",
    "    Ycrcb = cv.cvtColor(image, cv.COLOR_BGR2YCrCb)    #用于皮肤检测\n",
    "    cv.imshow(\"ycrcb\", Ycrcb)"
   ]
  },
  {
   "cell_type": "code",
   "execution_count": 9,
   "id": "thorough-opinion",
   "metadata": {},
   "outputs": [],
   "source": [
    "import numpy as np\n",
    "def extrace_object_demo():\n",
    "    \"\"\"\n",
    "    通过HSV，用inrange捕获一些颜色的图像，例如我找蓝色的\n",
    "    \n",
    "    \"\"\"\n",
    "    capture = cv.VideoCapture(\"E:\\Downloads\\Videos\\油猴脚本.mkv\")\n",
    "    while(True):\n",
    "        ret, frame = capture.read()\n",
    "        if ret == False:\n",
    "            break\n",
    "        hsv = cv.cvtColor(frame, cv.COLOR_BGR2HSV)\n",
    "        lower_hsv = np.array([100,43, 46])\n",
    "        upper_hsv = np.array([124, 255, 255])\n",
    "        mask = cv.inRange(hsv, lowerb=lower_hsv, upperb=upper_hsv)\n",
    "        #dst = cv.bitwise_and(frame, frame, mask=mask)\n",
    "        #cv.imshow(\"video\", frame)\n",
    "        cv.imshow(\"mask\", mask)\n",
    "        c = cv.waitKey(1)\n",
    "        if c == 27:\n",
    "            break\n",
    "\n",
    "extrace_object_demo()\n",
    "\n",
    "cv.waitKey(0)\n",
    "cv.destroyAllWindows()"
   ]
  },
  {
   "cell_type": "markdown",
   "id": "cutting-jersey",
   "metadata": {},
   "source": [
    "# 6.通道的分离与合并"
   ]
  },
  {
   "cell_type": "code",
   "execution_count": 13,
   "id": "genuine-liechtenstein",
   "metadata": {},
   "outputs": [],
   "source": [
    "src = cv.imread(\"./image/lena.png\")\n",
    "\n",
    "b, g, r = cv.split(src)\n",
    "cv.imshow(\"blue\", b)\n",
    "cv.imshow(\"green\", g)\n",
    "cv.imshow(\"red\", r)\n",
    "\n",
    "\n",
    "\n",
    "src[:, :, 0] = 0\n",
    "src = cv.merge([b, g, r])\n",
    "cv.imshow(\"changed image\", src)\n",
    "\n",
    "cv.waitKey(0)\n",
    "cv.destroyAllWindows()"
   ]
  },
  {
   "cell_type": "markdown",
   "id": "immune-blood",
   "metadata": {},
   "source": [
    "# 7.图片像素运算"
   ]
  },
  {
   "cell_type": "code",
   "execution_count": null,
   "id": "compatible-sender",
   "metadata": {},
   "outputs": [],
   "source": [
    "#算术运算（+-/*）\n",
    "def add_demo(m1, m2):\n",
    "    dst = cv.add(m1, m2)\n",
    "    cv.imshow(\"add_demo\", dst)\n",
    "\n",
    "\n",
    "def subtract_demo(m1, m2):\n",
    "    dst = cv.subtract(m1, m2)\n",
    "    cv.imshow(\"subtract_demo\", dst)\n",
    "\n",
    "\n",
    "def divide_demo(m1, m2):\n",
    "    dst = cv.divide(m1, m2)\n",
    "    cv.imshow(\"divide_demo\", dst)\n",
    "\n",
    "\n",
    "def multiply_demo(m1, m2):\n",
    "    dst = cv.multiply(m1, m2)\n",
    "    cv.imshow(\"multiply_demo\", dst)\n",
    "\n",
    "    \n",
    "\n",
    "# 逻辑运算（与或非）\n",
    "def logic_demo(m1, m2):\n",
    "    #dst = cv.bitwise_and(m1, m2)\n",
    "    #dst = cv.bitwise_or(m1, m2)\n",
    "    image = cv.imread(\"D:/vcprojects/images/demo.png\")\n",
    "    cv.imshow(\"image1\", image)\n",
    "    dst = cv.bitwise_not(image)\n",
    "    cv.imshow(\"logic_demo\", dst)\n",
    "\n",
    "    \n",
    "# 对比度、亮度\n",
    "def contrast_brightness_demo(image, c, b):\n",
    "    \"\"\"\n",
    "    c是对比度，b是亮度\n",
    "    \"\"\"\n",
    "    h, w, ch = image.shape\n",
    "    blank = np.zeros([h, w, ch], image.dtype)\n",
    "    dst = cv.addWeighted(image, c, blank, 1-c, b)\n",
    "    cv.imshow(\"con-bri-demo\", dst)\n",
    "\n",
    "    \n",
    "# 均值方差\n",
    "def others(m1, m2):\n",
    "    M1, dev1 = cv.meanStdDev(m1)\n",
    "    M2, dev2 = cv.meanStdDev(m2)\n",
    "    h, w = m1.shape[:2]\n",
    "\n",
    "    print(M1)\n",
    "    print(M2)\n",
    "\n",
    "    print(dev1)\n",
    "    print(dev2)\n",
    "\n",
    "    img = np.zeros([h, w], np.uint8)\n",
    "    m, dev = cv.meanStdDev(img)\n",
    "    print(m)\n",
    "    print(dev)"
   ]
  },
  {
   "cell_type": "code",
   "execution_count": null,
   "id": "super-paris",
   "metadata": {},
   "outputs": [],
   "source": []
  }
 ],
 "metadata": {
  "kernelspec": {
   "display_name": "Python 3",
   "language": "python",
   "name": "python3"
  },
  "language_info": {
   "codemirror_mode": {
    "name": "ipython",
    "version": 3
   },
   "file_extension": ".py",
   "mimetype": "text/x-python",
   "name": "python",
   "nbconvert_exporter": "python",
   "pygments_lexer": "ipython3",
   "version": "3.8.10"
  }
 },
 "nbformat": 4,
 "nbformat_minor": 5
}
