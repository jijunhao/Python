{
 "cells": [
  {
   "cell_type": "code",
   "execution_count": 1,
   "id": "4a7ab1f3",
   "metadata": {},
   "outputs": [
    {
     "name": "stdout",
     "output_type": "stream",
     "text": [
      "开始爬取...\n"
     ]
    },
    {
     "name": "stderr",
     "output_type": "stream",
     "text": [
      "  1%|          | 32/2974 [00:04<07:52,  6.22it/s]Some characters could not be decoded, and were replaced with REPLACEMENT CHARACTER.\n",
      "  2%|▏         | 55/2974 [00:08<08:09,  5.97it/s]"
     ]
    },
    {
     "name": "stdout",
     "output_type": "stream",
     "text": [
      "鲍尔斯 暂无数据！~\n"
     ]
    },
    {
     "name": "stderr",
     "output_type": "stream",
     "text": [
      "  2%|▏         | 73/2974 [00:11<06:12,  7.80it/s]Some characters could not be decoded, and were replaced with REPLACEMENT CHARACTER.\n",
      "  3%|▎         | 103/2974 [00:16<08:54,  5.37it/s]"
     ]
    },
    {
     "name": "stdout",
     "output_type": "stream",
     "text": [
      "未明 暂无数据！~\n",
      "帕姵特 暂无数据！~\n"
     ]
    },
    {
     "name": "stderr",
     "output_type": "stream",
     "text": [
      "\r",
      "  4%|▎         | 105/2974 [00:16<06:35,  7.26it/s]"
     ]
    },
    {
     "name": "stdout",
     "output_type": "stream",
     "text": [
      "阿森纳 暂无数据！~\n",
      "鲁塔 暂无数据！~\n",
      "鲁利 暂无数据！~\n"
     ]
    },
    {
     "name": "stderr",
     "output_type": "stream",
     "text": [
      "  4%|▎         | 108/2974 [00:16<06:15,  7.62it/s]"
     ]
    },
    {
     "name": "stdout",
     "output_type": "stream",
     "text": [
      "塞勒涅 暂无数据！~\n",
      "阿特洛波斯 暂无数据！~\n"
     ]
    },
    {
     "name": "stderr",
     "output_type": "stream",
     "text": [
      "  4%|▍         | 125/2974 [00:19<06:06,  7.76it/s]Some characters could not be decoded, and were replaced with REPLACEMENT CHARACTER.\n",
      "  5%|▌         | 162/2974 [00:25<06:53,  6.80it/s]Some characters could not be decoded, and were replaced with REPLACEMENT CHARACTER.\n",
      "  6%|▌         | 181/2974 [00:28<05:35,  8.32it/s]"
     ]
    },
    {
     "name": "stdout",
     "output_type": "stream",
     "text": [
      "安道尔 暂无数据！~\n"
     ]
    },
    {
     "name": "stderr",
     "output_type": "stream",
     "text": [
      " 14%|█▍        | 427/2974 [01:06<07:18,  5.81it/s]Some characters could not be decoded, and were replaced with REPLACEMENT CHARACTER.\n",
      " 14%|█▍        | 428/2974 [01:06<07:47,  5.44it/s]Some characters could not be decoded, and were replaced with REPLACEMENT CHARACTER.\n",
      " 19%|█▉        | 563/2974 [01:37<07:52,  5.10it/s]Some characters could not be decoded, and were replaced with REPLACEMENT CHARACTER.\n",
      " 38%|███▊      | 1143/2974 [03:52<07:47,  3.92it/s]Some characters could not be decoded, and were replaced with REPLACEMENT CHARACTER.\n",
      " 40%|████      | 1190/2974 [04:02<05:47,  5.13it/s]Some characters could not be decoded, and were replaced with REPLACEMENT CHARACTER.\n",
      " 78%|███████▊  | 2314/2974 [07:54<01:35,  6.93it/s]"
     ]
    },
    {
     "name": "stdout",
     "output_type": "stream",
     "text": [
      "树灵精 暂无数据！~\n"
     ]
    },
    {
     "name": "stderr",
     "output_type": "stream",
     "text": [
      " 86%|████████▌ | 2554/2974 [08:50<02:18,  3.03it/s]Some characters could not be decoded, and were replaced with REPLACEMENT CHARACTER.\n",
      " 88%|████████▊ | 2625/2974 [09:07<01:30,  3.85it/s]Some characters could not be decoded, and were replaced with REPLACEMENT CHARACTER.\n",
      " 88%|████████▊ | 2626/2974 [09:08<01:50,  3.14it/s]Some characters could not be decoded, and were replaced with REPLACEMENT CHARACTER.\n",
      " 88%|████████▊ | 2627/2974 [09:08<01:50,  3.14it/s]Some characters could not be decoded, and were replaced with REPLACEMENT CHARACTER.\n",
      "100%|██████████| 2974/2974 [10:24<00:00,  4.76it/s]"
     ]
    },
    {
     "name": "stdout",
     "output_type": "stream",
     "text": [
      "爬虫结束!\n"
     ]
    },
    {
     "name": "stderr",
     "output_type": "stream",
     "text": [
      "\n"
     ]
    }
   ],
   "source": [
    "from bs4 import BeautifulSoup\n",
    "import bs4\n",
    "import requests\n",
    "import pandas as pd\n",
    "import os\n",
    "from tqdm import trange\n",
    "\n",
    "target = 'http://news.4399.com/seer/jinglingdaquan/'\n",
    "html = requests.get(target).text\n",
    "\n",
    "print('开始爬取...')\n",
    "bf  = BeautifulSoup(html)\n",
    "t = bf.select('body > script')\n",
    "information = list(eval(str(t[0])[22:-12]))\n",
    "\n",
    "def mkdir(path):\n",
    "    if not os.path.exists(path):\n",
    "        os.makedirs(path) \n",
    "\n",
    "mkdir(\"精灵技能\")\n",
    "mkdir(\"精灵种族值\")\n",
    "\n",
    "df = pd.DataFrame(information).iloc[:,[0,1,5,6,9]]\n",
    "df.columns = ['精灵名称','详情页',\"编号\",\"属性\",\"种族值\"]\n",
    "df[\"编号\"] = df[\"编号\"].astype(int)\n",
    "\n",
    "for i in trange(len(df)):\n",
    "    df.iloc[i,1] = df.iloc[i,1].replace(r'\\/','/').strip()\n",
    "    if os.path.exists(\"./精灵种族值/\"+df.iloc[i,0]+\".xlsx\"):\n",
    "        continue\n",
    "    try:\n",
    "        html_lists=[]\n",
    "        # bs解析网站\n",
    "        html = BeautifulSoup(requests.get(df.iloc[i,1]).content,'html.parser')\n",
    "        # 爬取表格数据\n",
    "        for tr_data in html.find_all('tr'):\n",
    "            if len(tr_data.find_all('td'))==7:\n",
    "                html_contents_lists=[]\n",
    "                for td_data in tr_data.find_all('td')[:-1]:\n",
    "                    if isinstance(td_data.contents[0],str):\n",
    "                        html_contents_lists.append(td_data.contents[0].strip())  # 生成每一行的数据\n",
    "                html_lists.append(html_contents_lists)                           # 生成全部数据\n",
    "                \n",
    "\n",
    "        result_excel1=pd.DataFrame(html_lists[0:2])   # 种族值表\n",
    "        result_excel1.to_excel(\"./精灵种族值/\"+df.iloc[i,0]+\".xlsx\",index=False,header=False)\n",
    "        \n",
    "        result_excel2=pd.DataFrame(html_lists[3:],dtype=str,columns=html_lists[2])  # 技能表格\n",
    "        result_excel2.to_excel(\"./精灵技能/\"+df.iloc[i,0]+\".xlsx\",index=False)\n",
    "    except IndexError as e:    #未捕获到异常，程序直接报错\n",
    "        print(df.iloc[i,0],\"暂无数据！~\")\n",
    "    \n",
    "print('爬虫结束!')"
   ]
  },
  {
   "cell_type": "code",
   "execution_count": null,
   "id": "3f7af0ca",
   "metadata": {},
   "outputs": [],
   "source": []
  }
 ],
 "metadata": {
  "kernelspec": {
   "display_name": "Python 3 (ipykernel)",
   "language": "python",
   "name": "python3"
  },
  "language_info": {
   "codemirror_mode": {
    "name": "ipython",
    "version": 3
   },
   "file_extension": ".py",
   "mimetype": "text/x-python",
   "name": "python",
   "nbconvert_exporter": "python",
   "pygments_lexer": "ipython3",
   "version": "3.9.7"
  }
 },
 "nbformat": 4,
 "nbformat_minor": 5
}
