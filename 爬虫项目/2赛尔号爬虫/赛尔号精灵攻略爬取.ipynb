{
 "cells": [
  {
   "cell_type": "code",
   "execution_count": 1,
   "id": "4a7ab1f3",
   "metadata": {},
   "outputs": [
    {
     "name": "stdout",
     "output_type": "stream",
     "text": [
      "开始爬取...\n",
      "爬虫结束!\n"
     ]
    }
   ],
   "source": [
    "from bs4 import BeautifulSoup\n",
    "import requests\n",
    "import pandas as pd\n",
    "import os\n",
    "from tqdm import tqdm\n",
    "\n",
    "target = 'https://api.7k7k.com/openapi/?action=Activity.ListTmq&game_id=24163&kk=2553659101&page=69&callback=jQuery17206884374340887536_1654918211070&_=1654918244833'\n",
    "html = requests.get(target).text\n",
    "\n",
    "print('开始爬取...')\n",
    "bf  = BeautifulSoup(html)\n",
    "t = bf.select('body > script')\n",
    "information = list(eval(str(t[0])[22:-12]))\n",
    "\n",
    "def mkdir(path):\n",
    "    if not os.path.exists(path):\n",
    "        os.makedirs(path) \n",
    "\n",
    "mkdir(\"精灵技能\")\n",
    "\n",
    "df = pd.DataFrame(information).iloc[:,[0,1,5,6,9]]\n",
    "df.columns = ['精灵名称','详情页',\"编号\",\"属性\",\"种族值\"]\n",
    "df[\"编号\"] = df[\"编号\"].astype(int)\n",
    "\"\"\"\n",
    "for i in trange(len(df)):\n",
    "    df.iloc[i,1] = df.iloc[i,1].replace(r'\\/','/').strip()\n",
    "    try:\n",
    "        jl_df = pd.read_html(df.iloc[i,1])[2]   # 进入详情页爬取精灵技能\n",
    "        jl_df.to_excel(\"./精灵技能/\"+df.iloc[i,0]+\".xlsx\",index=False)\n",
    "    except IndexError as e:    #未捕获到异常，程序直接报错\n",
    "        print(e)\n",
    "\"\"\"\n",
    "df.sort_values(by=\"编号\",ascending=False,inplace=True)\n",
    "df.to_excel(\"赛尔号.xlsx\",index=False)\n",
    "print('爬虫结束!')"
   ]
  },
  {
   "cell_type": "code",
   "execution_count": null,
   "id": "b51eec8e",
   "metadata": {},
   "outputs": [],
   "source": []
  }
 ],
 "metadata": {
  "kernelspec": {
   "display_name": "Python 3 (ipykernel)",
   "language": "python",
   "name": "python3"
  },
  "language_info": {
   "codemirror_mode": {
    "name": "ipython",
    "version": 3
   },
   "file_extension": ".py",
   "mimetype": "text/x-python",
   "name": "python",
   "nbconvert_exporter": "python",
   "pygments_lexer": "ipython3",
   "version": "3.9.7"
  }
 },
 "nbformat": 4,
 "nbformat_minor": 5
}
