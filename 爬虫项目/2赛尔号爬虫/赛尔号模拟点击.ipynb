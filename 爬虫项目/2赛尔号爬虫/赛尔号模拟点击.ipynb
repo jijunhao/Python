{
 "cells": [
  {
   "cell_type": "code",
   "execution_count": 3,
   "id": "34bd50f0",
   "metadata": {},
   "outputs": [
    {
     "name": "stdout",
     "output_type": "stream",
     "text": [
      "定位到游戏窗体：(806, 128, 2026, 903)\n",
      "捕获屏幕截图...\n",
      "[(500, 568)]\n",
      "(500, 568)\n"
     ]
    }
   ],
   "source": [
    "import win32gui\n",
    "import win32con\n",
    "import win32api\n",
    "import cv2\n",
    "from PIL import ImageGrab\n",
    "from ctypes import *\n",
    "from ctypes.wintypes import *\n",
    "import numpy as np\n",
    "import time\n",
    "\n",
    "window = win32gui.FindWindow(\"WTWindow\",\"MG风神登录器 [当前未启用鼠标连点,按下CTRL+1启用]\")\n",
    "while not window:\n",
    "    print('定位游戏窗体失败，5秒后重试...')\n",
    "    time.sleep(5)\n",
    "    window = win32gui.FindWindow(\"WTWindow\",\"MG风神登录器 [当前未启用鼠标连点,按下CTRL+1启用]\")\n",
    "\n",
    "# 定位到游戏窗体\n",
    "def get_window_rect(hwnd):\n",
    "    try:\n",
    "        f = ctypes.windll.dwmapi.DwmGetWindowAttribute\n",
    "    except WindowsError:\n",
    "        f = None\n",
    "    if f:\n",
    "        rect = ctypes.wintypes.RECT()\n",
    "        DWMWA_EXTENDED_FRAME_BOUNDS = 9\n",
    "        f(ctypes.wintypes.HWND(hwnd),\n",
    "          ctypes.wintypes.DWORD(DWMWA_EXTENDED_FRAME_BOUNDS),\n",
    "          ctypes.byref(rect),\n",
    "          ctypes.sizeof(rect)\n",
    "          )\n",
    "        return rect.left, rect.top, rect.right, rect.bottom\n",
    "\n",
    "#win32gui.SetForegroundWindow(window)\n",
    "pos = get_window_rect(window)\n",
    "#pos = win32gui.GetWindowRect(window)\n",
    "print(\"定位到游戏窗体：\" + str(pos))\n",
    "\n",
    "print('捕获屏幕截图...')\n",
    "scim = ImageGrab.grab(bbox =pos)  # 屏幕截图，获取到的是Image类型对象\n",
    "img1 = cv2.cvtColor(np.asarray(scim),cv2.COLOR_RGB2BGR)\n",
    "img2 = cv2.imread(\"1.PNG\")\n",
    "result = cv2.matchTemplate(img2,img1,cv2.TM_CCOEFF_NORMED)\n",
    "locations = np.where(result >= 0.95)\n",
    "res = list(zip(locations[1], locations[0]))\n",
    "print(res)\n",
    "point = (res[0][0], res[0][1])\n",
    "print(point)\n",
    "win32api.SetCursorPos(point)\n",
    "time.sleep(0.05)\n",
    "# 左点击\n",
    "win32api.mouse_event(win32con.MOUSEEVENTF_LEFTDOWN, point[0],point[1], 0, 0)\n",
    "win32api.mouse_event(win32con.MOUSEEVENTF_LEFTUP, point[0],point[1], 0, 0)"
   ]
  },
  {
   "cell_type": "code",
   "execution_count": null,
   "id": "c88988d5",
   "metadata": {},
   "outputs": [],
   "source": []
  }
 ],
 "metadata": {
  "kernelspec": {
   "display_name": "Python 3 (ipykernel)",
   "language": "python",
   "name": "python3"
  },
  "language_info": {
   "codemirror_mode": {
    "name": "ipython",
    "version": 3
   },
   "file_extension": ".py",
   "mimetype": "text/x-python",
   "name": "python",
   "nbconvert_exporter": "python",
   "pygments_lexer": "ipython3",
   "version": "3.9.7"
  }
 },
 "nbformat": 4,
 "nbformat_minor": 5
}
