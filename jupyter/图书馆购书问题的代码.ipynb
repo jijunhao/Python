{
 "cells": [
  {
   "cell_type": "code",
   "execution_count": 2,
   "metadata": {},
   "outputs": [
    {
     "name": "stdout",
     "output_type": "stream",
     "text": [
      "解为 [360.1955489  252.02574164 132.11371681 166.56301563 176.14848458\n",
      " 198.29994564 110.09238922 220.18954701 132.11098577 110.09243427\n",
      "  88.07398263  22.01846631]\n",
      "功效函数值 0.8840950533014232\n",
      "学校购书的功效系数 0.8438155350474431\n",
      "学生满意度的功效系数 0.9262973135806275\n"
     ]
    }
   ],
   "source": [
    "import numpy as np\n",
    "import math\n",
    "from scipy.optimize import minimize\n",
    "import warnings\n",
    "warnings.filterwarnings(\"ignore\")\n",
    "A = np.array([2000.,1400,600,3800,800,900,500,1000,600,500,400,100])  # 各个类别的书想要看的人数\n",
    "def fun_1(n):\n",
    "    m = np.array([30.]*12)                   # 每种类型书的平均价格，全都定义为30元\n",
    "    Aij = np.r_[A,A,A].reshape(3,12)\n",
    "    a = np.r_[A * 0.8, np.zeros(24,dtype=np.float)].reshape(3, 12)\n",
    "    q = np.zeros((3, 12),dtype=np.float)\n",
    "    for j in range(12):\n",
    "        for i in range(3):\n",
    "            if i!=0:\n",
    "                for k in range(i):\n",
    "                    Aij[i][j] = Aij[i][j]- q[k][j]\n",
    "                a[i][j] = a[i-1][j]-a[i-1][j]*n[j]/Aij[i-1][j]\\\n",
    "                          -min(n[j]*a[i-1][j]/Aij[i-1][j],a[i-1][j]-n[j]*a[i-1][j]/Aij[i-1][j])\n",
    "            if  Aij[i][j] <= n[j]:\n",
    "                q[i][j] = Aij[i][j]\n",
    "            else:\n",
    "                q[i][j] = n[j]+min(n[j]*a[i][j]/Aij[i][j],a[i][j]-n[j]*a[i][j]/Aij[i][j])\n",
    "    z1 = 0\n",
    "    z2 = 0\n",
    "    for j in range(12):\n",
    "        z1 += m[j]*n[j]\n",
    "        z2 += q.sum(axis=0)[j]/A[j]\n",
    "    return [z1,z2/12]\n",
    "\n",
    "def fun_2(n):\n",
    "    # 定义功效函数，功效函数越大越好\n",
    "    h1 = (fun_1(A)[0]-fun_1(n)[0])/fun_1(A)[0]     # 定义min学校购书费用的功效函数\n",
    "    h2 = fun_1(n)[1]                               # 定义max学生满意度比例\n",
    "    return -math.sqrt(h1*h2)\n",
    "\n",
    "if __name__ == '__main__':\n",
    "    bounds = tuple(zip([0]*12,[2000.,1400,600,3800,800,900,500,1000,600,500,400,100]))   # 边界条件\n",
    "    n0 = A/100                # 定义初值条件，各个比例的的人数除100\n",
    "    res = minimize(fun_2, n0, bounds=bounds)\n",
    "    print(\"解为\",res.x)\n",
    "    print(\"功效函数值\",-res.fun)\n",
    "    print(\"学校购书的功效系数\",(fun_1(A)[0] - fun_1(res.x)[0]) / fun_1(A)[0])\n",
    "    print(\"学生满意度的功效系数\",fun_1(res.x)[1])"
   ]
  }
 ],
 "metadata": {
  "kernelspec": {
   "name": "python3",
   "language": "python",
   "display_name": "Python 3"
  },
  "language_info": {
   "codemirror_mode": {
    "name": "ipython",
    "version": 3
   },
   "file_extension": ".py",
   "mimetype": "text/x-python",
   "name": "python",
   "nbconvert_exporter": "python",
   "pygments_lexer": "ipython3",
   "version": "3.7.6"
  },
  "varInspector": {
   "cols": {
    "lenName": 16,
    "lenType": 16,
    "lenVar": 40
   },
   "kernels_config": {
    "python": {
     "delete_cmd_postfix": "",
     "delete_cmd_prefix": "del ",
     "library": "var_list.py",
     "varRefreshCmd": "print(var_dic_list())"
    },
    "r": {
     "delete_cmd_postfix": ") ",
     "delete_cmd_prefix": "rm(",
     "library": "var_list.r",
     "varRefreshCmd": "cat(var_dic_list()) "
    }
   },
   "types_to_exclude": [
    "module",
    "function",
    "builtin_function_or_method",
    "instance",
    "_Feature"
   ],
   "window_display": false
  }
 },
 "nbformat": 4,
 "nbformat_minor": 4
}