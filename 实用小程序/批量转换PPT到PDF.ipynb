{
 "cells": [
  {
   "cell_type": "code",
   "execution_count": 1,
   "metadata": {},
   "outputs": [
    {
     "name": "stdout",
     "output_type": "stream",
     "text": [
      "E:\\新建文件夹\\4.1-4.3异方差及加权最小二乘估计.pdf转换成功\n",
      "E:\\新建文件夹\\4.4自相关性及迭代法、差分法.pdf转换成功\n",
      "E:\\新建文件夹\\第10讲.pdf转换成功\n",
      "E:\\新建文件夹\\第11讲.pdf转换成功\n",
      "E:\\新建文件夹\\第12讲.pdf转换成功\n",
      "E:\\新建文件夹\\第13讲.pdf转换成功\n",
      "E:\\新建文件夹\\第14讲.pdf转换成功\n",
      "E:\\新建文件夹\\第15讲.pdf转换成功\n",
      "E:\\新建文件夹\\第16讲.pdf转换成功\n",
      "E:\\新建文件夹\\第17讲.pdf转换成功\n",
      "E:\\新建文件夹\\第18讲.pdf转换成功\n",
      "E:\\新建文件夹\\第19讲.pdf转换成功\n",
      "E:\\新建文件夹\\第1讲.pdf转换成功\n",
      "E:\\新建文件夹\\第20讲.pdf转换成功\n",
      "E:\\新建文件夹\\第21讲.pdf转换成功\n",
      "E:\\新建文件夹\\第22讲.pdf转换成功\n",
      "E:\\新建文件夹\\第2讲.pdf转换成功\n",
      "E:\\新建文件夹\\第3讲.pdf转换成功\n",
      "E:\\新建文件夹\\第4讲.pdf转换成功\n",
      "E:\\新建文件夹\\第5讲.pdf转换成功\n",
      "E:\\新建文件夹\\第6讲.pdf转换成功\n",
      "E:\\新建文件夹\\第7讲.pdf转换成功\n",
      "E:\\新建文件夹\\第8讲.pdf转换成功\n",
      "E:\\新建文件夹\\第9讲.pdf转换成功\n",
      "删除文件: E:\\新建文件夹\\4.1-4.3异方差及加权最小二乘估计.ppt\n",
      "删除文件: E:\\新建文件夹\\4.4自相关性及迭代法、差分法.ppt\n",
      "删除文件: E:\\新建文件夹\\第10讲.ppt\n",
      "删除文件: E:\\新建文件夹\\第11讲.ppt\n",
      "删除文件: E:\\新建文件夹\\第12讲.ppt\n",
      "删除文件: E:\\新建文件夹\\第13讲.ppt\n",
      "删除文件: E:\\新建文件夹\\第14讲.pptx\n",
      "删除文件: E:\\新建文件夹\\第15讲.pptx\n",
      "删除文件: E:\\新建文件夹\\第16讲.pptx\n",
      "删除文件: E:\\新建文件夹\\第17讲.ppt\n",
      "删除文件: E:\\新建文件夹\\第18讲.ppt\n",
      "删除文件: E:\\新建文件夹\\第19讲.pptx\n",
      "删除文件: E:\\新建文件夹\\第1讲.ppt\n",
      "删除文件: E:\\新建文件夹\\第20讲.pptx\n",
      "删除文件: E:\\新建文件夹\\第21讲.pptx\n",
      "删除文件: E:\\新建文件夹\\第22讲.ppt\n",
      "删除文件: E:\\新建文件夹\\第2讲.ppt\n",
      "删除文件: E:\\新建文件夹\\第3讲.ppt\n",
      "删除文件: E:\\新建文件夹\\第4讲.ppt\n",
      "删除文件: E:\\新建文件夹\\第5讲.ppt\n",
      "删除文件: E:\\新建文件夹\\第6讲.ppt\n",
      "删除文件: E:\\新建文件夹\\第7讲.ppt\n",
      "删除文件: E:\\新建文件夹\\第8讲.ppt\n",
      "删除文件: E:\\新建文件夹\\第9讲.ppt\n"
     ]
    }
   ],
   "source": [
    "import comtypes.client\n",
    "import os\n",
    "\n",
    "def init_powerpoint():\n",
    "    powerpoint = comtypes.client.CreateObject(\"Powerpoint.Application\")\n",
    "    powerpoint.Visible = 1\n",
    "    return powerpoint\n",
    "\n",
    "\n",
    "def ppt_to_pdf(powerpoint, inputFileName, outputFileName, formatType = 32):\n",
    "    if outputFileName[-3:] != 'pdf':\n",
    "        outputFileName = '.'.join(outputFileName.split('.')[:-1]) + \".pdf\"\n",
    "        try:\n",
    "            deck = powerpoint.Presentations.Open(inputFileName)\n",
    "            deck.SaveAs(outputFileName, formatType) # formatType = 32 for ppt to pdf\n",
    "            deck.Close()\n",
    "        except Exception as e:\n",
    "            print(e)\n",
    "        print(outputFileName+\"转换成功\")\n",
    "\n",
    "\n",
    "        \n",
    "def convert_files_in_folder(powerpoint, folder):\n",
    "    \"\"\"\n",
    "    找所有的PPT文件进行转换.ppt,.pptx\n",
    "    \"\"\"\n",
    "    files = os.listdir(folder)\n",
    "    pptfiles = [f for f in files if f.endswith((\".ppt\", \".pptx\"))]\n",
    "    for pptfile in pptfiles:\n",
    "        fullpath = os.path.join(cwd, pptfile)\n",
    "        ppt_to_pdf(powerpoint, fullpath, fullpath)\n",
    "\n",
    "        \n",
    "def del_files(path):\n",
    "    \"\"\"\n",
    "    PDF转化成功后，删除PPT文件\n",
    "    \"\"\"\n",
    "    for root , dirs, files in os.walk(path):\n",
    "        for name in files:\n",
    "            if name.endswith((\".ppt\", \".pptx\")):\n",
    "                os.remove(os.path.join(root,name))         \n",
    "                print (\"删除文件: \" + os.path.join(root, name))\n",
    "\n",
    "if __name__ == \"__main__\":\n",
    "    powerpoint = init_powerpoint()\n",
    "    #cwd = os.getcwd() #获取当前文件夹，在当前文件夹操作\n",
    "    cwd = \"E:\\新建文件夹\"   #所有的PPT塞进这个文件夹\n",
    "    convert_files_in_folder(powerpoint, cwd)\n",
    "    del_files(cwd)\n",
    "    powerpoint.Quit()"
   ]
  },
  {
   "cell_type": "code",
   "execution_count": null,
   "metadata": {},
   "outputs": [],
   "source": []
  }
 ],
 "metadata": {
  "kernelspec": {
   "display_name": "Python 3",
   "language": "python",
   "name": "python3"
  },
  "language_info": {
   "codemirror_mode": {
    "name": "ipython",
    "version": 3
   },
   "file_extension": ".py",
   "mimetype": "text/x-python",
   "name": "python",
   "nbconvert_exporter": "python",
   "pygments_lexer": "ipython3",
   "version": "3.8.3"
  },
  "varInspector": {
   "cols": {
    "lenName": 16,
    "lenType": 16,
    "lenVar": 40
   },
   "kernels_config": {
    "python": {
     "delete_cmd_postfix": "",
     "delete_cmd_prefix": "del ",
     "library": "var_list.py",
     "varRefreshCmd": "print(var_dic_list())"
    },
    "r": {
     "delete_cmd_postfix": ") ",
     "delete_cmd_prefix": "rm(",
     "library": "var_list.r",
     "varRefreshCmd": "cat(var_dic_list()) "
    }
   },
   "types_to_exclude": [
    "module",
    "function",
    "builtin_function_or_method",
    "instance",
    "_Feature"
   ],
   "window_display": false
  }
 },
 "nbformat": 4,
 "nbformat_minor": 4
}
