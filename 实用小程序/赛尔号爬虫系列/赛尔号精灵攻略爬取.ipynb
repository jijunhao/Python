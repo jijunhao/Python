{
 "cells": [
  {
   "cell_type": "code",
   "execution_count": 1,
   "id": "4a7ab1f3",
   "metadata": {},
   "outputs": [
    {
     "name": "stdout",
     "output_type": "stream",
     "text": [
      "开始爬取...\n"
     ]
    },
    {
     "name": "stderr",
     "output_type": "stream",
     "text": [
      "100%|██████████████████████████████████████████████████████████████████████████████| 2922/2922 [07:29<00:00,  6.50it/s]\n"
     ]
    },
    {
     "name": "stdout",
     "output_type": "stream",
     "text": [
      "爬虫结束!\n"
     ]
    }
   ],
   "source": [
    "from bs4 import BeautifulSoup\n",
    "import requests\n",
    "import json\n",
    "import pandas as pd\n",
    "from tqdm import trange\n",
    "\n",
    "result = {}\n",
    "\n",
    "df = pd.DataFrame([])\n",
    "\n",
    "target = 'http://news.4399.com/seer/jinglingdaquan/'\n",
    "html = requests.get(target).text\n",
    "\n",
    "print('开始爬取...')\n",
    "bf  = BeautifulSoup(html)\n",
    "t = bf.select('body > script')\n",
    "information = json.loads(str(t[0])[22:-12])\n",
    "\n",
    "def Merge(dict1, dict2): \n",
    "    res = {**dict1, **dict2} \n",
    "    return res \n",
    "\n",
    "for i in trange(len(information)):\n",
    "    result[\"id\"] = information[i][5]\n",
    "    result[\"名称\"] = information[i][0]\n",
    "    result[\"属性\"] = information[i][6]\n",
    "    result[\"详情\"] = information[i][1]\n",
    "    \n",
    "    jl_df = pd.read_html(information[i][1].strip())[0]   # 进入详情页爬取精灵种族值\n",
    "    jl_df.replace('种族值详细资料内容暂无，小编会尽快补充哦~','',inplace=True)\n",
    "    jl = list(jl_df.T.to_dict().values())[0]  \n",
    "    \n",
    "    result = Merge(result, jl)\n",
    "    \n",
    "    df=df.append(result,ignore_index=True)\n",
    "df.to_excel(\"赛尔号攻略.xlsx\",index=False)\n",
    "print('爬虫结束!')"
   ]
  },
  {
   "cell_type": "code",
   "execution_count": null,
   "id": "c95edc2c",
   "metadata": {},
   "outputs": [],
   "source": []
  }
 ],
 "metadata": {
  "kernelspec": {
   "display_name": "Python 3 (ipykernel)",
   "language": "python",
   "name": "python3"
  },
  "language_info": {
   "codemirror_mode": {
    "name": "ipython",
    "version": 3
   },
   "file_extension": ".py",
   "mimetype": "text/x-python",
   "name": "python",
   "nbconvert_exporter": "python",
   "pygments_lexer": "ipython3",
   "version": "3.8.12"
  }
 },
 "nbformat": 4,
 "nbformat_minor": 5
}
