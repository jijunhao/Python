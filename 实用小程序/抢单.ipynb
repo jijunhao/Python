{
 "cells": [
  {
   "cell_type": "raw",
   "metadata": {},
   "source": [
    "pip install selenium\n",
    "\n",
    "下载https://chromedriver.storage.googleapis.com/index.html 根据自己的谷歌浏览器版本来\n",
    "\n",
    "放入到anaconda的script中去\n",
    "\n",
    "程序只能自己点扫码登录，账号密码登录还要验证码太烦，建议提前运行程序进入"
   ]
  },
  {
   "cell_type": "code",
   "execution_count": null,
   "metadata": {},
   "outputs": [],
   "source": [
    "# 提前5分钟进入，保持网络畅通\n",
    "from selenium import webdriver\n",
    "import datetime\n",
    "import time\n",
    "\n",
    "browser = webdriver.Chrome()          # 打开谷歌浏览器\n",
    "browser.maximize_window()             # 最大化浏览器\n",
    "browser.get(\"https://www.taobao.com\") # 打开淘宝\n",
    "time.sleep(3)                         # 等待完全加载，只有3秒\n",
    "\n",
    "if browser.find_element_by_link_text(\"亲，请登录\"):\n",
    "    browser.find_element_by_link_text(\"亲，请登录\").click()   # 手动扫码登录\n",
    "    time.sleep(10)                                            # 给10秒扫码\n",
    "    \n",
    "browser.get(\"https://cart.taobao.com/cart.htm\")               # 打开购物车\n",
    "\n",
    "# 全选购物车\n",
    "try:\n",
    "    if browser.find_element_by_id(\"J_SelectAll1\"):            \n",
    "        browser.find_element_by_id(\"J_SelectAll1\").click()\n",
    "except:\n",
    "    print(\"找不到购买按钮\")\n",
    "    \n",
    "\n",
    "times = \"2020-11-02 21:57:00.000\"       # 抢购时间，时间格式：\"2020-11-01 20:59:00.000\"\n",
    "\n",
    "while True:\n",
    "    now = datetime.datetime.now().strftime('%Y-%m-%d %H:%M:%S.%f')\n",
    "    if now > times:\n",
    "            # 自动反复点击结算按钮\n",
    "        while True:\n",
    "            try:\n",
    "                if browser.find_element_by_link_text(\"结 算\"):\n",
    "                    browser.find_element_by_link_text(\"结 算\").click()\n",
    "                    #print(\"结算成功，准备提交订单\")\n",
    "                    break\n",
    "            except:\n",
    "                pass\n",
    "            # 自动反复点击提交订单按钮\n",
    "        while True:\n",
    "            try:\n",
    "                if browser.find_element_by_link_text('提交订单'):\n",
    "                    browser.find_element_by_link_text('提交订单').click()\n",
    "                    #print(\"抢购成功，请尽快付款\")\n",
    "            except:\n",
    "                pass\n",
    "                #print(\"再次尝试提交订单\")\n",
    "        time.sleep(0.01)"
   ]
  },
  {
   "cell_type": "code",
   "execution_count": null,
   "metadata": {},
   "outputs": [],
   "source": []
  }
 ],
 "metadata": {
  "kernelspec": {
   "display_name": "Python 3",
   "language": "python",
   "name": "python3"
  },
  "language_info": {
   "codemirror_mode": {
    "name": "ipython",
    "version": 3
   },
   "file_extension": ".py",
   "mimetype": "text/x-python",
   "name": "python",
   "nbconvert_exporter": "python",
   "pygments_lexer": "ipython3",
   "version": "3.8.3"
  },
  "varInspector": {
   "cols": {
    "lenName": 16,
    "lenType": 16,
    "lenVar": 40
   },
   "kernels_config": {
    "python": {
     "delete_cmd_postfix": "",
     "delete_cmd_prefix": "del ",
     "library": "var_list.py",
     "varRefreshCmd": "print(var_dic_list())"
    },
    "r": {
     "delete_cmd_postfix": ") ",
     "delete_cmd_prefix": "rm(",
     "library": "var_list.r",
     "varRefreshCmd": "cat(var_dic_list()) "
    }
   },
   "types_to_exclude": [
    "module",
    "function",
    "builtin_function_or_method",
    "instance",
    "_Feature"
   ],
   "window_display": false
  }
 },
 "nbformat": 4,
 "nbformat_minor": 4
}
