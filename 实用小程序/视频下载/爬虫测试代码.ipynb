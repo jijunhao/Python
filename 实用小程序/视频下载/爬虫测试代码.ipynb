{
 "cells": [
  {
   "cell_type": "code",
   "execution_count": 1,
   "id": "598ca175",
   "metadata": {},
   "outputs": [
    {
     "name": "stdout",
     "output_type": "stream",
     "text": [
      "{\"dltype\":8,\"em\":0,\"exem\":0,\"fl\":{\"cnt\":4,\"fi\":[{\"id\":321001,\"name\":\"sd\",\"lmt\":0,\"sb\":1,\"cname\":\"流畅;(270P)\",\"br\":50,\"profile\":4,\"drm\":0,\"type\":11,\"video\":1,\"audio\":1,\"fs\":41404932,\"super\":0,\"hdr10enh\":0,\"sname\":\"标清\",\"resolution\":\"270P\",\"recommend\":0,\"vfps\":25,\"bandwidth\":231834,\"audiobandwidth\":34687,\"formatdefn\":\"sd\",\"sl\":0,\"m3u8resolution\":\"\"},{\"id\":321002,\"name\":\"hd\",\"lmt\":0,\"sb\":1,\"cname\":\"标清;(480P)\",\"br\":75,\"profile\":4,\"drm\":0,\"type\":11,\"video\":1,\"audio\":1,\"fs\":91486064,\"super\":0,\"hdr10enh\":0,\"sname\":\"高清\",\"resolution\":\"480P\",\"recommend\":0,\"vfps\":25,\"bandwidth\":570178,\"audiobandwidth\":47437,\"formatdefn\":\"hd\",\"sl\":1,\"m3u8resolution\":\"\"},{\"id\":321003,\"name\":\"shd\",\"lmt\":0,\"sb\":1,\"cname\":\"准高清;(720P)\",\"br\":80,\"profile\":4,\"drm\":0,\"type\":11,\"video\":1,\"audio\":1,\"fs\":155781124,\"super\":0,\"hdr10enh\":0,\"sname\":\"超清\",\"resolution\":\"720P\",\"recommend\":0,\"vfps\":25,\"bandwidth\":1009898,\"audiobandwidth\":64687,\"formatdefn\":\"shd\",\"sl\":0,\"m3u8resolution\":\"\"},{\"id\":321004,\"name\":\"fhd\",\"lmt\":1,\"sb\":1,\"cname\":\"高清SDR;(1080P)\",\"br\":85,\"profile\":4,\"drm\":0,\"type\":11,\"video\":1,\"audio\":1,\"fs\":280668772,\"super\":0,\"hdr10enh\":0,\"sname\":\"蓝光\",\"resolution\":\"1080P\",\"recommend\":0,\"vfps\":25,\"bandwidth\":1861353,\"audiobandwidth\":98625,\"formatdefn\":\"fhd\",\"sl\":0,\"m3u8resolution\":\"\"}],\"existdrmtypes\":0,\"strategyparam\":{\"maxbitrate\":4000000,\"bandwidthlevel\":1}},\"fp2p\":2,\"hs\":0,\"ls\":0,\"ip\":\"202.197.226.86\",\"preview\":1104,\"s\":\"o\",\"sfl\":{\"cnt\":0},\"tm\":1650878919,\"vl\":{\"cnt\":1,\"vi\":[{\"enc\":\"0\",\"drm\":0,\"sig\":\"4b21e962f98eebb32f30e8188cd44c25c4e2d7e0\",\"ch\":0,\"lnk\":\"p0029umyxbn\",\"ct\":21600,\"keyid\":\"p0029umyxbn.321002\",\"st\":2,\"pl\":[{\"cnt\":3,\"pd\":[{\"cd\":10,\"h\":45,\"w\":80,\"r\":10,\"c\":10,\"fmt\":40001,\"fn\":\"q1\",\"url\":\"https://puui.qpic.cn/video_caps/0/\"},{\"cd\":10,\"h\":90,\"w\":160,\"r\":5,\"c\":5,\"fmt\":40002,\"fn\":\"q2\",\"url\":\"https://puui.qpic.cn/video_caps/0/\"},{\"cd\":10,\"h\":135,\"w\":240,\"r\":5,\"c\":5,\"fmt\":40003,\"fn\":\"q3\",\"url\":\"https://puui.qpic.cn/video_caps/0/\"}]}],\"logo\":0,\"ul\":{\"ui\":[{\"url\":\"https://apd-8795f382c920bf338ac70c2ec38f8668.v.smtcdns.com/moviets.tc.qq.com/A71opPJvey-muLocBRREgs49EqFP3HcrOVNPEspopqWE/uwMROfz2r5zAoaQXGdGnC2df644E7D3uP8M8pmtgwsRK9nEL/pVd019OxP8yS6_EndwZCQmHOTKs2Ch6mCE0C14GQBZtFec120SfQEYYHLgYe3u3n_tAzRXEYCfn9LAQfE-JCPCQoGYcHruMEVI7IovF9fnytCjXDzTPvmf2eHNqBCVFQW-9CzVrpTgEsjJ5-CSkZIIO12PE7Fr7plKcAM3gYQtGIXPsU1fm5NA/p0029umyxbn.321002.ts.m3u8?ver=4\",\"vt\":2803,\"dtc\":0,\"dt\":2},{\"url\":\"https://apd-d0abb49c9eefbf000b7a6e2a3e1fcbf2.v.smtcdns.com/moviets.tc.qq.com/A71opPJvey-muLocBRREgs49EqFP3HcrOVNPEspopqWE/uwMROfz2r5zAoaQXGdGnCmdf646YsKpvYbT1SnTPDDjQJcI2/pVd019OxP8yS6_EndwZCQmHOTKs2Ch6mCE0C14GQBZtFec120SfQEYYHLgYe3u3n_tAzRXEYCfn9LAQfE-JCPCQoGYcHruMEVI7IovF9fnytCjXDzTPvmf2eHNqBCVFQW-9CzVrpTgEsjJ5-CSkZIIO12PE7Fr7plKcAM3gYQtGIXPsU1fm5NA/p0029umyxbn.321002.ts.m3u8?ver=4\",\"vt\":2803,\"dtc\":0,\"dt\":2},{\"url\":\"https://apd-vlive.apdcdn.tc.qq.com/defaultts.tc.qq.com/A71opPJvey-muLocBRREgs49EqFP3HcrOVNPEspopqWE/uwMROfz2r5zAoaQXGdGnCWdf647-VRLsgyyvflQ_Xz1_URdw/pVd019OxP8yS6_EndwZCQmHOTKs2Ch6mCE0C14GQBZtFec120SfQEYYHLgYe3u3n_tAzRXEYCfn9LAQfE-JCPCQoGYcHruMEVI7IovF9fnytCjXDzTPvmf2eHNqBCVFQW-9CzVrpTgEsjJ5-CSkZIIO12PE7Fr7plKcAM3gYQtGIXPsU1fm5NA/p0029umyxbn.321002.ts.m3u8?ver=4\",\"vt\":2800,\"dtc\":0,\"dt\":2},{\"url\":\"https://apd-vlive.apdcdn.tc.qq.com/defaultts.tc.qq.com/pVd019OxP8yS6_EndwZCQmHOTKs2Ch6mCE0C14GQBZtFec120SfQEYYHLgYe3u3n_tAzRXEYCfn9LAQfE-JCPCQoGYcHruMEVI7IovF9fnytCjXDzTPvmf2eHNqBCVFQW-9CzVrpTgEsjJ5-CSkZIIO12PE7Fr7plKcAM3gYQtGIXPsU1fm5NA/p0029umyxbn.321002.ts.m3u8?ver=4\",\"vt\":12800,\"dtc\":0,\"dt\":2}],\"m3u8\":\"#EXTM3U\\n#EXT-X-VERSION:3\\n#EXT-X-MEDIA-SEQUENCE:0\\n#EXT-X-TARGETDURATION:15\\n#EXT-X-PLAYLIST-TYPE:VOD\\n#EXTINF:8.000,\\n00_p0029umyxbn.321002.1.ts?index=0\\u0026start=0\\u0026end=8000\\u0026brs=0\\u0026bre=486543\\u0026ver=4\\u0026token=1c1e35d5e50d84063c5e2e9b85f5e931\\n#EXTINF:11.960,\\n01_p0029umyxbn.321002.1.ts?index=1\\u0026start=8000\\u0026end=19960\\u0026brs=486544\\u0026bre=1123863\\u0026ver=4\\u0026token=2e026c7fe292e7948e61faaf021468cb\\n#EXTINF:10.040,\\n02_p0029umyxbn.321002.1.ts?index=2\\u0026start=19960\\u0026end=30000\\u0026brs=1123864\\u0026bre=1520731\\u0026ver=4\\u0026token=03e9fa104b48dbb4d733da4c039b7b72\\n#EXTINF:9.240,\\n03_p0029umyxbn.321002.1.ts?index=3\\u0026start=30000\\u0026end=39240\\u0026brs=1520732\\u0026bre=2213511\\u0026ver=4\\u0026token=28dfbcde50af0e76a4d0ac9c3d96c502\\n#EXTINF:11.600,\\n04_p0029umyxbn.321002.1.ts?index=4\\u0026start=39240\\u0026end=50840\\u0026brs=2213512\\u0026bre=3140163\\u0026ver=4\\u0026token=97172e780845948969b708a62dcffc1a\\n#EXTINF:9.160,\\n05_p0029umyxbn.321002.1.ts?index=5\\u0026start=50840\\u0026end=60000\\u0026brs=3140164\\u0026bre=3545867\\u0026ver=4\\u0026token=e662a05361428ea8e77ddacd3ec3be5c\\n#EXTINF:12.800,\\n06_p0029umyxbn.321002.1.ts?index=6\\u0026start=60000\\u0026end=72800\\u0026brs=3545868\\u0026bre=4244099\\u0026ver=4\\u0026token=24cc1ef60e2a2a74f857c78fe391d786\\n#EXTINF:11.000,\\n07_p0029umyxbn.321002.1.ts?index=7\\u0026start=72800\\u0026end=83800\\u0026brs=4244100\\u0026bre=4964891\\u0026ver=4\\u0026token=9d72817eb029bc7023e85bc066288066\\n#EXTINF:11.200,\\n08_p0029umyxbn.321002.1.ts?index=8\\u0026start=83800\\u0026end=95000\\u0026brs=4964892\\u0026bre=5462339\\u0026ver=4\\u0026token=c468e2fea15b6c39e708e3cb952e7600\\n#EXTINF:8.680,\\n09_p0029umyxbn.321002.1.ts?index=9\\u0026start=95000\\u0026end=103680\\u0026brs=5462340\\u0026bre=6151923\\u0026ver=4\\u0026token=aacb98af980c91d3e21e50b368c39a86\\n#EXTINF:11.880,\\n010_p0029umyxbn.321002.1.ts?index=10\\u0026start=103680\\u0026end=115560\\u0026brs=6151924\\u0026bre=6853915\\u0026ver=4\\u0026token=5282fb074e81bc4ea08b4796c7cbe81d\\n#EXTINF:10.440,\\n011_p0029umyxbn.321002.1.ts?index=11\\u0026start=115560\\u0026end=126000\\u0026brs=6853916\\u0026bre=7341963\\u0026ver=4\\u0026token=509b96138c01655ca6b710fd15fecb52\\n#EXTINF:9.440,\\n012_p0029umyxbn.321002.1.ts?index=12\\u0026start=126000\\u0026end=135440\\u0026brs=7341964\\u0026bre=7970259\\u0026ver=4\\u0026token=ec82ed5458ff48d01726dccab428c9bb\\n#EXTINF:8.840,\\n013_p0029umyxbn.321002.1.ts?index=13\\u0026start=135440\\u0026end=144280\\u0026brs=7970260\\u0026bre=8470903\\u0026ver=4\\u0026token=17d76d70550297aa9ac51c91680d92b9\\n#EXTINF:8.320,\\n014_p0029umyxbn.321002.1.ts?index=14\\u0026start=144280\\u0026end=152600\\u0026brs=8470904\\u0026bre=8939023\\u0026ver=4\\u0026token=e4c26bab2d21197f3cc622aca386af30\\n#EXTINF:11.160,\\n015_p0029umyxbn.321002.1.ts?index=15\\u0026start=152600\\u0026end=163760\\u0026brs=8939024\\u0026bre=9588563\\u0026ver=4\\u0026token=5385224604d9f5f24b8e01d4ba7bc894\\n#EXTINF:11.120,\\n016_p0029umyxbn.321002.1.ts?index=16\\u0026start=163760\\u0026end=174880\\u0026brs=9588564\\u0026bre=10169107\\u0026ver=4\\u0026token=313a3b7f2534c104a46c6ad4570f7c95\\n#EXTINF:10.960,\\n017_p0029umyxbn.321002.1.ts?index=17\\u0026start=174880\\u0026end=185840\\u0026brs=10169108\\u0026bre=10471975\\u0026ver=4\\u0026token=f036cfb5f292cc1a89aa3f2cf79b2e99\\n#EXTINF:11.600,\\n018_p0029umyxbn.321002.1.ts?index=18\\u0026start=185840\\u0026end=197440\\u0026brs=10471976\\u0026bre=11134675\\u0026ver=4\\u0026token=07b2bfc498951957f6dfa2e89ee998a2\\n#EXTINF:9.800,\\n019_p0029umyxbn.321002.1.ts?index=19\\u0026start=197440\\u0026end=207240\\u0026brs=11134676\\u0026bre=11818995\\u0026ver=4\\u0026token=76e680723f85b6b5f037ffef94234991\\n#EXTINF:8.440,\\n020_p0029umyxbn.321002.1.ts?index=20\\u0026start=207240\\u0026end=215680\\u0026brs=11818996\\u0026bre=12379611\\u0026ver=4\\u0026token=013ccdad8fae9b03128037e2054c17dd\\n#EXTINF:10.240,\\n021_p0029umyxbn.321002.1.ts?index=21\\u0026start=215680\\u0026end=225920\\u0026brs=12379612\\u0026bre=12937971\\u0026ver=4\\u0026token=a4f3037258839c4508bd408b1fb9353f\\n#EXTINF:7.440,\\n022_p0029umyxbn.321002.1.ts?index=22\\u0026start=225920\\u0026end=233360\\u0026brs=12937972\\u0026bre=13334463\\u0026ver=4\\u0026token=b7031c49872b8bad4c7af4e795cc4acc\\n#EXTINF:12.320,\\n023_p0029umyxbn.321002.1.ts?index=23\\u0026start=233360\\u0026end=245680\\u0026brs=13334464\\u0026bre=13891507\\u0026ver=4\\u0026token=14c14c7b8999016f6e1151bea6341e83\\n#EXTINF:11.840,\\n024_p0029umyxbn.321002.1.ts?index=24\\u0026start=245680\\u0026end=257520\\u0026brs=13891508\\u0026bre=14657983\\u0026ver=4\\u0026token=f74a218eb023e912ef2e338c2026392c\\n#EXTINF:9.360,\\n025_p0029umyxbn.321002.1.ts?index=25\\u0026start=257520\\u0026end=266880\\u0026brs=14657984\\u0026bre=15002963\\u0026ver=4\\u0026token=4ec56faf8525f3c45478f90a71560154\\n#EXTINF:8.800,\\n026_p0029umyxbn.321002.1.ts?index=26\\u0026start=266880\\u0026end=275680\\u0026brs=15002964\\u0026bre=15326887\\u0026ver=4\\u0026token=878f982c0df187cc9a0a488aa703abf8\\n#EXTINF:9.560,\\n027_p0029umyxbn.321002.1.ts?index=27\\u0026start=275680\\u0026end=285240\\u0026brs=15326888\\u0026bre=15756467\\u0026ver=4\\u0026token=1955a3742c01ab444f594e07bf8e1adb\\n#EXTINF:8.200,\\n028_p0029umyxbn.321002.1.ts?index=28\\u0026start=285240\\u0026end=293440\\u0026brs=15756468\\u0026bre=16505647\\u0026ver=4\\u0026token=8eb7341da8ebb031491d6ffac103b30a\\n#EXTINF:10.640,\\n029_p0029umyxbn.321002.1.ts?index=29\\u0026start=293440\\u0026end=304080\\u0026brs=16505648\\u0026bre=18289391\\u0026ver=4\\u0026token=85d27f2fce2b44372706f54af3f3591d\\n#EXTINF:10.440,\\n030_p0029umyxbn.321002.2.ts?index=30\\u0026start=304080\\u0026end=314520\\u0026brs=0\\u0026bre=1107883\\u0026ver=4\\u0026token=6ac899b42d0271e3dd59b42958226c7c\\n#EXTINF:9.000,\\n031_p0029umyxbn.321002.2.ts?index=31\\u0026start=314520\\u0026end=323520\\u0026brs=1107884\\u0026bre=2181363\\u0026ver=4\\u0026token=5a6ea97b0c6b23e5ca10d006cfb7e3f2\\n#EXTINF:11.920,\\n032_p0029umyxbn.321002.2.ts?index=32\\u0026start=323520\\u0026end=335440\\u0026brs=2181364\\u0026bre=3945931\\u0026ver=4\\u0026token=aca82dfbcf2ff8fccbe1ed6bd1fdcd2f\\n#EXTINF:9.960,\\n033_p0029umyxbn.321002.2.ts?index=33\\u0026start=335440\\u0026end=345400\\u0026brs=3945932\\u0026bre=5320211\\u0026ver=4\\u0026token=231809189e26ffca898a4cfc9bf84f65\\n#EXTINF:10.920,\\n034_p0029umyxbn.321002.2.ts?index=34\\u0026start=345400\\u0026end=356320\\u0026brs=5320212\\u0026bre=6588835\\u0026ver=4\\u0026token=49af36387d4d69ec4e7f2bcef92ac501\\n#EXTINF:8.440,\\n035_p0029umyxbn.321002.2.ts?index=35\\u0026start=356320\\u0026end=364760\\u0026brs=6588836\\u0026bre=7398739\\u0026ver=4\\u0026token=12b0984b32469e78db2c0b86c966c194\\n#EXTINF:12.000,\\n036_p0029umyxbn.321002.2.ts?index=36\\u0026start=364760\\u0026end=376760\\u0026brs=7398740\\u0026bre=8597239\\u0026ver=4\\u0026token=ec10ecd7d805f2430ffd32baa77cbe7a\\n#EXTINF:11.960,\\n037_p0029umyxbn.321002.2.ts?index=37\\u0026start=376760\\u0026end=388720\\u0026brs=8597240\\u0026bre=9319911\\u0026ver=4\\u0026token=722f91412221678b432490c93b8af2aa\\n#EXTINF:9.120,\\n038_p0029umyxbn.321002.2.ts?index=38\\u0026start=388720\\u0026end=397840\\u0026brs=9319912\\u0026bre=10336615\\u0026ver=4\\u0026token=38087e52089e5e8f48599bfdf89aa5c1\\n#EXTINF:9.920,\\n039_p0029umyxbn.321002.2.ts?index=39\\u0026start=397840\\u0026end=407760\\u0026brs=10336616\\u0026bre=11354823\\u0026ver=4\\u0026token=43574782d7d3c280541c16bcb6400727\\n#EXTINF:10.920,\\n040_p0029umyxbn.321002.2.ts?index=40\\u0026start=407760\\u0026end=418680\\u0026brs=11354824\\u0026bre=12408563\\u0026ver=4\\u0026token=b2f28d3f97cd0f29cf9344a9be1760f5\\n#EXTINF:8.920,\\n041_p0029umyxbn.321002.2.ts?index=41\\u0026start=418680\\u0026end=427600\\u0026brs=12408564\\u0026bre=13287087\\u0026ver=4\\u0026token=ba7aecc7aaf099d6e71f72b791f050e8\\n#EXTINF:7.200,\\n042_p0029umyxbn.321002.2.ts?index=42\\u0026start=427600\\u0026end=434800\\u0026brs=13287088\\u0026bre=13861803\\u0026ver=4\\u0026token=c207de2fcd17c32ff9029318800fe1c0\\n#EXTINF:8.040,\\n043_p0029umyxbn.321002.2.ts?index=43\\u0026start=434800\\u0026end=442840\\u0026brs=13861804\\u0026bre=14827747\\u0026ver=4\\u0026token=b74c6876a6fa847a3e33384df27d9ba9\\n#EXTINF:9.840,\\n044_p0029umyxbn.321002.2.ts?index=44\\u0026start=442840\\u0026end=452680\\u0026brs=14827748\\u0026bre=15712287\\u0026ver=4\\u0026token=813f7f61c01b0ecac79ba0bfe4b694d6\\n#EXTINF:10.840,\\n045_p0029umyxbn.321002.2.ts?index=45\\u0026start=452680\\u0026end=463520\\u0026brs=15712288\\u0026bre=17126987\\u0026ver=4\\u0026token=823d29e0c88bb94c4258ca059e023b96\\n#EXTINF:7.600,\\n046_p0029umyxbn.321002.2.ts?index=46\\u0026start=463520\\u0026end=471120\\u0026brs=17126988\\u0026bre=17654703\\u0026ver=4\\u0026token=8bb71e1dd0b42cf13d65b0a97ba8c02e\\n#EXTINF:8.720,\\n047_p0029umyxbn.321002.2.ts?index=47\\u0026start=471120\\u0026end=479840\\u0026brs=17654704\\u0026bre=18507659\\u0026ver=4\\u0026token=15320557805a1c07d8a0e2983d093ba5\\n#EXTINF:10.840,\\n048_p0029umyxbn.321002.2.ts?index=48\\u0026start=479840\\u0026end=490680\\u0026brs=18507660\\u0026bre=19374527\\u0026ver=4\\u0026token=c2a6e023e7c5313996df799c5b946b56\\n#EXTINF:9.280,\\n049_p0029umyxbn.321002.2.ts?index=49\\u0026start=490680\\u0026end=499960\\u0026brs=19374528\\u0026bre=20384275\\u0026ver=4\\u0026token=12092e220409a1104757760cc3b10b62\\n#EXTINF:9.880,\\n050_p0029umyxbn.321002.2.ts?index=50\\u0026start=499960\\u0026end=509840\\u0026brs=20384276\\u0026bre=21756863\\u0026ver=4\\u0026token=0da7f4c7a687dd984605f5e254403c87\\n#EXTINF:12.840,\\n051_p0029umyxbn.321002.2.ts?index=51\\u0026start=509840\\u0026end=522680\\u0026brs=21756864\\u0026bre=23480447\\u0026ver=4\\u0026token=d97886b368b6201039c60ddc3ac245b2\\n#EXTINF:10.200,\\n052_p0029umyxbn.321002.2.ts?index=52\\u0026start=522680\\u0026end=532880\\u0026brs=23480448\\u0026bre=24492451\\u0026ver=4\\u0026token=bb244be0c050002439efb2237674e161\\n#EXTINF:8.960,\\n053_p0029umyxbn.321002.2.ts?index=53\\u0026start=532880\\u0026end=541840\\u0026brs=24492452\\u0026bre=25806195\\u0026ver=4\\u0026token=4262c192819f28e276aab6077a04ea22\\n#EXTINF:11.920,\\n054_p0029umyxbn.321002.2.ts?index=54\\u0026start=541840\\u0026end=553760\\u0026brs=25806196\\u0026bre=26868019\\u0026ver=4\\u0026token=e9f4fc4f43e797830783a023596c6848\\n#EXTINF:7.680,\\n055_p0029umyxbn.321002.2.ts?index=55\\u0026start=553760\\u0026end=561440\\u0026brs=26868020\\u0026bre=27392351\\u0026ver=4\\u0026token=e5b736e59bbe2158faa91aee7617a9d8\\n#EXTINF:8.400,\\n056_p0029umyxbn.321002.2.ts?index=56\\u0026start=561440\\u0026end=569840\\u0026brs=27392352\\u0026bre=27849755\\u0026ver=4\\u0026token=3936de9f37f8eb2b6423f459c12c04fc\\n#EXTINF:11.120,\\n057_p0029umyxbn.321002.2.ts?index=57\\u0026start=569840\\u0026end=580960\\u0026brs=27849756\\u0026bre=28737491\\u0026ver=4\\u0026token=6d51b025bf25d8461d2a17753728ac7d\\n#EXTINF:10.480,\\n058_p0029umyxbn.321002.2.ts?index=58\\u0026start=580960\\u0026end=591440\\u0026brs=28737492\\u0026bre=29289459\\u0026ver=4\\u0026token=6f3fdb76fef6d602d9baa4a272a52a75\\n#EXTINF:8.480,\\n059_p0029umyxbn.321002.2.ts?index=59\\u0026start=591440\\u0026end=599920\\u0026brs=29289460\\u0026bre=29892375\\u0026ver=4\\u0026token=52b5c07a27ad34d6c8b8977256659a39\\n#EXTINF:10.080,\\n060_p0029umyxbn.321002.3.ts?index=60\\u0026start=599920\\u0026end=610000\\u0026brs=0\\u0026bre=441611\\u0026ver=4\\u0026token=2dfedcc59c74e77f2230f47e3b9f9621\\n#EXTINF:9.800,\\n061_p0029umyxbn.321002.3.ts?index=61\\u0026start=610000\\u0026end=619800\\u0026brs=441612\\u0026bre=891871\\u0026ver=4\\u0026token=b72bfbbc90a53a8cdd71006475287a75\\n#EXTINF:10.120,\\n062_p0029umyxbn.321002.3.ts?index=62\\u0026start=619800\\u0026end=629920\\u0026brs=891872\\u0026bre=1441583\\u0026ver=4\\u0026token=015c797646dda65ac9ab0c36cd4aec2c\\n#EXTINF:11.960,\\n063_p0029umyxbn.321002.3.ts?index=63\\u0026start=629920\\u0026end=641880\\u0026brs=1441584\\u0026bre=2208059\\u0026ver=4\\u0026token=3cc495478f246c18258e470defc3e96b\\n#EXTINF:12.000,\\n064_p0029umyxbn.321002.3.ts?index=64\\u0026start=641880\\u0026end=653880\\u0026brs=2208060\\u0026bre=2661139\\u0026ver=4\\u0026token=4712de3123d99c7b551b9d333cc8dfae\\n#EXTINF:12.040,\\n065_p0029umyxbn.321002.3.ts?index=65\\u0026start=653880\\u0026end=665920\\u0026brs=2661140\\u0026bre=3246947\\u0026ver=4\\u0026token=fb1ec7532b3c7183a92d44f69179fb8e\\n#EXTINF:12.160,\\n066_p0029umyxbn.321002.3.ts?index=66\\u0026start=665920\\u0026end=678080\\u0026brs=3246948\\u0026bre=3932207\\u0026ver=4\\u0026token=5f4597c22c922b6f32f65148a25ad147\\n#EXTINF:11.840,\\n067_p0029umyxbn.321002.3.ts?index=67\\u0026start=678080\\u0026end=689920\\u0026brs=3932208\\u0026bre=4600359\\u0026ver=4\\u0026token=1aa4e8738941ef5125f269adfc2a6006\\n#EXTINF:11.960,\\n068_p0029umyxbn.321002.3.ts?index=68\\u0026start=689920\\u0026end=701880\\u0026brs=4600360\\u0026bre=5571191\\u0026ver=4\\u0026token=1e1c812e37e293fc694374f0f3464fe0\\n#EXTINF:11.440,\\n069_p0029umyxbn.321002.3.ts?index=69\\u0026start=701880\\u0026end=713320\\u0026brs=5571192\\u0026bre=6104547\\u0026ver=4\\u0026token=c5891e077b32ce7dfb97dcb6e7987ee1\\n#EXTINF:8.560,\\n070_p0029umyxbn.321002.3.ts?index=70\\u0026start=713320\\u0026end=721880\\u0026brs=6104548\\u0026bre=6849027\\u0026ver=4\\u0026token=724116992f6c1e316c821dec24428862\\n#EXTINF:8.840,\\n071_p0029umyxbn.321002.3.ts?index=71\\u0026start=721880\\u0026end=730720\\u0026brs=6849028\\u0026bre=7821175\\u0026ver=4\\u0026token=bef7c2f2597cd2c7d2b6ad1c2d2dfe14\\n#EXTINF:9.520,\\n072_p0029umyxbn.321002.3.ts?index=72\\u0026start=730720\\u0026end=740240\\u0026brs=7821176\\u0026bre=8695375\\u0026ver=4\\u0026token=0ba22c17488d52d6af85224fd513b08d\\n#EXTINF:9.520,\\n073_p0029umyxbn.321002.3.ts?index=73\\u0026start=740240\\u0026end=749760\\u0026brs=8695376\\u0026bre=9609431\\u0026ver=4\\u0026token=171434a4f748d8a8a83f70bcd6064615\\n#EXTINF:10.160,\\n074_p0029umyxbn.321002.3.ts?index=74\\u0026start=749760\\u0026end=759920\\u0026brs=9609432\\u0026bre=10576503\\u0026ver=4\\u0026token=d5f24630e46de1bf5aa53c856b4fb6e7\\n#EXTINF:9.000,\\n075_p0029umyxbn.321002.3.ts?index=75\\u0026start=759920\\u0026end=768920\\u0026brs=10576504\\u0026bre=11965635\\u0026ver=4\\u0026token=113d8fcb70bd678cea0e09b0efbdf363\\n#EXTINF:9.560,\\n076_p0029umyxbn.321002.3.ts?index=76\\u0026start=768920\\u0026end=778480\\u0026brs=11965636\\u0026bre=13064307\\u0026ver=4\\u0026token=9283ffd1c95af5a4e51d6cd75c04c9c4\\n#EXTINF:10.040,\\n077_p0029umyxbn.321002.3.ts?index=77\\u0026start=778480\\u0026end=788520\\u0026brs=13064308\\u0026bre=14028935\\u0026ver=4\\u0026token=5970156da7e8465e343482d4e2f65fea\\n#EXTINF:9.640,\\n078_p0029umyxbn.321002.3.ts?index=78\\u0026start=788520\\u0026end=798160\\u0026brs=14028936\\u0026bre=15217471\\u0026ver=4\\u0026token=7746e54938b3257b0a9b0701d979cd96\\n#EXTINF:11.600,\\n079_p0029umyxbn.321002.3.ts?index=79\\u0026start=798160\\u0026end=809760\\u0026brs=15217472\\u0026bre=16429695\\u0026ver=4\\u0026token=d3a3e2fa8dfd8506c2edca057fb90034\\n#EXTINF:9.920,\\n080_p0029umyxbn.321002.3.ts?index=80\\u0026start=809760\\u0026end=819680\\u0026brs=16429696\\u0026bre=17135635\\u0026ver=4\\u0026token=2056daf90ff892c7ce32b7d92679d0e9\\n#EXTINF:10.880,\\n081_p0029umyxbn.321002.3.ts?index=81\\u0026start=819680\\u0026end=830560\\u0026brs=17135636\\u0026bre=17802095\\u0026ver=4\\u0026token=bd81a8c445097236e1cc3b6d8cedeace\\n#EXTINF:9.200,\\n082_p0029umyxbn.321002.3.ts?index=82\\u0026start=830560\\u0026end=839760\\u0026brs=17802096\\u0026bre=18535295\\u0026ver=4\\u0026token=96f7587e52acf17e24944327d3baf70a\\n#EXTINF:9.480,\\n083_p0029umyxbn.321002.3.ts?index=83\\u0026start=839760\\u0026end=849240\\u0026brs=18535296\\u0026bre=19646375\\u0026ver=4\\u0026token=2027d7b05393fb44d6517d86b5d02232\\n#EXTINF:8.960,\\n084_p0029umyxbn.321002.3.ts?index=84\\u0026start=849240\\u0026end=858200\\u0026brs=19646376\\u0026bre=20493691\\u0026ver=4\\u0026token=8b84450a497b80db554bf1c5ae5466cf\\n#EXTINF:10.120,\\n085_p0029umyxbn.321002.3.ts?index=85\\u0026start=858200\\u0026end=868320\\u0026brs=20493692\\u0026bre=21361875\\u0026ver=4\\u0026token=50269d7c228fe9d8bce91c63ea577fb3\\n#EXTINF:10.480,\\n086_p0029umyxbn.321002.3.ts?index=86\\u0026start=868320\\u0026end=878800\\u0026brs=21361876\\u0026bre=22077779\\u0026ver=4\\u0026token=574e6a03a39735306b6f3302de6223f8\\n#EXTINF:12.480,\\n087_p0029umyxbn.321002.3.ts?index=87\\u0026start=878800\\u0026end=891280\\u0026brs=22077780\\u0026bre=23099183\\u0026ver=4\\u0026token=47d7222c3d7ea34ad8a7e56b02ee7a6b\\n#EXTINF:8.000,\\n088_p0029umyxbn.321002.3.ts?index=88\\u0026start=891280\\u0026end=899280\\u0026brs=23099184\\u0026bre=23717891\\u0026ver=4\\u0026token=a257641658689140f5e34ae56734715e\\n#EXTINF:9.080,\\n089_p0029umyxbn.321002.3.ts?index=89\\u0026start=899280\\u0026end=908360\\u0026brs=23717892\\u0026bre=25277727\\u0026ver=4\\u0026token=4e4b9784828c67f0764f2b634e328e4a\\n#EXTINF:9.520,\\n090_p0029umyxbn.321002.4.ts?index=90\\u0026start=908360\\u0026end=917880\\u0026brs=0\\u0026bre=980043\\u0026ver=4\\u0026token=3347172cd4bf1c647732f3ee19ff0f81\\n#EXTINF:9.880,\\n091_p0029umyxbn.321002.4.ts?index=91\\u0026start=917880\\u0026end=927760\\u0026brs=980044\\u0026bre=1914027\\u0026ver=4\\u0026token=18abcc64b124f2e261d59f9bc18282e9\\n#EXTINF:7.520,\\n092_p0029umyxbn.321002.4.ts?index=92\\u0026start=927760\\u0026end=935280\\u0026brs=1914028\\u0026bre=2459415\\u0026ver=4\\u0026token=5ff5cbc507b80f88111e9131497c8d4d\\n#EXTINF:12.000,\\n093_p0029umyxbn.321002.4.ts?index=93\\u0026start=935280\\u0026end=947280\\u0026brs=2459416\\u0026bre=3188479\\u0026ver=4\\u0026token=067f74de1e20e40869d46d9caea2e8a7\\n#EXTINF:12.000,\\n094_p0029umyxbn.321002.4.ts?index=94\\u0026start=947280\\u0026end=959280\\u0026brs=3188480\\u0026bre=3752291\\u0026ver=4\\u0026token=3fc427bc83d79f91ee642ed0247b1877\\n#EXTINF:12.000,\\n095_p0029umyxbn.321002.4.ts?index=95\\u0026start=959280\\u0026end=971280\\u0026brs=3752292\\u0026bre=4399199\\u0026ver=4\\u0026token=795a44662b643fd1dd2fddf5047c3f01\\n#EXTINF:12.000,\\n096_p0029umyxbn.321002.4.ts?index=96\\u0026start=971280\\u0026end=983280\\u0026brs=4399200\\u0026bre=5417219\\u0026ver=4\\u0026token=9ed33946479c59db63fb9c63aa700581\\n#EXTINF:12.000,\\n097_p0029umyxbn.321002.4.ts?index=97\\u0026start=983280\\u0026end=995280\\u0026brs=5417220\\u0026bre=6607447\\u0026ver=4\\u0026token=b6fbe2dd5a9054a7c9f983c00d7e22a9\\n#EXTINF:12.000,\\n098_p0029umyxbn.321002.4.ts?index=98\\u0026start=995280\\u0026end=1007280\\u0026brs=6607448\\u0026bre=7605727\\u0026ver=4\\u0026token=430b01d9d90394e30ce0b7ae034e12a3\\n#EXTINF:12.000,\\n099_p0029umyxbn.321002.4.ts?index=99\\u0026start=1007280\\u0026end=1019280\\u0026brs=7605728\\u0026bre=8865139\\u0026ver=4\\u0026token=73e19baee8f4fb6a178ef86c1490341e\\n#EXTINF:12.000,\\n0100_p0029umyxbn.321002.4.ts?index=100\\u0026start=1019280\\u0026end=1031280\\u0026brs=8865140\\u0026bre=9987499\\u0026ver=4\\u0026token=27a5c332a4793bb53a54f1b5040cbcae\\n#EXTINF:12.000,\\n0101_p0029umyxbn.321002.4.ts?index=101\\u0026start=1031280\\u0026end=1043280\\u0026brs=9987500\\u0026bre=10859443\\u0026ver=4\\u0026token=04e6ccd10192f370e657e3a138680a54\\n#EXTINF:12.680,\\n0102_p0029umyxbn.321002.4.ts?index=102\\u0026start=1043280\\u0026end=1055960\\u0026brs=10859444\\u0026bre=12132203\\u0026ver=4\\u0026token=b27c37452850f98507d4a6a8f80de6cf\\n#EXTINF:12.000,\\n0103_p0029umyxbn.321002.4.ts?index=103\\u0026start=1055960\\u0026end=1067960\\u0026brs=12132204\\u0026bre=13070135\\u0026ver=4\\u0026token=d902a6e7537a73d93e61f4e66de69193\\n#EXTINF:9.840,\\n0104_p0029umyxbn.321002.4.ts?index=104\\u0026start=1067960\\u0026end=1077800\\u0026brs=13070136\\u0026bre=13911623\\u0026ver=4\\u0026token=1e4f2138575a0cc590bf69d39739002f\\n#EXTINF:9.720,\\n0105_p0029umyxbn.321002.4.ts?index=105\\u0026start=1077800\\u0026end=1087520\\u0026brs=13911624\\u0026bre=15394003\\u0026ver=4\\u0026token=daf94ed1331645df58050f45809560f8\\n#EXTINF:9.360,\\n0106_p0029umyxbn.321002.4.ts?index=106\\u0026start=1087520\\u0026end=1096880\\u0026brs=15394004\\u0026bre=17112887\\u0026ver=4\\u0026token=a09b9a64651725f54c9aac3a42877300\\n#EXTINF:7.973,\\n0107_p0029umyxbn.321002.4.ts?index=107\\u0026start=1096880\\u0026end=1104853\\u0026brs=17112888\\u0026bre=18026567\\u0026ver=4\\u0026token=0c835e930265f143eeacc3e4528b5fae\\n#EXT-X-ENDLIST\\n\"},\"wl\":{\"wi\":[{\"id\":11,\"x\":18,\"y\":13,\"w\":113,\"h\":36,\"a\":100,\"md5\":\"3921218cb2cd2ea69751cc0ed511d479\",\"url\":\"http://puui.qpic.cn/media_img/lena/PIChgs572_108_336/0\",\"surl\":\"https://puui.qpic.cn/media_img/lena/PIChgs572_108_336/0\",\"rw\":0}]},\"freeul\":0,\"td\":\"1104.68\",\"type\":1036,\"vid\":\"z00294mly5y\",\"videotype\":3,\"fc\":4,\"fmd5\":\"e2ce2e7d0a774d383699d7c206c1a559\",\"fn\":\"p0029umyxbn.321002.ts\",\"fps\":\"25\",\"fs\":91486064,\"fst\":5,\"vr\":0,\"vst\":2,\"vh\":362,\"vw\":864,\"wh\":2.3867404,\"tie\":0,\"hevc\":0,\"iflag\":1,\"uptime\":1546066026,\"fvideo\":0,\"cached\":1,\"fvpint\":0,\"swhdcp\":0,\"sshot\":3,\"mshot\":0,\"dm\":\"1\",\"head\":23,\"tail\":152,\"mst\":8,\"targetid\":\"3577653126\",\"ti\":\"雪鹰领主_01\",\"dsb\":0,\"br\":75,\"hfs\":\"105208973\",\"share\":1,\"encryption\":\"8265898\",\"isprevid\":0,\"purevid\":\"\",\"dotinfo\":\"\"}]},\"abtest\":\"\"}\n"
     ]
    }
   ],
   "source": [
    "import requests\n",
    "import re\n",
    "from tqdm import tqdm # 进度条展示\n",
    "\n",
    "url = 'https://vd.l.qq.com/proxyhttp'\n",
    "data = {\n",
    "    \"buid\": \"vinfoad\",\n",
    "    \"adparam\": \"pf=in&ad_type=LD%7CKB%7CPVL&pf_ex=pc&url=https%3A%2F%2Fv.qq.com%2Fx%2Fcover%2Fsifd2an7kx2h9h8.html&refer=https%3A%2F%2Fv.qq.com%2Fchannel%2Fcartoon&ty=web&plugin=1.0.0&v=3.5.57&coverid=sifd2an7kx2h9h8&vid=z00294mly5y&pt=&flowid=05def50508a21eae7c1a20aab20c4409_10201&vptag=cn_bing_com%7C%E7%84%A6%E7%82%B9%E5%9B%BE%3A%E6%A0%87%E9%A2%98%3A1%3A%E9%9B%AA%E9%B9%B0%E9%A2%86%E4%B8%BB&pu=0&chid=0&adaptor=2&dtype=1&live=0&resp_type=json&guid=0c3daea4475589edca2b57cec3b720be&req_type=1&from=0&appversion=1.0.174&platform=10201&tpid=3&rfid=f930e155671b01a2087703243692d5ad_1650877765\",\n",
    "    \"vinfoparam\": \"spsrt=1&charge=0&defaultfmt=auto&otype=ojson&guid=0c3daea4475589edca2b57cec3b720be&flowid=05def50508a21eae7c1a20aab20c4409_10201&platform=10201&sdtfrom=v1010&defnpayver=1&appVer=3.5.57&host=v.qq.com&ehost=https%3A%2F%2Fv.qq.com%2Fx%2Fcover%2Fsifd2an7kx2h9h8.html&refer=v.qq.com&sphttps=1&tm=1650877933&spwm=4&logintoken=%7B%22main_login%22%3A%22%22%2C%22openid%22%3A%22%22%2C%22appid%22%3A%22%22%2C%22access_token%22%3A%22%22%2C%22vuserid%22%3A%22%22%2C%22vusession%22%3A%22%22%7D&vid=z00294mly5y&defn=&fhdswitch=0&show1080p=1&isHLS=1&dtype=3&sphls=2&spgzip=1&dlver=2&drm=32&hdcp=1&spau=1&spaudio=15&defsrc=1&encryptVer=9.1&cKey=SYtGA7vUChl72JEItZs_lpJX5WB4a2CdS8kHJbq2VaqtHEZQ1c_W6myJ8hQXnmDDFMRzF9zOIzvW2vPBr-xE-uhvZyEMY131vUh1H4pgCXe2OoEW-WOpL6wqwAA09vBu8H0sVBkIXYfWkOdABnbLUo4RgzSXkBHF3N3K7dNKPg_56X9JO3gwBMyBeAex05x8SbbQKY5AXaDVSM7hsBQ8XEeHzIEGJzlCt8VJJAjXQisjKvQ6nZ9Br0JIq9D-YP3QxwS1XOrWkDcQt45rIh8AxrhRTVvY3PU3KO_aZDa4VqNr0tw9eYfSnRX_H2YuZ3mVEK6x7PDQR3sy0_nJ5CvUdV9MfDVRc74YW34t9LIueAEvrTO0&fp2p=1&spadseg=3\"\n",
    "}\n",
    "\n",
    "headers = {\n",
    "\"cookie\": \"RK=jakUcpkh2k; ptcz=f8146c89ee21e63c54ec96351e031f974de2c87f1dc250ac7a3663331ad295c6; tvfe_boss_uuid=80ecf6951a850eea; appuser=2221A752E46E80F8; pgv_pvid=916596192; o_cookie=2818657803; pac_uid=1_2818657803; LCZCturn=247; LZCturn=71; lv_play_index=42; o_minduid=-FPZpxaCFUGQwCFWJJTI2hXW7e82Driu; LHTturn=683; LPSJturn=875; LBSturn=306; LVINturn=875; LPHLSturn=118; LPCZCturn=13; LPPBturn=45; vversion_name=8.2.95; video_omgid=9275f6ef3ec0399d; pgv_info=ssid=s5082069185; Lturn=492; LKBturn=198; LPVLturn=866; LPLFturn=831\",\n",
    "\"user-agent\": \"Mozilla/5.0 (Windows NT 10.0; Win64; x64) AppleWebKit/537.36 (KHTML, like Gecko) Chrome/100.0.4896.127 Safari/537.36\"\n",
    "}\n",
    "response = requests.post(url=url, json=data, headers=headers)\n",
    "\n",
    "html_data = response.json()[\"vinfo\"]\n",
    "print(html_data)"
   ]
  },
  {
   "cell_type": "code",
   "execution_count": 2,
   "id": "e9e4fada",
   "metadata": {},
   "outputs": [
    {
     "data": {
      "text/plain": [
       "'https://apd-8795f382c920bf338ac70c2ec38f8668.v.smtcdns.com/moviets.tc.qq.com/A71opPJvey-muLocBRREgs49EqFP3HcrOVNPEspopqWE/uwMROfz2r5zAoaQXGdGnC2df644E7D3uP8M8pmtgwsRK9nEL/pVd019OxP8yS6_EndwZCQmHOTKs2Ch6mCE0C14GQBZtFec120SfQEYYHLgYe3u3n_tAzRXEYCfn9LAQfE-JCPCQoGYcHruMEVI7IovF9fnytCjXDzTPvmf2eHNqBCVFQW-9CzVrpTgEsjJ5-CSkZIIO12PE7Fr7plKcAM3gYQtGIXPsU1fm5NA/p0029umyxbn.321002.ts.m3u8?ver=4'"
      ]
     },
     "execution_count": 2,
     "metadata": {},
     "output_type": "execute_result"
    }
   ],
   "source": [
    "m3u8_url = re.findall(\"url(.*?),\", html_data)[3].split('\"')[2]\n",
    "m3u8_url"
   ]
  },
  {
   "cell_type": "code",
   "execution_count": 7,
   "id": "7262253c",
   "metadata": {},
   "outputs": [
    {
     "name": "stdout",
     "output_type": "stream",
     "text": [
      "https://apd-8795f382c920bf338ac70c2ec38f8668.v.smtcdns.com/moviets.tc.qq.com/A71opPJvey-muLocBRREgs49EqFP3HcrOVNPEspopqWE/uwMROfz2r5zAoaQXGdGnC2df644E7D3uP8M8pmtgwsRK9nEL/pVd019OxP8yS6_EndwZCQmHOTKs2Ch6mCE0C14GQBZtFec120SfQEYYHLgYe3u3n_tAzRXEYCfn9LAQfE-JCPCQoGYcHruMEVI7IovF9fnytCjXDzTPvmf2eHNqBCVFQW-9CzVrpTgEsjJ5-CSkZIIO12PE7Fr7plKcAM3gYQtGIXPsU1fm5NA/\n"
     ]
    }
   ],
   "source": [
    "pat = re.compile(r'(.+/).+\\.ts+')\n",
    "surl = pat.findall(m3u8_url)[0]\n",
    "print(surl)"
   ]
  },
  {
   "cell_type": "code",
   "execution_count": 15,
   "id": "d3f43e4e",
   "metadata": {
    "scrolled": false
   },
   "outputs": [
    {
     "data": {
      "text/plain": [
       "'#EXTM3U\\n#EXT-X-VERSION:3\\n#EXT-X-MEDIA-SEQUENCE:0\\n#EXT-X-TARGETDURATION:15\\n#EXT-X-PLAYLIST-TYPE:VOD\\n#EXTINF:8.000,\\n00_p0029umyxbn.321002.1.ts?index=0&start=0&end=8000&brs=0&bre=486543&ver=4&token=1c1e35d5e50d84063c5e2e9b85f5e931\\n#EXTINF:11.960,\\n01_p0029umyxbn.321002.1.ts?index=1&start=8000&end=19960&brs=486544&bre=1123863&ver=4&token=2e026c7fe292e7948e61faaf021468cb\\n#EXTINF:10.040,\\n02_p0029umyxbn.321002.1.ts?index=2&start=19960&end=30000&brs=1123864&bre=1520731&ver=4&token=03e9fa104b48dbb4d733da4c039b7b72\\n#EXTINF:9.240,\\n03_p0029umyxbn.321002.1.ts?index=3&start=30000&end=39240&brs=1520732&bre=2213511&ver=4&token=28dfbcde50af0e76a4d0ac9c3d96c502\\n#EXTINF:11.600,\\n04_p0029umyxbn.321002.1.ts?index=4&start=39240&end=50840&brs=2213512&bre=3140163&ver=4&token=97172e780845948969b708a62dcffc1a\\n#EXTINF:9.160,\\n05_p0029umyxbn.321002.1.ts?index=5&start=50840&end=60000&brs=3140164&bre=3545867&ver=4&token=e662a05361428ea8e77ddacd3ec3be5c\\n#EXTINF:12.800,\\n06_p0029umyxbn.321002.1.ts?index=6&start=60000&end=72800&brs=3545868&bre=4244099&ver=4&token=24cc1ef60e2a2a74f857c78fe391d786\\n#EXTINF:11.000,\\n07_p0029umyxbn.321002.1.ts?index=7&start=72800&end=83800&brs=4244100&bre=4964891&ver=4&token=9d72817eb029bc7023e85bc066288066\\n#EXTINF:11.200,\\n08_p0029umyxbn.321002.1.ts?index=8&start=83800&end=95000&brs=4964892&bre=5462339&ver=4&token=c468e2fea15b6c39e708e3cb952e7600\\n#EXTINF:8.680,\\n09_p0029umyxbn.321002.1.ts?index=9&start=95000&end=103680&brs=5462340&bre=6151923&ver=4&token=aacb98af980c91d3e21e50b368c39a86\\n#EXTINF:11.880,\\n010_p0029umyxbn.321002.1.ts?index=10&start=103680&end=115560&brs=6151924&bre=6853915&ver=4&token=5282fb074e81bc4ea08b4796c7cbe81d\\n#EXTINF:10.440,\\n011_p0029umyxbn.321002.1.ts?index=11&start=115560&end=126000&brs=6853916&bre=7341963&ver=4&token=509b96138c01655ca6b710fd15fecb52\\n#EXTINF:9.440,\\n012_p0029umyxbn.321002.1.ts?index=12&start=126000&end=135440&brs=7341964&bre=7970259&ver=4&token=ec82ed5458ff48d01726dccab428c9bb\\n#EXTINF:8.840,\\n013_p0029umyxbn.321002.1.ts?index=13&start=135440&end=144280&brs=7970260&bre=8470903&ver=4&token=17d76d70550297aa9ac51c91680d92b9\\n#EXTINF:8.320,\\n014_p0029umyxbn.321002.1.ts?index=14&start=144280&end=152600&brs=8470904&bre=8939023&ver=4&token=e4c26bab2d21197f3cc622aca386af30\\n#EXTINF:11.160,\\n015_p0029umyxbn.321002.1.ts?index=15&start=152600&end=163760&brs=8939024&bre=9588563&ver=4&token=5385224604d9f5f24b8e01d4ba7bc894\\n#EXTINF:11.120,\\n016_p0029umyxbn.321002.1.ts?index=16&start=163760&end=174880&brs=9588564&bre=10169107&ver=4&token=313a3b7f2534c104a46c6ad4570f7c95\\n#EXTINF:10.960,\\n017_p0029umyxbn.321002.1.ts?index=17&start=174880&end=185840&brs=10169108&bre=10471975&ver=4&token=f036cfb5f292cc1a89aa3f2cf79b2e99\\n#EXTINF:11.600,\\n018_p0029umyxbn.321002.1.ts?index=18&start=185840&end=197440&brs=10471976&bre=11134675&ver=4&token=07b2bfc498951957f6dfa2e89ee998a2\\n#EXTINF:9.800,\\n019_p0029umyxbn.321002.1.ts?index=19&start=197440&end=207240&brs=11134676&bre=11818995&ver=4&token=76e680723f85b6b5f037ffef94234991\\n#EXTINF:8.440,\\n020_p0029umyxbn.321002.1.ts?index=20&start=207240&end=215680&brs=11818996&bre=12379611&ver=4&token=013ccdad8fae9b03128037e2054c17dd\\n#EXTINF:10.240,\\n021_p0029umyxbn.321002.1.ts?index=21&start=215680&end=225920&brs=12379612&bre=12937971&ver=4&token=a4f3037258839c4508bd408b1fb9353f\\n#EXTINF:7.440,\\n022_p0029umyxbn.321002.1.ts?index=22&start=225920&end=233360&brs=12937972&bre=13334463&ver=4&token=b7031c49872b8bad4c7af4e795cc4acc\\n#EXTINF:12.320,\\n023_p0029umyxbn.321002.1.ts?index=23&start=233360&end=245680&brs=13334464&bre=13891507&ver=4&token=14c14c7b8999016f6e1151bea6341e83\\n#EXTINF:11.840,\\n024_p0029umyxbn.321002.1.ts?index=24&start=245680&end=257520&brs=13891508&bre=14657983&ver=4&token=f74a218eb023e912ef2e338c2026392c\\n#EXTINF:9.360,\\n025_p0029umyxbn.321002.1.ts?index=25&start=257520&end=266880&brs=14657984&bre=15002963&ver=4&token=4ec56faf8525f3c45478f90a71560154\\n#EXTINF:8.800,\\n026_p0029umyxbn.321002.1.ts?index=26&start=266880&end=275680&brs=15002964&bre=15326887&ver=4&token=878f982c0df187cc9a0a488aa703abf8\\n#EXTINF:9.560,\\n027_p0029umyxbn.321002.1.ts?index=27&start=275680&end=285240&brs=15326888&bre=15756467&ver=4&token=1955a3742c01ab444f594e07bf8e1adb\\n#EXTINF:8.200,\\n028_p0029umyxbn.321002.1.ts?index=28&start=285240&end=293440&brs=15756468&bre=16505647&ver=4&token=8eb7341da8ebb031491d6ffac103b30a\\n#EXTINF:10.640,\\n029_p0029umyxbn.321002.1.ts?index=29&start=293440&end=304080&brs=16505648&bre=18289391&ver=4&token=85d27f2fce2b44372706f54af3f3591d\\n#EXTINF:10.440,\\n030_p0029umyxbn.321002.2.ts?index=30&start=304080&end=314520&brs=0&bre=1107883&ver=4&token=6ac899b42d0271e3dd59b42958226c7c\\n#EXTINF:9.000,\\n031_p0029umyxbn.321002.2.ts?index=31&start=314520&end=323520&brs=1107884&bre=2181363&ver=4&token=5a6ea97b0c6b23e5ca10d006cfb7e3f2\\n#EXTINF:11.920,\\n032_p0029umyxbn.321002.2.ts?index=32&start=323520&end=335440&brs=2181364&bre=3945931&ver=4&token=aca82dfbcf2ff8fccbe1ed6bd1fdcd2f\\n#EXTINF:9.960,\\n033_p0029umyxbn.321002.2.ts?index=33&start=335440&end=345400&brs=3945932&bre=5320211&ver=4&token=231809189e26ffca898a4cfc9bf84f65\\n#EXTINF:10.920,\\n034_p0029umyxbn.321002.2.ts?index=34&start=345400&end=356320&brs=5320212&bre=6588835&ver=4&token=49af36387d4d69ec4e7f2bcef92ac501\\n#EXTINF:8.440,\\n035_p0029umyxbn.321002.2.ts?index=35&start=356320&end=364760&brs=6588836&bre=7398739&ver=4&token=12b0984b32469e78db2c0b86c966c194\\n#EXTINF:12.000,\\n036_p0029umyxbn.321002.2.ts?index=36&start=364760&end=376760&brs=7398740&bre=8597239&ver=4&token=ec10ecd7d805f2430ffd32baa77cbe7a\\n#EXTINF:11.960,\\n037_p0029umyxbn.321002.2.ts?index=37&start=376760&end=388720&brs=8597240&bre=9319911&ver=4&token=722f91412221678b432490c93b8af2aa\\n#EXTINF:9.120,\\n038_p0029umyxbn.321002.2.ts?index=38&start=388720&end=397840&brs=9319912&bre=10336615&ver=4&token=38087e52089e5e8f48599bfdf89aa5c1\\n#EXTINF:9.920,\\n039_p0029umyxbn.321002.2.ts?index=39&start=397840&end=407760&brs=10336616&bre=11354823&ver=4&token=43574782d7d3c280541c16bcb6400727\\n#EXTINF:10.920,\\n040_p0029umyxbn.321002.2.ts?index=40&start=407760&end=418680&brs=11354824&bre=12408563&ver=4&token=b2f28d3f97cd0f29cf9344a9be1760f5\\n#EXTINF:8.920,\\n041_p0029umyxbn.321002.2.ts?index=41&start=418680&end=427600&brs=12408564&bre=13287087&ver=4&token=ba7aecc7aaf099d6e71f72b791f050e8\\n#EXTINF:7.200,\\n042_p0029umyxbn.321002.2.ts?index=42&start=427600&end=434800&brs=13287088&bre=13861803&ver=4&token=c207de2fcd17c32ff9029318800fe1c0\\n#EXTINF:8.040,\\n043_p0029umyxbn.321002.2.ts?index=43&start=434800&end=442840&brs=13861804&bre=14827747&ver=4&token=b74c6876a6fa847a3e33384df27d9ba9\\n#EXTINF:9.840,\\n044_p0029umyxbn.321002.2.ts?index=44&start=442840&end=452680&brs=14827748&bre=15712287&ver=4&token=813f7f61c01b0ecac79ba0bfe4b694d6\\n#EXTINF:10.840,\\n045_p0029umyxbn.321002.2.ts?index=45&start=452680&end=463520&brs=15712288&bre=17126987&ver=4&token=823d29e0c88bb94c4258ca059e023b96\\n#EXTINF:7.600,\\n046_p0029umyxbn.321002.2.ts?index=46&start=463520&end=471120&brs=17126988&bre=17654703&ver=4&token=8bb71e1dd0b42cf13d65b0a97ba8c02e\\n#EXTINF:8.720,\\n047_p0029umyxbn.321002.2.ts?index=47&start=471120&end=479840&brs=17654704&bre=18507659&ver=4&token=15320557805a1c07d8a0e2983d093ba5\\n#EXTINF:10.840,\\n048_p0029umyxbn.321002.2.ts?index=48&start=479840&end=490680&brs=18507660&bre=19374527&ver=4&token=c2a6e023e7c5313996df799c5b946b56\\n#EXTINF:9.280,\\n049_p0029umyxbn.321002.2.ts?index=49&start=490680&end=499960&brs=19374528&bre=20384275&ver=4&token=12092e220409a1104757760cc3b10b62\\n#EXTINF:9.880,\\n050_p0029umyxbn.321002.2.ts?index=50&start=499960&end=509840&brs=20384276&bre=21756863&ver=4&token=0da7f4c7a687dd984605f5e254403c87\\n#EXTINF:12.840,\\n051_p0029umyxbn.321002.2.ts?index=51&start=509840&end=522680&brs=21756864&bre=23480447&ver=4&token=d97886b368b6201039c60ddc3ac245b2\\n#EXTINF:10.200,\\n052_p0029umyxbn.321002.2.ts?index=52&start=522680&end=532880&brs=23480448&bre=24492451&ver=4&token=bb244be0c050002439efb2237674e161\\n#EXTINF:8.960,\\n053_p0029umyxbn.321002.2.ts?index=53&start=532880&end=541840&brs=24492452&bre=25806195&ver=4&token=4262c192819f28e276aab6077a04ea22\\n#EXTINF:11.920,\\n054_p0029umyxbn.321002.2.ts?index=54&start=541840&end=553760&brs=25806196&bre=26868019&ver=4&token=e9f4fc4f43e797830783a023596c6848\\n#EXTINF:7.680,\\n055_p0029umyxbn.321002.2.ts?index=55&start=553760&end=561440&brs=26868020&bre=27392351&ver=4&token=e5b736e59bbe2158faa91aee7617a9d8\\n#EXTINF:8.400,\\n056_p0029umyxbn.321002.2.ts?index=56&start=561440&end=569840&brs=27392352&bre=27849755&ver=4&token=3936de9f37f8eb2b6423f459c12c04fc\\n#EXTINF:11.120,\\n057_p0029umyxbn.321002.2.ts?index=57&start=569840&end=580960&brs=27849756&bre=28737491&ver=4&token=6d51b025bf25d8461d2a17753728ac7d\\n#EXTINF:10.480,\\n058_p0029umyxbn.321002.2.ts?index=58&start=580960&end=591440&brs=28737492&bre=29289459&ver=4&token=6f3fdb76fef6d602d9baa4a272a52a75\\n#EXTINF:8.480,\\n059_p0029umyxbn.321002.2.ts?index=59&start=591440&end=599920&brs=29289460&bre=29892375&ver=4&token=52b5c07a27ad34d6c8b8977256659a39\\n#EXTINF:10.080,\\n060_p0029umyxbn.321002.3.ts?index=60&start=599920&end=610000&brs=0&bre=441611&ver=4&token=2dfedcc59c74e77f2230f47e3b9f9621\\n#EXTINF:9.800,\\n061_p0029umyxbn.321002.3.ts?index=61&start=610000&end=619800&brs=441612&bre=891871&ver=4&token=b72bfbbc90a53a8cdd71006475287a75\\n#EXTINF:10.120,\\n062_p0029umyxbn.321002.3.ts?index=62&start=619800&end=629920&brs=891872&bre=1441583&ver=4&token=015c797646dda65ac9ab0c36cd4aec2c\\n#EXTINF:11.960,\\n063_p0029umyxbn.321002.3.ts?index=63&start=629920&end=641880&brs=1441584&bre=2208059&ver=4&token=3cc495478f246c18258e470defc3e96b\\n#EXTINF:12.000,\\n064_p0029umyxbn.321002.3.ts?index=64&start=641880&end=653880&brs=2208060&bre=2661139&ver=4&token=4712de3123d99c7b551b9d333cc8dfae\\n#EXTINF:12.040,\\n065_p0029umyxbn.321002.3.ts?index=65&start=653880&end=665920&brs=2661140&bre=3246947&ver=4&token=fb1ec7532b3c7183a92d44f69179fb8e\\n#EXTINF:12.160,\\n066_p0029umyxbn.321002.3.ts?index=66&start=665920&end=678080&brs=3246948&bre=3932207&ver=4&token=5f4597c22c922b6f32f65148a25ad147\\n#EXTINF:11.840,\\n067_p0029umyxbn.321002.3.ts?index=67&start=678080&end=689920&brs=3932208&bre=4600359&ver=4&token=1aa4e8738941ef5125f269adfc2a6006\\n#EXTINF:11.960,\\n068_p0029umyxbn.321002.3.ts?index=68&start=689920&end=701880&brs=4600360&bre=5571191&ver=4&token=1e1c812e37e293fc694374f0f3464fe0\\n#EXTINF:11.440,\\n069_p0029umyxbn.321002.3.ts?index=69&start=701880&end=713320&brs=5571192&bre=6104547&ver=4&token=c5891e077b32ce7dfb97dcb6e7987ee1\\n#EXTINF:8.560,\\n070_p0029umyxbn.321002.3.ts?index=70&start=713320&end=721880&brs=6104548&bre=6849027&ver=4&token=724116992f6c1e316c821dec24428862\\n#EXTINF:8.840,\\n071_p0029umyxbn.321002.3.ts?index=71&start=721880&end=730720&brs=6849028&bre=7821175&ver=4&token=bef7c2f2597cd2c7d2b6ad1c2d2dfe14\\n#EXTINF:9.520,\\n072_p0029umyxbn.321002.3.ts?index=72&start=730720&end=740240&brs=7821176&bre=8695375&ver=4&token=0ba22c17488d52d6af85224fd513b08d\\n#EXTINF:9.520,\\n073_p0029umyxbn.321002.3.ts?index=73&start=740240&end=749760&brs=8695376&bre=9609431&ver=4&token=171434a4f748d8a8a83f70bcd6064615\\n#EXTINF:10.160,\\n074_p0029umyxbn.321002.3.ts?index=74&start=749760&end=759920&brs=9609432&bre=10576503&ver=4&token=d5f24630e46de1bf5aa53c856b4fb6e7\\n#EXTINF:9.000,\\n075_p0029umyxbn.321002.3.ts?index=75&start=759920&end=768920&brs=10576504&bre=11965635&ver=4&token=113d8fcb70bd678cea0e09b0efbdf363\\n#EXTINF:9.560,\\n076_p0029umyxbn.321002.3.ts?index=76&start=768920&end=778480&brs=11965636&bre=13064307&ver=4&token=9283ffd1c95af5a4e51d6cd75c04c9c4\\n#EXTINF:10.040,\\n077_p0029umyxbn.321002.3.ts?index=77&start=778480&end=788520&brs=13064308&bre=14028935&ver=4&token=5970156da7e8465e343482d4e2f65fea\\n#EXTINF:9.640,\\n078_p0029umyxbn.321002.3.ts?index=78&start=788520&end=798160&brs=14028936&bre=15217471&ver=4&token=7746e54938b3257b0a9b0701d979cd96\\n#EXTINF:11.600,\\n079_p0029umyxbn.321002.3.ts?index=79&start=798160&end=809760&brs=15217472&bre=16429695&ver=4&token=d3a3e2fa8dfd8506c2edca057fb90034\\n#EXTINF:9.920,\\n080_p0029umyxbn.321002.3.ts?index=80&start=809760&end=819680&brs=16429696&bre=17135635&ver=4&token=2056daf90ff892c7ce32b7d92679d0e9\\n#EXTINF:10.880,\\n081_p0029umyxbn.321002.3.ts?index=81&start=819680&end=830560&brs=17135636&bre=17802095&ver=4&token=bd81a8c445097236e1cc3b6d8cedeace\\n#EXTINF:9.200,\\n082_p0029umyxbn.321002.3.ts?index=82&start=830560&end=839760&brs=17802096&bre=18535295&ver=4&token=96f7587e52acf17e24944327d3baf70a\\n#EXTINF:9.480,\\n083_p0029umyxbn.321002.3.ts?index=83&start=839760&end=849240&brs=18535296&bre=19646375&ver=4&token=2027d7b05393fb44d6517d86b5d02232\\n#EXTINF:8.960,\\n084_p0029umyxbn.321002.3.ts?index=84&start=849240&end=858200&brs=19646376&bre=20493691&ver=4&token=8b84450a497b80db554bf1c5ae5466cf\\n#EXTINF:10.120,\\n085_p0029umyxbn.321002.3.ts?index=85&start=858200&end=868320&brs=20493692&bre=21361875&ver=4&token=50269d7c228fe9d8bce91c63ea577fb3\\n#EXTINF:10.480,\\n086_p0029umyxbn.321002.3.ts?index=86&start=868320&end=878800&brs=21361876&bre=22077779&ver=4&token=574e6a03a39735306b6f3302de6223f8\\n#EXTINF:12.480,\\n087_p0029umyxbn.321002.3.ts?index=87&start=878800&end=891280&brs=22077780&bre=23099183&ver=4&token=47d7222c3d7ea34ad8a7e56b02ee7a6b\\n#EXTINF:8.000,\\n088_p0029umyxbn.321002.3.ts?index=88&start=891280&end=899280&brs=23099184&bre=23717891&ver=4&token=a257641658689140f5e34ae56734715e\\n#EXTINF:9.080,\\n089_p0029umyxbn.321002.3.ts?index=89&start=899280&end=908360&brs=23717892&bre=25277727&ver=4&token=4e4b9784828c67f0764f2b634e328e4a\\n#EXTINF:9.520,\\n090_p0029umyxbn.321002.4.ts?index=90&start=908360&end=917880&brs=0&bre=980043&ver=4&token=3347172cd4bf1c647732f3ee19ff0f81\\n#EXTINF:9.880,\\n091_p0029umyxbn.321002.4.ts?index=91&start=917880&end=927760&brs=980044&bre=1914027&ver=4&token=18abcc64b124f2e261d59f9bc18282e9\\n#EXTINF:7.520,\\n092_p0029umyxbn.321002.4.ts?index=92&start=927760&end=935280&brs=1914028&bre=2459415&ver=4&token=5ff5cbc507b80f88111e9131497c8d4d\\n#EXTINF:12.000,\\n093_p0029umyxbn.321002.4.ts?index=93&start=935280&end=947280&brs=2459416&bre=3188479&ver=4&token=067f74de1e20e40869d46d9caea2e8a7\\n#EXTINF:12.000,\\n094_p0029umyxbn.321002.4.ts?index=94&start=947280&end=959280&brs=3188480&bre=3752291&ver=4&token=3fc427bc83d79f91ee642ed0247b1877\\n#EXTINF:12.000,\\n095_p0029umyxbn.321002.4.ts?index=95&start=959280&end=971280&brs=3752292&bre=4399199&ver=4&token=795a44662b643fd1dd2fddf5047c3f01\\n#EXTINF:12.000,\\n096_p0029umyxbn.321002.4.ts?index=96&start=971280&end=983280&brs=4399200&bre=5417219&ver=4&token=9ed33946479c59db63fb9c63aa700581\\n#EXTINF:12.000,\\n097_p0029umyxbn.321002.4.ts?index=97&start=983280&end=995280&brs=5417220&bre=6607447&ver=4&token=b6fbe2dd5a9054a7c9f983c00d7e22a9\\n#EXTINF:12.000,\\n098_p0029umyxbn.321002.4.ts?index=98&start=995280&end=1007280&brs=6607448&bre=7605727&ver=4&token=430b01d9d90394e30ce0b7ae034e12a3\\n#EXTINF:12.000,\\n099_p0029umyxbn.321002.4.ts?index=99&start=1007280&end=1019280&brs=7605728&bre=8865139&ver=4&token=73e19baee8f4fb6a178ef86c1490341e\\n#EXTINF:12.000,\\n0100_p0029umyxbn.321002.4.ts?index=100&start=1019280&end=1031280&brs=8865140&bre=9987499&ver=4&token=27a5c332a4793bb53a54f1b5040cbcae\\n#EXTINF:12.000,\\n0101_p0029umyxbn.321002.4.ts?index=101&start=1031280&end=1043280&brs=9987500&bre=10859443&ver=4&token=04e6ccd10192f370e657e3a138680a54\\n#EXTINF:12.680,\\n0102_p0029umyxbn.321002.4.ts?index=102&start=1043280&end=1055960&brs=10859444&bre=12132203&ver=4&token=b27c37452850f98507d4a6a8f80de6cf\\n#EXTINF:12.000,\\n0103_p0029umyxbn.321002.4.ts?index=103&start=1055960&end=1067960&brs=12132204&bre=13070135&ver=4&token=d902a6e7537a73d93e61f4e66de69193\\n#EXTINF:9.840,\\n0104_p0029umyxbn.321002.4.ts?index=104&start=1067960&end=1077800&brs=13070136&bre=13911623&ver=4&token=1e4f2138575a0cc590bf69d39739002f\\n#EXTINF:9.720,\\n0105_p0029umyxbn.321002.4.ts?index=105&start=1077800&end=1087520&brs=13911624&bre=15394003&ver=4&token=daf94ed1331645df58050f45809560f8\\n#EXTINF:9.360,\\n0106_p0029umyxbn.321002.4.ts?index=106&start=1087520&end=1096880&brs=15394004&bre=17112887&ver=4&token=a09b9a64651725f54c9aac3a42877300\\n#EXTINF:7.973,\\n0107_p0029umyxbn.321002.4.ts?index=107&start=1096880&end=1104853&brs=17112888&bre=18026567&ver=4&token=0c835e930265f143eeacc3e4528b5fae\\n#EXT-X-ENDLIST\\n'"
      ]
     },
     "execution_count": 15,
     "metadata": {},
     "output_type": "execute_result"
    }
   ],
   "source": [
    "m3u8_data = requests.get(url=m3u8_url,headers=headers).text\n",
    "m3u8_data"
   ]
  },
  {
   "cell_type": "code",
   "execution_count": 16,
   "id": "22e98abd",
   "metadata": {
    "scrolled": true
   },
   "outputs": [
    {
     "data": {
      "text/plain": [
       "['00_p0029umyxbn.321002.1.ts?index=0&start=0&end=8000&brs=0&bre=486543&ver=4&token=1c1e35d5e50d84063c5e2e9b85f5e931',\n",
       " '01_p0029umyxbn.321002.1.ts?index=1&start=8000&end=19960&brs=486544&bre=1123863&ver=4&token=2e026c7fe292e7948e61faaf021468cb',\n",
       " '02_p0029umyxbn.321002.1.ts?index=2&start=19960&end=30000&brs=1123864&bre=1520731&ver=4&token=03e9fa104b48dbb4d733da4c039b7b72',\n",
       " '03_p0029umyxbn.321002.1.ts?index=3&start=30000&end=39240&brs=1520732&bre=2213511&ver=4&token=28dfbcde50af0e76a4d0ac9c3d96c502',\n",
       " '04_p0029umyxbn.321002.1.ts?index=4&start=39240&end=50840&brs=2213512&bre=3140163&ver=4&token=97172e780845948969b708a62dcffc1a',\n",
       " '05_p0029umyxbn.321002.1.ts?index=5&start=50840&end=60000&brs=3140164&bre=3545867&ver=4&token=e662a05361428ea8e77ddacd3ec3be5c',\n",
       " '06_p0029umyxbn.321002.1.ts?index=6&start=60000&end=72800&brs=3545868&bre=4244099&ver=4&token=24cc1ef60e2a2a74f857c78fe391d786',\n",
       " '07_p0029umyxbn.321002.1.ts?index=7&start=72800&end=83800&brs=4244100&bre=4964891&ver=4&token=9d72817eb029bc7023e85bc066288066',\n",
       " '08_p0029umyxbn.321002.1.ts?index=8&start=83800&end=95000&brs=4964892&bre=5462339&ver=4&token=c468e2fea15b6c39e708e3cb952e7600',\n",
       " '09_p0029umyxbn.321002.1.ts?index=9&start=95000&end=103680&brs=5462340&bre=6151923&ver=4&token=aacb98af980c91d3e21e50b368c39a86',\n",
       " '010_p0029umyxbn.321002.1.ts?index=10&start=103680&end=115560&brs=6151924&bre=6853915&ver=4&token=5282fb074e81bc4ea08b4796c7cbe81d',\n",
       " '011_p0029umyxbn.321002.1.ts?index=11&start=115560&end=126000&brs=6853916&bre=7341963&ver=4&token=509b96138c01655ca6b710fd15fecb52',\n",
       " '012_p0029umyxbn.321002.1.ts?index=12&start=126000&end=135440&brs=7341964&bre=7970259&ver=4&token=ec82ed5458ff48d01726dccab428c9bb',\n",
       " '013_p0029umyxbn.321002.1.ts?index=13&start=135440&end=144280&brs=7970260&bre=8470903&ver=4&token=17d76d70550297aa9ac51c91680d92b9',\n",
       " '014_p0029umyxbn.321002.1.ts?index=14&start=144280&end=152600&brs=8470904&bre=8939023&ver=4&token=e4c26bab2d21197f3cc622aca386af30',\n",
       " '015_p0029umyxbn.321002.1.ts?index=15&start=152600&end=163760&brs=8939024&bre=9588563&ver=4&token=5385224604d9f5f24b8e01d4ba7bc894',\n",
       " '016_p0029umyxbn.321002.1.ts?index=16&start=163760&end=174880&brs=9588564&bre=10169107&ver=4&token=313a3b7f2534c104a46c6ad4570f7c95',\n",
       " '017_p0029umyxbn.321002.1.ts?index=17&start=174880&end=185840&brs=10169108&bre=10471975&ver=4&token=f036cfb5f292cc1a89aa3f2cf79b2e99',\n",
       " '018_p0029umyxbn.321002.1.ts?index=18&start=185840&end=197440&brs=10471976&bre=11134675&ver=4&token=07b2bfc498951957f6dfa2e89ee998a2',\n",
       " '019_p0029umyxbn.321002.1.ts?index=19&start=197440&end=207240&brs=11134676&bre=11818995&ver=4&token=76e680723f85b6b5f037ffef94234991',\n",
       " '020_p0029umyxbn.321002.1.ts?index=20&start=207240&end=215680&brs=11818996&bre=12379611&ver=4&token=013ccdad8fae9b03128037e2054c17dd',\n",
       " '021_p0029umyxbn.321002.1.ts?index=21&start=215680&end=225920&brs=12379612&bre=12937971&ver=4&token=a4f3037258839c4508bd408b1fb9353f',\n",
       " '022_p0029umyxbn.321002.1.ts?index=22&start=225920&end=233360&brs=12937972&bre=13334463&ver=4&token=b7031c49872b8bad4c7af4e795cc4acc',\n",
       " '023_p0029umyxbn.321002.1.ts?index=23&start=233360&end=245680&brs=13334464&bre=13891507&ver=4&token=14c14c7b8999016f6e1151bea6341e83',\n",
       " '024_p0029umyxbn.321002.1.ts?index=24&start=245680&end=257520&brs=13891508&bre=14657983&ver=4&token=f74a218eb023e912ef2e338c2026392c',\n",
       " '025_p0029umyxbn.321002.1.ts?index=25&start=257520&end=266880&brs=14657984&bre=15002963&ver=4&token=4ec56faf8525f3c45478f90a71560154',\n",
       " '026_p0029umyxbn.321002.1.ts?index=26&start=266880&end=275680&brs=15002964&bre=15326887&ver=4&token=878f982c0df187cc9a0a488aa703abf8',\n",
       " '027_p0029umyxbn.321002.1.ts?index=27&start=275680&end=285240&brs=15326888&bre=15756467&ver=4&token=1955a3742c01ab444f594e07bf8e1adb',\n",
       " '028_p0029umyxbn.321002.1.ts?index=28&start=285240&end=293440&brs=15756468&bre=16505647&ver=4&token=8eb7341da8ebb031491d6ffac103b30a',\n",
       " '029_p0029umyxbn.321002.1.ts?index=29&start=293440&end=304080&brs=16505648&bre=18289391&ver=4&token=85d27f2fce2b44372706f54af3f3591d',\n",
       " '030_p0029umyxbn.321002.2.ts?index=30&start=304080&end=314520&brs=0&bre=1107883&ver=4&token=6ac899b42d0271e3dd59b42958226c7c',\n",
       " '031_p0029umyxbn.321002.2.ts?index=31&start=314520&end=323520&brs=1107884&bre=2181363&ver=4&token=5a6ea97b0c6b23e5ca10d006cfb7e3f2',\n",
       " '032_p0029umyxbn.321002.2.ts?index=32&start=323520&end=335440&brs=2181364&bre=3945931&ver=4&token=aca82dfbcf2ff8fccbe1ed6bd1fdcd2f',\n",
       " '033_p0029umyxbn.321002.2.ts?index=33&start=335440&end=345400&brs=3945932&bre=5320211&ver=4&token=231809189e26ffca898a4cfc9bf84f65',\n",
       " '034_p0029umyxbn.321002.2.ts?index=34&start=345400&end=356320&brs=5320212&bre=6588835&ver=4&token=49af36387d4d69ec4e7f2bcef92ac501',\n",
       " '035_p0029umyxbn.321002.2.ts?index=35&start=356320&end=364760&brs=6588836&bre=7398739&ver=4&token=12b0984b32469e78db2c0b86c966c194',\n",
       " '036_p0029umyxbn.321002.2.ts?index=36&start=364760&end=376760&brs=7398740&bre=8597239&ver=4&token=ec10ecd7d805f2430ffd32baa77cbe7a',\n",
       " '037_p0029umyxbn.321002.2.ts?index=37&start=376760&end=388720&brs=8597240&bre=9319911&ver=4&token=722f91412221678b432490c93b8af2aa',\n",
       " '038_p0029umyxbn.321002.2.ts?index=38&start=388720&end=397840&brs=9319912&bre=10336615&ver=4&token=38087e52089e5e8f48599bfdf89aa5c1',\n",
       " '039_p0029umyxbn.321002.2.ts?index=39&start=397840&end=407760&brs=10336616&bre=11354823&ver=4&token=43574782d7d3c280541c16bcb6400727',\n",
       " '040_p0029umyxbn.321002.2.ts?index=40&start=407760&end=418680&brs=11354824&bre=12408563&ver=4&token=b2f28d3f97cd0f29cf9344a9be1760f5',\n",
       " '041_p0029umyxbn.321002.2.ts?index=41&start=418680&end=427600&brs=12408564&bre=13287087&ver=4&token=ba7aecc7aaf099d6e71f72b791f050e8',\n",
       " '042_p0029umyxbn.321002.2.ts?index=42&start=427600&end=434800&brs=13287088&bre=13861803&ver=4&token=c207de2fcd17c32ff9029318800fe1c0',\n",
       " '043_p0029umyxbn.321002.2.ts?index=43&start=434800&end=442840&brs=13861804&bre=14827747&ver=4&token=b74c6876a6fa847a3e33384df27d9ba9',\n",
       " '044_p0029umyxbn.321002.2.ts?index=44&start=442840&end=452680&brs=14827748&bre=15712287&ver=4&token=813f7f61c01b0ecac79ba0bfe4b694d6',\n",
       " '045_p0029umyxbn.321002.2.ts?index=45&start=452680&end=463520&brs=15712288&bre=17126987&ver=4&token=823d29e0c88bb94c4258ca059e023b96',\n",
       " '046_p0029umyxbn.321002.2.ts?index=46&start=463520&end=471120&brs=17126988&bre=17654703&ver=4&token=8bb71e1dd0b42cf13d65b0a97ba8c02e',\n",
       " '047_p0029umyxbn.321002.2.ts?index=47&start=471120&end=479840&brs=17654704&bre=18507659&ver=4&token=15320557805a1c07d8a0e2983d093ba5',\n",
       " '048_p0029umyxbn.321002.2.ts?index=48&start=479840&end=490680&brs=18507660&bre=19374527&ver=4&token=c2a6e023e7c5313996df799c5b946b56',\n",
       " '049_p0029umyxbn.321002.2.ts?index=49&start=490680&end=499960&brs=19374528&bre=20384275&ver=4&token=12092e220409a1104757760cc3b10b62',\n",
       " '050_p0029umyxbn.321002.2.ts?index=50&start=499960&end=509840&brs=20384276&bre=21756863&ver=4&token=0da7f4c7a687dd984605f5e254403c87',\n",
       " '051_p0029umyxbn.321002.2.ts?index=51&start=509840&end=522680&brs=21756864&bre=23480447&ver=4&token=d97886b368b6201039c60ddc3ac245b2',\n",
       " '052_p0029umyxbn.321002.2.ts?index=52&start=522680&end=532880&brs=23480448&bre=24492451&ver=4&token=bb244be0c050002439efb2237674e161',\n",
       " '053_p0029umyxbn.321002.2.ts?index=53&start=532880&end=541840&brs=24492452&bre=25806195&ver=4&token=4262c192819f28e276aab6077a04ea22',\n",
       " '054_p0029umyxbn.321002.2.ts?index=54&start=541840&end=553760&brs=25806196&bre=26868019&ver=4&token=e9f4fc4f43e797830783a023596c6848',\n",
       " '055_p0029umyxbn.321002.2.ts?index=55&start=553760&end=561440&brs=26868020&bre=27392351&ver=4&token=e5b736e59bbe2158faa91aee7617a9d8',\n",
       " '056_p0029umyxbn.321002.2.ts?index=56&start=561440&end=569840&brs=27392352&bre=27849755&ver=4&token=3936de9f37f8eb2b6423f459c12c04fc',\n",
       " '057_p0029umyxbn.321002.2.ts?index=57&start=569840&end=580960&brs=27849756&bre=28737491&ver=4&token=6d51b025bf25d8461d2a17753728ac7d',\n",
       " '058_p0029umyxbn.321002.2.ts?index=58&start=580960&end=591440&brs=28737492&bre=29289459&ver=4&token=6f3fdb76fef6d602d9baa4a272a52a75',\n",
       " '059_p0029umyxbn.321002.2.ts?index=59&start=591440&end=599920&brs=29289460&bre=29892375&ver=4&token=52b5c07a27ad34d6c8b8977256659a39',\n",
       " '060_p0029umyxbn.321002.3.ts?index=60&start=599920&end=610000&brs=0&bre=441611&ver=4&token=2dfedcc59c74e77f2230f47e3b9f9621',\n",
       " '061_p0029umyxbn.321002.3.ts?index=61&start=610000&end=619800&brs=441612&bre=891871&ver=4&token=b72bfbbc90a53a8cdd71006475287a75',\n",
       " '062_p0029umyxbn.321002.3.ts?index=62&start=619800&end=629920&brs=891872&bre=1441583&ver=4&token=015c797646dda65ac9ab0c36cd4aec2c',\n",
       " '063_p0029umyxbn.321002.3.ts?index=63&start=629920&end=641880&brs=1441584&bre=2208059&ver=4&token=3cc495478f246c18258e470defc3e96b',\n",
       " '064_p0029umyxbn.321002.3.ts?index=64&start=641880&end=653880&brs=2208060&bre=2661139&ver=4&token=4712de3123d99c7b551b9d333cc8dfae',\n",
       " '065_p0029umyxbn.321002.3.ts?index=65&start=653880&end=665920&brs=2661140&bre=3246947&ver=4&token=fb1ec7532b3c7183a92d44f69179fb8e',\n",
       " '066_p0029umyxbn.321002.3.ts?index=66&start=665920&end=678080&brs=3246948&bre=3932207&ver=4&token=5f4597c22c922b6f32f65148a25ad147',\n",
       " '067_p0029umyxbn.321002.3.ts?index=67&start=678080&end=689920&brs=3932208&bre=4600359&ver=4&token=1aa4e8738941ef5125f269adfc2a6006',\n",
       " '068_p0029umyxbn.321002.3.ts?index=68&start=689920&end=701880&brs=4600360&bre=5571191&ver=4&token=1e1c812e37e293fc694374f0f3464fe0',\n",
       " '069_p0029umyxbn.321002.3.ts?index=69&start=701880&end=713320&brs=5571192&bre=6104547&ver=4&token=c5891e077b32ce7dfb97dcb6e7987ee1',\n",
       " '070_p0029umyxbn.321002.3.ts?index=70&start=713320&end=721880&brs=6104548&bre=6849027&ver=4&token=724116992f6c1e316c821dec24428862',\n",
       " '071_p0029umyxbn.321002.3.ts?index=71&start=721880&end=730720&brs=6849028&bre=7821175&ver=4&token=bef7c2f2597cd2c7d2b6ad1c2d2dfe14',\n",
       " '072_p0029umyxbn.321002.3.ts?index=72&start=730720&end=740240&brs=7821176&bre=8695375&ver=4&token=0ba22c17488d52d6af85224fd513b08d',\n",
       " '073_p0029umyxbn.321002.3.ts?index=73&start=740240&end=749760&brs=8695376&bre=9609431&ver=4&token=171434a4f748d8a8a83f70bcd6064615',\n",
       " '074_p0029umyxbn.321002.3.ts?index=74&start=749760&end=759920&brs=9609432&bre=10576503&ver=4&token=d5f24630e46de1bf5aa53c856b4fb6e7',\n",
       " '075_p0029umyxbn.321002.3.ts?index=75&start=759920&end=768920&brs=10576504&bre=11965635&ver=4&token=113d8fcb70bd678cea0e09b0efbdf363',\n",
       " '076_p0029umyxbn.321002.3.ts?index=76&start=768920&end=778480&brs=11965636&bre=13064307&ver=4&token=9283ffd1c95af5a4e51d6cd75c04c9c4',\n",
       " '077_p0029umyxbn.321002.3.ts?index=77&start=778480&end=788520&brs=13064308&bre=14028935&ver=4&token=5970156da7e8465e343482d4e2f65fea',\n",
       " '078_p0029umyxbn.321002.3.ts?index=78&start=788520&end=798160&brs=14028936&bre=15217471&ver=4&token=7746e54938b3257b0a9b0701d979cd96',\n",
       " '079_p0029umyxbn.321002.3.ts?index=79&start=798160&end=809760&brs=15217472&bre=16429695&ver=4&token=d3a3e2fa8dfd8506c2edca057fb90034',\n",
       " '080_p0029umyxbn.321002.3.ts?index=80&start=809760&end=819680&brs=16429696&bre=17135635&ver=4&token=2056daf90ff892c7ce32b7d92679d0e9',\n",
       " '081_p0029umyxbn.321002.3.ts?index=81&start=819680&end=830560&brs=17135636&bre=17802095&ver=4&token=bd81a8c445097236e1cc3b6d8cedeace',\n",
       " '082_p0029umyxbn.321002.3.ts?index=82&start=830560&end=839760&brs=17802096&bre=18535295&ver=4&token=96f7587e52acf17e24944327d3baf70a',\n",
       " '083_p0029umyxbn.321002.3.ts?index=83&start=839760&end=849240&brs=18535296&bre=19646375&ver=4&token=2027d7b05393fb44d6517d86b5d02232',\n",
       " '084_p0029umyxbn.321002.3.ts?index=84&start=849240&end=858200&brs=19646376&bre=20493691&ver=4&token=8b84450a497b80db554bf1c5ae5466cf',\n",
       " '085_p0029umyxbn.321002.3.ts?index=85&start=858200&end=868320&brs=20493692&bre=21361875&ver=4&token=50269d7c228fe9d8bce91c63ea577fb3',\n",
       " '086_p0029umyxbn.321002.3.ts?index=86&start=868320&end=878800&brs=21361876&bre=22077779&ver=4&token=574e6a03a39735306b6f3302de6223f8',\n",
       " '087_p0029umyxbn.321002.3.ts?index=87&start=878800&end=891280&brs=22077780&bre=23099183&ver=4&token=47d7222c3d7ea34ad8a7e56b02ee7a6b',\n",
       " '088_p0029umyxbn.321002.3.ts?index=88&start=891280&end=899280&brs=23099184&bre=23717891&ver=4&token=a257641658689140f5e34ae56734715e',\n",
       " '089_p0029umyxbn.321002.3.ts?index=89&start=899280&end=908360&brs=23717892&bre=25277727&ver=4&token=4e4b9784828c67f0764f2b634e328e4a',\n",
       " '090_p0029umyxbn.321002.4.ts?index=90&start=908360&end=917880&brs=0&bre=980043&ver=4&token=3347172cd4bf1c647732f3ee19ff0f81',\n",
       " '091_p0029umyxbn.321002.4.ts?index=91&start=917880&end=927760&brs=980044&bre=1914027&ver=4&token=18abcc64b124f2e261d59f9bc18282e9',\n",
       " '092_p0029umyxbn.321002.4.ts?index=92&start=927760&end=935280&brs=1914028&bre=2459415&ver=4&token=5ff5cbc507b80f88111e9131497c8d4d',\n",
       " '093_p0029umyxbn.321002.4.ts?index=93&start=935280&end=947280&brs=2459416&bre=3188479&ver=4&token=067f74de1e20e40869d46d9caea2e8a7',\n",
       " '094_p0029umyxbn.321002.4.ts?index=94&start=947280&end=959280&brs=3188480&bre=3752291&ver=4&token=3fc427bc83d79f91ee642ed0247b1877',\n",
       " '095_p0029umyxbn.321002.4.ts?index=95&start=959280&end=971280&brs=3752292&bre=4399199&ver=4&token=795a44662b643fd1dd2fddf5047c3f01',\n",
       " '096_p0029umyxbn.321002.4.ts?index=96&start=971280&end=983280&brs=4399200&bre=5417219&ver=4&token=9ed33946479c59db63fb9c63aa700581',\n",
       " '097_p0029umyxbn.321002.4.ts?index=97&start=983280&end=995280&brs=5417220&bre=6607447&ver=4&token=b6fbe2dd5a9054a7c9f983c00d7e22a9',\n",
       " '098_p0029umyxbn.321002.4.ts?index=98&start=995280&end=1007280&brs=6607448&bre=7605727&ver=4&token=430b01d9d90394e30ce0b7ae034e12a3',\n",
       " '099_p0029umyxbn.321002.4.ts?index=99&start=1007280&end=1019280&brs=7605728&bre=8865139&ver=4&token=73e19baee8f4fb6a178ef86c1490341e',\n",
       " '0100_p0029umyxbn.321002.4.ts?index=100&start=1019280&end=1031280&brs=8865140&bre=9987499&ver=4&token=27a5c332a4793bb53a54f1b5040cbcae',\n",
       " '0101_p0029umyxbn.321002.4.ts?index=101&start=1031280&end=1043280&brs=9987500&bre=10859443&ver=4&token=04e6ccd10192f370e657e3a138680a54',\n",
       " '0102_p0029umyxbn.321002.4.ts?index=102&start=1043280&end=1055960&brs=10859444&bre=12132203&ver=4&token=b27c37452850f98507d4a6a8f80de6cf',\n",
       " '0103_p0029umyxbn.321002.4.ts?index=103&start=1055960&end=1067960&brs=12132204&bre=13070135&ver=4&token=d902a6e7537a73d93e61f4e66de69193',\n",
       " '0104_p0029umyxbn.321002.4.ts?index=104&start=1067960&end=1077800&brs=13070136&bre=13911623&ver=4&token=1e4f2138575a0cc590bf69d39739002f',\n",
       " '0105_p0029umyxbn.321002.4.ts?index=105&start=1077800&end=1087520&brs=13911624&bre=15394003&ver=4&token=daf94ed1331645df58050f45809560f8',\n",
       " '0106_p0029umyxbn.321002.4.ts?index=106&start=1087520&end=1096880&brs=15394004&bre=17112887&ver=4&token=a09b9a64651725f54c9aac3a42877300',\n",
       " '0107_p0029umyxbn.321002.4.ts?index=107&start=1096880&end=1104853&brs=17112888&bre=18026567&ver=4&token=0c835e930265f143eeacc3e4528b5fae']"
      ]
     },
     "execution_count": 16,
     "metadata": {},
     "output_type": "execute_result"
    }
   ],
   "source": [
    "m3u8_data = re.sub('#EXTM3U', '', m3u8_data)\n",
    "m3u8_data = re.sub('#EXT-X-VERSION:\\d', '', m3u8_data)\n",
    "m3u8_data = re.sub('#EXT-X-MEDIA-SEQUENCE:\\d', '', m3u8_data)\n",
    "m3u8_data = re.sub('#EXT-X-TARGETDURATION:\\d+', '', m3u8_data)\n",
    "m3u8_data = re.sub('#EXT-X-PLAYLIST-TYPE:VOD', '', m3u8_data)\n",
    "m3u8_data = re.sub('#EXTINF:\\d+\\.\\d+,', '', m3u8_data)\n",
    "m3u8_data = re.sub('#EXT-X-ENDLIST', '', m3u8_data).split()\n",
    "m3u8_data"
   ]
  },
  {
   "cell_type": "code",
   "execution_count": 17,
   "id": "8e184bff",
   "metadata": {
    "scrolled": true
   },
   "outputs": [
    {
     "name": "stderr",
     "output_type": "stream",
     "text": [
      "  1%|▊                                                                                 | 1/108 [00:00<00:57,  1.87it/s]"
     ]
    },
    {
     "name": "stdout",
     "output_type": "stream",
     "text": [
      "下载完成\n"
     ]
    },
    {
     "name": "stderr",
     "output_type": "stream",
     "text": [
      "\r",
      "  2%|█▌                                                                                | 2/108 [00:01<01:06,  1.60it/s]"
     ]
    },
    {
     "name": "stdout",
     "output_type": "stream",
     "text": [
      "下载完成\n"
     ]
    },
    {
     "name": "stderr",
     "output_type": "stream",
     "text": [
      "\r",
      "  3%|██▎                                                                               | 3/108 [00:01<00:55,  1.90it/s]"
     ]
    },
    {
     "name": "stdout",
     "output_type": "stream",
     "text": [
      "下载完成\n"
     ]
    },
    {
     "name": "stderr",
     "output_type": "stream",
     "text": [
      "\r",
      "  4%|███                                                                               | 4/108 [00:02<00:57,  1.80it/s]"
     ]
    },
    {
     "name": "stdout",
     "output_type": "stream",
     "text": [
      "下载完成\n"
     ]
    },
    {
     "name": "stderr",
     "output_type": "stream",
     "text": [
      "\r",
      "  5%|███▊                                                                              | 5/108 [00:03<01:05,  1.58it/s]"
     ]
    },
    {
     "name": "stdout",
     "output_type": "stream",
     "text": [
      "下载完成\n"
     ]
    },
    {
     "name": "stderr",
     "output_type": "stream",
     "text": [
      "\r",
      "  6%|████▌                                                                             | 6/108 [00:03<00:58,  1.75it/s]"
     ]
    },
    {
     "name": "stdout",
     "output_type": "stream",
     "text": [
      "下载完成\n"
     ]
    },
    {
     "name": "stderr",
     "output_type": "stream",
     "text": [
      "\r",
      "  6%|█████▎                                                                            | 7/108 [00:04<00:59,  1.70it/s]"
     ]
    },
    {
     "name": "stdout",
     "output_type": "stream",
     "text": [
      "下载完成\n"
     ]
    },
    {
     "name": "stderr",
     "output_type": "stream",
     "text": [
      "\r",
      "  7%|██████                                                                            | 8/108 [00:04<00:59,  1.68it/s]"
     ]
    },
    {
     "name": "stdout",
     "output_type": "stream",
     "text": [
      "下载完成\n"
     ]
    },
    {
     "name": "stderr",
     "output_type": "stream",
     "text": [
      "\r",
      "  8%|██████▊                                                                           | 9/108 [00:05<00:56,  1.76it/s]"
     ]
    },
    {
     "name": "stdout",
     "output_type": "stream",
     "text": [
      "下载完成\n"
     ]
    },
    {
     "name": "stderr",
     "output_type": "stream",
     "text": [
      "\r",
      "  9%|███████▌                                                                         | 10/108 [00:05<00:56,  1.72it/s]"
     ]
    },
    {
     "name": "stdout",
     "output_type": "stream",
     "text": [
      "下载完成\n"
     ]
    },
    {
     "name": "stderr",
     "output_type": "stream",
     "text": [
      "\r",
      " 10%|████████▎                                                                        | 11/108 [00:06<00:57,  1.69it/s]"
     ]
    },
    {
     "name": "stdout",
     "output_type": "stream",
     "text": [
      "下载完成\n"
     ]
    },
    {
     "name": "stderr",
     "output_type": "stream",
     "text": [
      "\r",
      " 11%|█████████                                                                        | 12/108 [00:06<00:53,  1.80it/s]"
     ]
    },
    {
     "name": "stdout",
     "output_type": "stream",
     "text": [
      "下载完成\n"
     ]
    },
    {
     "name": "stderr",
     "output_type": "stream",
     "text": [
      "\r",
      " 12%|█████████▊                                                                       | 13/108 [00:07<00:56,  1.69it/s]"
     ]
    },
    {
     "name": "stdout",
     "output_type": "stream",
     "text": [
      "下载完成\n"
     ]
    },
    {
     "name": "stderr",
     "output_type": "stream",
     "text": [
      "\r",
      " 13%|██████████▌                                                                      | 14/108 [00:08<00:55,  1.70it/s]"
     ]
    },
    {
     "name": "stdout",
     "output_type": "stream",
     "text": [
      "下载完成\n"
     ]
    },
    {
     "name": "stderr",
     "output_type": "stream",
     "text": [
      "\r",
      " 14%|███████████▎                                                                     | 15/108 [00:08<00:51,  1.82it/s]"
     ]
    },
    {
     "name": "stdout",
     "output_type": "stream",
     "text": [
      "下载完成\n"
     ]
    },
    {
     "name": "stderr",
     "output_type": "stream",
     "text": [
      "\r",
      " 15%|████████████                                                                     | 16/108 [00:09<00:57,  1.61it/s]"
     ]
    },
    {
     "name": "stdout",
     "output_type": "stream",
     "text": [
      "下载完成\n"
     ]
    },
    {
     "name": "stderr",
     "output_type": "stream",
     "text": [
      "\r",
      " 16%|████████████▊                                                                    | 17/108 [00:09<00:54,  1.67it/s]"
     ]
    },
    {
     "name": "stdout",
     "output_type": "stream",
     "text": [
      "下载完成\n"
     ]
    },
    {
     "name": "stderr",
     "output_type": "stream",
     "text": [
      "\r",
      " 17%|█████████████▌                                                                   | 18/108 [00:10<00:47,  1.88it/s]"
     ]
    },
    {
     "name": "stdout",
     "output_type": "stream",
     "text": [
      "下载完成\n"
     ]
    },
    {
     "name": "stderr",
     "output_type": "stream",
     "text": [
      "\r",
      " 18%|██████████████▎                                                                  | 19/108 [00:10<00:50,  1.78it/s]"
     ]
    },
    {
     "name": "stdout",
     "output_type": "stream",
     "text": [
      "下载完成\n"
     ]
    },
    {
     "name": "stderr",
     "output_type": "stream",
     "text": [
      "\r",
      " 19%|███████████████                                                                  | 20/108 [00:11<00:50,  1.76it/s]"
     ]
    },
    {
     "name": "stdout",
     "output_type": "stream",
     "text": [
      "下载完成\n"
     ]
    },
    {
     "name": "stderr",
     "output_type": "stream",
     "text": [
      "\r",
      " 19%|███████████████▊                                                                 | 21/108 [00:12<00:48,  1.80it/s]"
     ]
    },
    {
     "name": "stdout",
     "output_type": "stream",
     "text": [
      "下载完成\n"
     ]
    },
    {
     "name": "stderr",
     "output_type": "stream",
     "text": [
      "\r",
      " 20%|████████████████▌                                                                | 22/108 [00:12<00:46,  1.84it/s]"
     ]
    },
    {
     "name": "stdout",
     "output_type": "stream",
     "text": [
      "下载完成\n"
     ]
    },
    {
     "name": "stderr",
     "output_type": "stream",
     "text": [
      "\r",
      " 21%|█████████████████▎                                                               | 23/108 [00:13<00:43,  1.97it/s]"
     ]
    },
    {
     "name": "stdout",
     "output_type": "stream",
     "text": [
      "下载完成\n"
     ]
    },
    {
     "name": "stderr",
     "output_type": "stream",
     "text": [
      "\r",
      " 22%|██████████████████                                                               | 24/108 [00:13<00:42,  1.98it/s]"
     ]
    },
    {
     "name": "stdout",
     "output_type": "stream",
     "text": [
      "下载完成\n"
     ]
    },
    {
     "name": "stderr",
     "output_type": "stream",
     "text": [
      "\r",
      " 23%|██████████████████▊                                                              | 25/108 [00:14<00:45,  1.82it/s]"
     ]
    },
    {
     "name": "stdout",
     "output_type": "stream",
     "text": [
      "下载完成\n"
     ]
    },
    {
     "name": "stderr",
     "output_type": "stream",
     "text": [
      "\r",
      " 24%|███████████████████▌                                                             | 26/108 [00:14<00:43,  1.88it/s]"
     ]
    },
    {
     "name": "stdout",
     "output_type": "stream",
     "text": [
      "下载完成\n"
     ]
    },
    {
     "name": "stderr",
     "output_type": "stream",
     "text": [
      "\r",
      " 25%|████████████████████▎                                                            | 27/108 [00:15<00:39,  2.05it/s]"
     ]
    },
    {
     "name": "stdout",
     "output_type": "stream",
     "text": [
      "下载完成\n"
     ]
    },
    {
     "name": "stderr",
     "output_type": "stream",
     "text": [
      "\r",
      " 26%|█████████████████████                                                            | 28/108 [00:15<00:38,  2.08it/s]"
     ]
    },
    {
     "name": "stdout",
     "output_type": "stream",
     "text": [
      "下载完成\n"
     ]
    },
    {
     "name": "stderr",
     "output_type": "stream",
     "text": [
      "\r",
      " 27%|█████████████████████▊                                                           | 29/108 [00:16<00:42,  1.84it/s]"
     ]
    },
    {
     "name": "stdout",
     "output_type": "stream",
     "text": [
      "下载完成\n"
     ]
    },
    {
     "name": "stderr",
     "output_type": "stream",
     "text": [
      "\r",
      " 28%|██████████████████████▌                                                          | 30/108 [00:17<00:58,  1.33it/s]"
     ]
    },
    {
     "name": "stdout",
     "output_type": "stream",
     "text": [
      "下载完成\n"
     ]
    },
    {
     "name": "stderr",
     "output_type": "stream",
     "text": [
      "\r",
      " 29%|███████████████████████▎                                                         | 31/108 [00:18<00:59,  1.28it/s]"
     ]
    },
    {
     "name": "stdout",
     "output_type": "stream",
     "text": [
      "下载完成\n"
     ]
    },
    {
     "name": "stderr",
     "output_type": "stream",
     "text": [
      "\r",
      " 30%|████████████████████████                                                         | 32/108 [00:19<01:02,  1.22it/s]"
     ]
    },
    {
     "name": "stdout",
     "output_type": "stream",
     "text": [
      "下载完成\n"
     ]
    },
    {
     "name": "stderr",
     "output_type": "stream",
     "text": [
      "\r",
      " 31%|████████████████████████▊                                                        | 33/108 [00:20<01:12,  1.03it/s]"
     ]
    },
    {
     "name": "stdout",
     "output_type": "stream",
     "text": [
      "下载完成\n"
     ]
    },
    {
     "name": "stderr",
     "output_type": "stream",
     "text": [
      "\r",
      " 31%|█████████████████████████▌                                                       | 34/108 [00:21<01:12,  1.02it/s]"
     ]
    },
    {
     "name": "stdout",
     "output_type": "stream",
     "text": [
      "下载完成\n"
     ]
    },
    {
     "name": "stderr",
     "output_type": "stream",
     "text": [
      "\r",
      " 32%|██████████████████████████▎                                                      | 35/108 [00:22<01:12,  1.00it/s]"
     ]
    },
    {
     "name": "stdout",
     "output_type": "stream",
     "text": [
      "下载完成\n"
     ]
    },
    {
     "name": "stderr",
     "output_type": "stream",
     "text": [
      "\r",
      " 33%|███████████████████████████                                                      | 36/108 [00:23<01:06,  1.09it/s]"
     ]
    },
    {
     "name": "stdout",
     "output_type": "stream",
     "text": [
      "下载完成\n"
     ]
    },
    {
     "name": "stderr",
     "output_type": "stream",
     "text": [
      "\r",
      " 34%|███████████████████████████▊                                                     | 37/108 [00:24<01:04,  1.10it/s]"
     ]
    },
    {
     "name": "stdout",
     "output_type": "stream",
     "text": [
      "下载完成\n"
     ]
    },
    {
     "name": "stderr",
     "output_type": "stream",
     "text": [
      "\r",
      " 35%|████████████████████████████▌                                                    | 38/108 [00:24<00:58,  1.19it/s]"
     ]
    },
    {
     "name": "stdout",
     "output_type": "stream",
     "text": [
      "下载完成\n"
     ]
    },
    {
     "name": "stderr",
     "output_type": "stream",
     "text": [
      "\r",
      " 36%|█████████████████████████████▎                                                   | 39/108 [00:25<00:57,  1.21it/s]"
     ]
    },
    {
     "name": "stdout",
     "output_type": "stream",
     "text": [
      "下载完成\n"
     ]
    },
    {
     "name": "stderr",
     "output_type": "stream",
     "text": [
      "\r",
      " 37%|██████████████████████████████                                                   | 40/108 [00:26<00:57,  1.18it/s]"
     ]
    },
    {
     "name": "stdout",
     "output_type": "stream",
     "text": [
      "下载完成\n"
     ]
    },
    {
     "name": "stderr",
     "output_type": "stream",
     "text": [
      "\r",
      " 38%|██████████████████████████████▊                                                  | 41/108 [00:27<00:56,  1.19it/s]"
     ]
    },
    {
     "name": "stdout",
     "output_type": "stream",
     "text": [
      "下载完成\n"
     ]
    },
    {
     "name": "stderr",
     "output_type": "stream",
     "text": [
      "\r",
      " 39%|███████████████████████████████▌                                                 | 42/108 [00:28<00:53,  1.23it/s]"
     ]
    },
    {
     "name": "stdout",
     "output_type": "stream",
     "text": [
      "下载完成\n"
     ]
    },
    {
     "name": "stderr",
     "output_type": "stream",
     "text": [
      "\r",
      " 40%|████████████████████████████████▎                                                | 43/108 [00:28<00:47,  1.37it/s]"
     ]
    },
    {
     "name": "stdout",
     "output_type": "stream",
     "text": [
      "下载完成\n"
     ]
    },
    {
     "name": "stderr",
     "output_type": "stream",
     "text": [
      "\r",
      " 41%|█████████████████████████████████                                                | 44/108 [00:29<00:48,  1.31it/s]"
     ]
    },
    {
     "name": "stdout",
     "output_type": "stream",
     "text": [
      "下载完成\n"
     ]
    },
    {
     "name": "stderr",
     "output_type": "stream",
     "text": [
      "\r",
      " 42%|█████████████████████████████████▊                                               | 45/108 [00:30<00:46,  1.35it/s]"
     ]
    },
    {
     "name": "stdout",
     "output_type": "stream",
     "text": [
      "下载完成\n"
     ]
    },
    {
     "name": "stderr",
     "output_type": "stream",
     "text": [
      "\r",
      " 43%|██████████████████████████████████▌                                              | 46/108 [00:31<00:54,  1.13it/s]"
     ]
    },
    {
     "name": "stdout",
     "output_type": "stream",
     "text": [
      "下载完成\n"
     ]
    },
    {
     "name": "stderr",
     "output_type": "stream",
     "text": [
      "\r",
      " 44%|███████████████████████████████████▎                                             | 47/108 [00:32<00:49,  1.23it/s]"
     ]
    },
    {
     "name": "stdout",
     "output_type": "stream",
     "text": [
      "下载完成\n"
     ]
    },
    {
     "name": "stderr",
     "output_type": "stream",
     "text": [
      "\r",
      " 44%|████████████████████████████████████                                             | 48/108 [00:32<00:47,  1.26it/s]"
     ]
    },
    {
     "name": "stdout",
     "output_type": "stream",
     "text": [
      "下载完成\n"
     ]
    },
    {
     "name": "stderr",
     "output_type": "stream",
     "text": [
      "\r",
      " 45%|████████████████████████████████████▊                                            | 49/108 [00:33<00:45,  1.29it/s]"
     ]
    },
    {
     "name": "stdout",
     "output_type": "stream",
     "text": [
      "下载完成\n"
     ]
    },
    {
     "name": "stderr",
     "output_type": "stream",
     "text": [
      "\r",
      " 46%|█████████████████████████████████████▌                                           | 50/108 [00:34<00:46,  1.25it/s]"
     ]
    },
    {
     "name": "stdout",
     "output_type": "stream",
     "text": [
      "下载完成\n"
     ]
    },
    {
     "name": "stderr",
     "output_type": "stream",
     "text": [
      "\r",
      " 47%|██████████████████████████████████████▎                                          | 51/108 [00:35<00:53,  1.06it/s]"
     ]
    },
    {
     "name": "stdout",
     "output_type": "stream",
     "text": [
      "下载完成\n"
     ]
    },
    {
     "name": "stderr",
     "output_type": "stream",
     "text": [
      "\r",
      " 48%|███████████████████████████████████████                                          | 52/108 [00:37<01:01,  1.10s/it]"
     ]
    },
    {
     "name": "stdout",
     "output_type": "stream",
     "text": [
      "下载完成\n"
     ]
    },
    {
     "name": "stderr",
     "output_type": "stream",
     "text": [
      "\r",
      " 49%|███████████████████████████████████████▊                                         | 53/108 [00:37<00:56,  1.02s/it]"
     ]
    },
    {
     "name": "stdout",
     "output_type": "stream",
     "text": [
      "下载完成\n"
     ]
    },
    {
     "name": "stderr",
     "output_type": "stream",
     "text": [
      "\r",
      " 50%|████████████████████████████████████████▌                                        | 54/108 [00:38<00:54,  1.01s/it]"
     ]
    },
    {
     "name": "stdout",
     "output_type": "stream",
     "text": [
      "下载完成\n"
     ]
    },
    {
     "name": "stderr",
     "output_type": "stream",
     "text": [
      "\r",
      " 51%|█████████████████████████████████████████▎                                       | 55/108 [00:39<00:50,  1.05it/s]"
     ]
    },
    {
     "name": "stdout",
     "output_type": "stream",
     "text": [
      "下载完成\n"
     ]
    },
    {
     "name": "stderr",
     "output_type": "stream",
     "text": [
      "\r",
      " 52%|██████████████████████████████████████████                                       | 56/108 [00:40<00:43,  1.19it/s]"
     ]
    },
    {
     "name": "stdout",
     "output_type": "stream",
     "text": [
      "下载完成\n"
     ]
    },
    {
     "name": "stderr",
     "output_type": "stream",
     "text": [
      "\r",
      " 53%|██████████████████████████████████████████▊                                      | 57/108 [00:40<00:37,  1.37it/s]"
     ]
    },
    {
     "name": "stdout",
     "output_type": "stream",
     "text": [
      "下载完成\n"
     ]
    },
    {
     "name": "stderr",
     "output_type": "stream",
     "text": [
      "\r",
      " 54%|███████████████████████████████████████████▌                                     | 58/108 [00:41<00:38,  1.30it/s]"
     ]
    },
    {
     "name": "stdout",
     "output_type": "stream",
     "text": [
      "下载完成\n"
     ]
    },
    {
     "name": "stderr",
     "output_type": "stream",
     "text": [
      "\r",
      " 55%|████████████████████████████████████████████▎                                    | 59/108 [00:42<00:33,  1.45it/s]"
     ]
    },
    {
     "name": "stdout",
     "output_type": "stream",
     "text": [
      "下载完成\n"
     ]
    },
    {
     "name": "stderr",
     "output_type": "stream",
     "text": [
      "\r",
      " 56%|█████████████████████████████████████████████                                    | 60/108 [00:42<00:33,  1.42it/s]"
     ]
    },
    {
     "name": "stdout",
     "output_type": "stream",
     "text": [
      "下载完成\n"
     ]
    },
    {
     "name": "stderr",
     "output_type": "stream",
     "text": [
      "\r",
      " 56%|█████████████████████████████████████████████▋                                   | 61/108 [00:43<00:32,  1.47it/s]"
     ]
    },
    {
     "name": "stdout",
     "output_type": "stream",
     "text": [
      "下载完成\n"
     ]
    },
    {
     "name": "stderr",
     "output_type": "stream",
     "text": [
      "\r",
      " 57%|██████████████████████████████████████████████▌                                  | 62/108 [00:44<00:28,  1.59it/s]"
     ]
    },
    {
     "name": "stdout",
     "output_type": "stream",
     "text": [
      "下载完成\n"
     ]
    },
    {
     "name": "stderr",
     "output_type": "stream",
     "text": [
      "\r",
      " 58%|███████████████████████████████████████████████▎                                 | 63/108 [00:44<00:28,  1.56it/s]"
     ]
    },
    {
     "name": "stdout",
     "output_type": "stream",
     "text": [
      "下载完成\n"
     ]
    },
    {
     "name": "stderr",
     "output_type": "stream",
     "text": [
      "\r",
      " 59%|████████████████████████████████████████████████                                 | 64/108 [00:45<00:29,  1.47it/s]"
     ]
    },
    {
     "name": "stdout",
     "output_type": "stream",
     "text": [
      "下载完成\n"
     ]
    },
    {
     "name": "stderr",
     "output_type": "stream",
     "text": [
      "\r",
      " 60%|████████████████████████████████████████████████▊                                | 65/108 [00:46<00:28,  1.53it/s]"
     ]
    },
    {
     "name": "stdout",
     "output_type": "stream",
     "text": [
      "下载完成\n"
     ]
    },
    {
     "name": "stderr",
     "output_type": "stream",
     "text": [
      "\r",
      " 61%|█████████████████████████████████████████████████▌                               | 66/108 [00:46<00:27,  1.54it/s]"
     ]
    },
    {
     "name": "stdout",
     "output_type": "stream",
     "text": [
      "下载完成\n"
     ]
    },
    {
     "name": "stderr",
     "output_type": "stream",
     "text": [
      "\r",
      " 62%|██████████████████████████████████████████████████▎                              | 67/108 [00:47<00:25,  1.59it/s]"
     ]
    },
    {
     "name": "stdout",
     "output_type": "stream",
     "text": [
      "下载完成\n"
     ]
    },
    {
     "name": "stderr",
     "output_type": "stream",
     "text": [
      "\r",
      " 63%|███████████████████████████████████████████████████                              | 68/108 [00:47<00:25,  1.55it/s]"
     ]
    },
    {
     "name": "stdout",
     "output_type": "stream",
     "text": [
      "下载完成\n"
     ]
    },
    {
     "name": "stderr",
     "output_type": "stream",
     "text": [
      "\r",
      " 64%|███████████████████████████████████████████████████▋                             | 69/108 [00:48<00:26,  1.44it/s]"
     ]
    },
    {
     "name": "stdout",
     "output_type": "stream",
     "text": [
      "下载完成\n"
     ]
    },
    {
     "name": "stderr",
     "output_type": "stream",
     "text": [
      "\r",
      " 65%|████████████████████████████████████████████████████▌                            | 70/108 [00:49<00:24,  1.58it/s]"
     ]
    },
    {
     "name": "stdout",
     "output_type": "stream",
     "text": [
      "下载完成\n"
     ]
    },
    {
     "name": "stderr",
     "output_type": "stream",
     "text": [
      "\r",
      " 66%|█████████████████████████████████████████████████████▎                           | 71/108 [00:49<00:23,  1.54it/s]"
     ]
    },
    {
     "name": "stdout",
     "output_type": "stream",
     "text": [
      "下载完成\n"
     ]
    },
    {
     "name": "stderr",
     "output_type": "stream",
     "text": [
      "\r",
      " 67%|██████████████████████████████████████████████████████                           | 72/108 [00:50<00:25,  1.44it/s]"
     ]
    },
    {
     "name": "stdout",
     "output_type": "stream",
     "text": [
      "下载完成\n"
     ]
    },
    {
     "name": "stderr",
     "output_type": "stream",
     "text": [
      "\r",
      " 68%|██████████████████████████████████████████████████████▊                          | 73/108 [00:51<00:24,  1.40it/s]"
     ]
    },
    {
     "name": "stdout",
     "output_type": "stream",
     "text": [
      "下载完成\n"
     ]
    },
    {
     "name": "stderr",
     "output_type": "stream",
     "text": [
      "\r",
      " 69%|███████████████████████████████████████████████████████▌                         | 74/108 [00:52<00:24,  1.37it/s]"
     ]
    },
    {
     "name": "stdout",
     "output_type": "stream",
     "text": [
      "下载完成\n"
     ]
    },
    {
     "name": "stderr",
     "output_type": "stream",
     "text": [
      "\r",
      " 69%|████████████████████████████████████████████████████████▎                        | 75/108 [00:53<00:25,  1.32it/s]"
     ]
    },
    {
     "name": "stdout",
     "output_type": "stream",
     "text": [
      "下载完成\n"
     ]
    },
    {
     "name": "stderr",
     "output_type": "stream",
     "text": [
      "\r",
      " 70%|█████████████████████████████████████████████████████████                        | 76/108 [00:54<00:27,  1.15it/s]"
     ]
    },
    {
     "name": "stdout",
     "output_type": "stream",
     "text": [
      "下载完成\n"
     ]
    },
    {
     "name": "stderr",
     "output_type": "stream",
     "text": [
      "\r",
      " 71%|█████████████████████████████████████████████████████████▋                       | 77/108 [00:55<00:27,  1.14it/s]"
     ]
    },
    {
     "name": "stdout",
     "output_type": "stream",
     "text": [
      "下载完成\n"
     ]
    },
    {
     "name": "stderr",
     "output_type": "stream",
     "text": [
      "\r",
      " 72%|██████████████████████████████████████████████████████████▌                      | 78/108 [00:55<00:25,  1.17it/s]"
     ]
    },
    {
     "name": "stdout",
     "output_type": "stream",
     "text": [
      "下载完成\n"
     ]
    },
    {
     "name": "stderr",
     "output_type": "stream",
     "text": [
      "\r",
      " 73%|███████████████████████████████████████████████████████████▎                     | 79/108 [00:56<00:25,  1.14it/s]"
     ]
    },
    {
     "name": "stdout",
     "output_type": "stream",
     "text": [
      "下载完成\n"
     ]
    },
    {
     "name": "stderr",
     "output_type": "stream",
     "text": [
      "\r",
      " 74%|████████████████████████████████████████████████████████████                     | 80/108 [00:58<00:26,  1.04it/s]"
     ]
    },
    {
     "name": "stdout",
     "output_type": "stream",
     "text": [
      "下载完成\n"
     ]
    },
    {
     "name": "stderr",
     "output_type": "stream",
     "text": [
      "\r",
      " 75%|████████████████████████████████████████████████████████████▊                    | 81/108 [00:58<00:24,  1.11it/s]"
     ]
    },
    {
     "name": "stdout",
     "output_type": "stream",
     "text": [
      "下载完成\n"
     ]
    },
    {
     "name": "stderr",
     "output_type": "stream",
     "text": [
      "\r",
      " 76%|█████████████████████████████████████████████████████████████▌                   | 82/108 [00:59<00:21,  1.20it/s]"
     ]
    },
    {
     "name": "stdout",
     "output_type": "stream",
     "text": [
      "下载完成\n"
     ]
    },
    {
     "name": "stderr",
     "output_type": "stream",
     "text": [
      "\r",
      " 77%|██████████████████████████████████████████████████████████████▎                  | 83/108 [01:00<00:20,  1.24it/s]"
     ]
    },
    {
     "name": "stdout",
     "output_type": "stream",
     "text": [
      "下载完成\n"
     ]
    },
    {
     "name": "stderr",
     "output_type": "stream",
     "text": [
      "\r",
      " 78%|███████████████████████████████████████████████████████████████                  | 84/108 [01:01<00:20,  1.18it/s]"
     ]
    },
    {
     "name": "stdout",
     "output_type": "stream",
     "text": [
      "下载完成\n"
     ]
    },
    {
     "name": "stderr",
     "output_type": "stream",
     "text": [
      "\r",
      " 79%|███████████████████████████████████████████████████████████████▊                 | 85/108 [01:01<00:18,  1.25it/s]"
     ]
    },
    {
     "name": "stdout",
     "output_type": "stream",
     "text": [
      "下载完成\n"
     ]
    },
    {
     "name": "stderr",
     "output_type": "stream",
     "text": [
      "\r",
      " 80%|████████████████████████████████████████████████████████████████▌                | 86/108 [01:02<00:18,  1.21it/s]"
     ]
    },
    {
     "name": "stdout",
     "output_type": "stream",
     "text": [
      "下载完成\n"
     ]
    },
    {
     "name": "stderr",
     "output_type": "stream",
     "text": [
      "\r",
      " 81%|█████████████████████████████████████████████████████████████████▎               | 87/108 [01:03<00:16,  1.24it/s]"
     ]
    },
    {
     "name": "stdout",
     "output_type": "stream",
     "text": [
      "下载完成\n"
     ]
    },
    {
     "name": "stderr",
     "output_type": "stream",
     "text": [
      "\r",
      " 81%|██████████████████████████████████████████████████████████████████               | 88/108 [01:04<00:16,  1.23it/s]"
     ]
    },
    {
     "name": "stdout",
     "output_type": "stream",
     "text": [
      "下载完成\n"
     ]
    },
    {
     "name": "stderr",
     "output_type": "stream",
     "text": [
      "\r",
      " 82%|██████████████████████████████████████████████████████████████████▊              | 89/108 [01:04<00:14,  1.36it/s]"
     ]
    },
    {
     "name": "stdout",
     "output_type": "stream",
     "text": [
      "下载完成\n"
     ]
    },
    {
     "name": "stderr",
     "output_type": "stream",
     "text": [
      "\r",
      " 83%|███████████████████████████████████████████████████████████████████▌             | 90/108 [01:06<00:16,  1.08it/s]"
     ]
    },
    {
     "name": "stdout",
     "output_type": "stream",
     "text": [
      "下载完成\n"
     ]
    },
    {
     "name": "stderr",
     "output_type": "stream",
     "text": [
      "\r",
      " 84%|████████████████████████████████████████████████████████████████████▎            | 91/108 [01:07<00:14,  1.14it/s]"
     ]
    },
    {
     "name": "stdout",
     "output_type": "stream",
     "text": [
      "下载完成\n"
     ]
    },
    {
     "name": "stderr",
     "output_type": "stream",
     "text": [
      "\r",
      " 85%|█████████████████████████████████████████████████████████████████████            | 92/108 [01:07<00:13,  1.17it/s]"
     ]
    },
    {
     "name": "stdout",
     "output_type": "stream",
     "text": [
      "下载完成\n"
     ]
    },
    {
     "name": "stderr",
     "output_type": "stream",
     "text": [
      "\r",
      " 86%|█████████████████████████████████████████████████████████████████████▊           | 93/108 [01:08<00:11,  1.32it/s]"
     ]
    },
    {
     "name": "stdout",
     "output_type": "stream",
     "text": [
      "下载完成\n"
     ]
    },
    {
     "name": "stderr",
     "output_type": "stream",
     "text": [
      "\r",
      " 87%|██████████████████████████████████████████████████████████████████████▌          | 94/108 [01:09<00:10,  1.32it/s]"
     ]
    },
    {
     "name": "stdout",
     "output_type": "stream",
     "text": [
      "下载完成\n"
     ]
    },
    {
     "name": "stderr",
     "output_type": "stream",
     "text": [
      "\r",
      " 88%|███████████████████████████████████████████████████████████████████████▎         | 95/108 [01:09<00:09,  1.42it/s]"
     ]
    },
    {
     "name": "stdout",
     "output_type": "stream",
     "text": [
      "下载完成\n"
     ]
    },
    {
     "name": "stderr",
     "output_type": "stream",
     "text": [
      "\r",
      " 89%|████████████████████████████████████████████████████████████████████████         | 96/108 [01:10<00:08,  1.40it/s]"
     ]
    },
    {
     "name": "stdout",
     "output_type": "stream",
     "text": [
      "下载完成\n"
     ]
    },
    {
     "name": "stderr",
     "output_type": "stream",
     "text": [
      "\r",
      " 90%|████████████████████████████████████████████████████████████████████████▊        | 97/108 [01:11<00:08,  1.32it/s]"
     ]
    },
    {
     "name": "stdout",
     "output_type": "stream",
     "text": [
      "下载完成\n"
     ]
    },
    {
     "name": "stderr",
     "output_type": "stream",
     "text": [
      "\r",
      " 91%|█████████████████████████████████████████████████████████████████████████▌       | 98/108 [01:12<00:07,  1.25it/s]"
     ]
    },
    {
     "name": "stdout",
     "output_type": "stream",
     "text": [
      "下载完成\n"
     ]
    },
    {
     "name": "stderr",
     "output_type": "stream",
     "text": [
      "\r",
      " 92%|██████████████████████████████████████████████████████████████████████████▎      | 99/108 [01:12<00:07,  1.26it/s]"
     ]
    },
    {
     "name": "stdout",
     "output_type": "stream",
     "text": [
      "下载完成\n"
     ]
    },
    {
     "name": "stderr",
     "output_type": "stream",
     "text": [
      "\r",
      " 93%|██████████████████████████████████████████████████████████████████████████      | 100/108 [01:14<00:06,  1.15it/s]"
     ]
    },
    {
     "name": "stdout",
     "output_type": "stream",
     "text": [
      "下载完成\n"
     ]
    },
    {
     "name": "stderr",
     "output_type": "stream",
     "text": [
      "\r",
      " 94%|██████████████████████████████████████████████████████████████████████████▊     | 101/108 [01:14<00:06,  1.13it/s]"
     ]
    },
    {
     "name": "stdout",
     "output_type": "stream",
     "text": [
      "下载完成\n"
     ]
    },
    {
     "name": "stderr",
     "output_type": "stream",
     "text": [
      "\r",
      " 94%|███████████████████████████████████████████████████████████████████████████▌    | 102/108 [01:15<00:05,  1.17it/s]"
     ]
    },
    {
     "name": "stdout",
     "output_type": "stream",
     "text": [
      "下载完成\n"
     ]
    },
    {
     "name": "stderr",
     "output_type": "stream",
     "text": [
      "\r",
      " 95%|████████████████████████████████████████████████████████████████████████████▎   | 103/108 [01:17<00:05,  1.17s/it]"
     ]
    },
    {
     "name": "stdout",
     "output_type": "stream",
     "text": [
      "下载完成\n"
     ]
    },
    {
     "name": "stderr",
     "output_type": "stream",
     "text": [
      "\r",
      " 96%|█████████████████████████████████████████████████████████████████████████████   | 104/108 [01:19<00:05,  1.43s/it]"
     ]
    },
    {
     "name": "stdout",
     "output_type": "stream",
     "text": [
      "下载完成\n"
     ]
    },
    {
     "name": "stderr",
     "output_type": "stream",
     "text": [
      "\r",
      " 97%|█████████████████████████████████████████████████████████████████████████████▊  | 105/108 [01:20<00:03,  1.29s/it]"
     ]
    },
    {
     "name": "stdout",
     "output_type": "stream",
     "text": [
      "下载完成\n"
     ]
    },
    {
     "name": "stderr",
     "output_type": "stream",
     "text": [
      "\r",
      " 98%|██████████████████████████████████████████████████████████████████████████████▌ | 106/108 [01:24<00:04,  2.03s/it]"
     ]
    },
    {
     "name": "stdout",
     "output_type": "stream",
     "text": [
      "下载完成\n"
     ]
    },
    {
     "name": "stderr",
     "output_type": "stream",
     "text": [
      "\r",
      " 99%|███████████████████████████████████████████████████████████████████████████████▎| 107/108 [01:26<00:02,  2.13s/it]"
     ]
    },
    {
     "name": "stdout",
     "output_type": "stream",
     "text": [
      "下载完成\n"
     ]
    },
    {
     "name": "stderr",
     "output_type": "stream",
     "text": [
      "100%|████████████████████████████████████████████████████████████████████████████████| 108/108 [01:27<00:00,  1.23it/s]"
     ]
    },
    {
     "name": "stdout",
     "output_type": "stream",
     "text": [
      "下载完成\n"
     ]
    },
    {
     "name": "stderr",
     "output_type": "stream",
     "text": [
      "\n"
     ]
    }
   ],
   "source": [
    "for ts in tqdm(m3u8_data):\n",
    "    ts_url = surl + ts\n",
    "    ts_content = requests.get(url=ts_url).content\n",
    "    with open('雪鹰领主1.mp4', mode='ab') as f:\n",
    "        f.write(ts_content)\n",
    "    print('下载完成')"
   ]
  },
  {
   "cell_type": "code",
   "execution_count": null,
   "id": "c4cefc4e",
   "metadata": {},
   "outputs": [],
   "source": []
  }
 ],
 "metadata": {
  "kernelspec": {
   "display_name": "Python 3 (ipykernel)",
   "language": "python",
   "name": "python3"
  },
  "language_info": {
   "codemirror_mode": {
    "name": "ipython",
    "version": 3
   },
   "file_extension": ".py",
   "mimetype": "text/x-python",
   "name": "python",
   "nbconvert_exporter": "python",
   "pygments_lexer": "ipython3",
   "version": "3.9.7"
  }
 },
 "nbformat": 4,
 "nbformat_minor": 5
}
